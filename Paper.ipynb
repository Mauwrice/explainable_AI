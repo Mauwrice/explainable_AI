{
 "cells": [
  {
   "cell_type": "code",
   "execution_count": 1,
   "metadata": {},
   "outputs": [
    {
     "name": "stdout",
     "output_type": "stream",
     "text": [
      "2.4.0\n"
     ]
    },
    {
     "name": "stderr",
     "output_type": "stream",
     "text": [
      "Using TensorFlow backend.\n"
     ]
    }
   ],
   "source": [
    "# Tensorflow/Keras\n",
    "import tensorflow as tf\n",
    "print(tf.__version__)\n",
    "from tensorflow import keras\n",
    "#from keras import backend as K\n",
    "from tensorflow.keras.callbacks import ModelCheckpoint\n",
    "from tensorflow.keras import layers\n",
    "from tensorflow.keras import regularizers\n",
    "from keras.utils import to_categorical\n",
    "#from keras.utils import to_categorical\n",
    "#from classification_models_3D.tfkeras import Classifiers"
   ]
  },
  {
   "cell_type": "code",
   "execution_count": 2,
   "metadata": {},
   "outputs": [
    {
     "name": "stdout",
     "output_type": "stream",
     "text": [
      "2.4.0\n",
      "2.4.0\n"
     ]
    }
   ],
   "source": [
    "print(keras.__version__)\n",
    "print(tf.__version__)"
   ]
  },
  {
   "cell_type": "code",
   "execution_count": 3,
   "metadata": {},
   "outputs": [],
   "source": [
    "import os\n",
    "import h5py\n",
    "import pandas as pd\n",
    "import numpy as np\n",
    "import tensorflow as tf\n",
    "from sklearn.model_selection import StratifiedKFold\n",
    "from tensorflow import keras\n",
    "#from keras import backend as K\n",
    "#from classification_models_3D.tfkeras import Classifiers\n",
    "from tensorflow.keras.optimizers import Adam"
   ]
  },
  {
   "cell_type": "code",
   "execution_count": 4,
   "metadata": {},
   "outputs": [
    {
     "name": "stdout",
     "output_type": "stream",
     "text": [
      "/tf/notebooks/schnemau/xAI_stroke_3d\n"
     ]
    }
   ],
   "source": [
    "DIR = \"/tf/notebooks/schnemau/xAI_stroke_3d/\"\n",
    "os.chdir(DIR)\n",
    "print(os.getcwd())"
   ]
  },
  {
   "cell_type": "code",
   "execution_count": 5,
   "metadata": {},
   "outputs": [],
   "source": [
    "IMG_DIR = \"/tf/notebooks/hezo/stroke_perfusion/data/\"\n",
    "OUTPUT_DIR = \"/tf/notebooks/schnemau/xAI_stroke_3d/data/\"\n",
    "path_img = IMG_DIR + 'dicom_2d_192x192x3_clean_interpolated_18_02_2021_preprocessed2.h5'\n",
    "path_tab = IMG_DIR + 'baseline_data_zurich_prepared.csv'"
   ]
  },
  {
   "cell_type": "code",
   "execution_count": 6,
   "metadata": {},
   "outputs": [
    {
     "name": "stdout",
     "output_type": "stream",
     "text": [
      "image shape in:  (439, 128, 128, 28, 1)\n",
      "image min, max, mean, std:  -0.7314910890799393 26.423200798592248 -4.100563400421584e-18 1.0\n",
      "tabular shape in:  (507, 16)\n"
     ]
    }
   ],
   "source": [
    "# should only non TIA (transient ischemic attack) patients be included?\n",
    "only_non_tia = False\n",
    "\n",
    "with h5py.File(path_img, \"r\") as h5:\n",
    "    X_in = h5[\"X\"][:]\n",
    "    Y_img = h5[\"Y_img\"][:]\n",
    "    Y_pat = h5[\"Y_pat\"][:]\n",
    "    pat = h5[\"pat\"][:]\n",
    "\n",
    "X_in = np.expand_dims(X_in, axis = 4)\n",
    "\n",
    "print(\"image shape in: \", X_in.shape)\n",
    "print(\"image min, max, mean, std: \", X_in.min(), X_in.max(), X_in.mean(), X_in.std())\n",
    "\n",
    "\n",
    "## read tabular data\n",
    "dat = pd.read_csv(path_tab, sep=\",\")\n",
    "\n",
    "print(\"tabular shape in: \", dat.shape)"
   ]
  },
  {
   "cell_type": "code",
   "execution_count": 7,
   "metadata": {},
   "outputs": [
    {
     "name": "stdout",
     "output_type": "stream",
     "text": [
      "X img out shape:  (407, 128, 128, 28, 3)\n",
      "X tab out shape:  (407, 13)\n",
      "Y mrs out shape:  (407,)\n"
     ]
    }
   ],
   "source": [
    "# get original data\n",
    "\n",
    "n = []\n",
    "for p in pat:\n",
    "    if p in dat.p_id.values:\n",
    "        n.append(p)\n",
    "n = len(n)\n",
    "\n",
    "# match image and tabular data\n",
    "X = np.zeros((n, X_in.shape[1], X_in.shape[2], X_in.shape[3], 3)) #hardcoding for resnet50\n",
    "X_tab = np.zeros((n, 13))\n",
    "Y_mrs = np.zeros((n))\n",
    "Y_eventtia = np.zeros((n))\n",
    "p_id = np.zeros((n))\n",
    "\n",
    "i = 0\n",
    "for j, p in enumerate(pat):\n",
    "    if p in dat.p_id.values:\n",
    "        k = np.where(dat.p_id.values == p)[0]\n",
    "        X_tab[i,:] = dat.loc[k,[\"age\", \"sexm\", \"nihss_baseline\", \"mrs_before\",\n",
    "                               \"stroke_beforey\", \"tia_beforey\", \"ich_beforey\", \n",
    "                               \"rf_hypertoniay\", \"rf_diabetesy\", \"rf_hypercholesterolemiay\", \n",
    "                               \"rf_smokery\", \"rf_atrial_fibrillationy\", \"rf_chdy\"]]\n",
    "        X[i] = X_in[j]\n",
    "        p_id[i] = pat[j]\n",
    "        Y_eventtia[i] = Y_pat[j]\n",
    "        Y_mrs[i] = dat.loc[k, \"mrs3\"]\n",
    "        i += 1\n",
    "p_id = p_id.astype(\"int\")\n",
    "\n",
    "X[:,:,:,:,1] = X[:,:,:,:,0] #hardcoding for resnet50 adjustment (grayscale vs. colour)\n",
    "X[:,:,:,:,2] = X[:,:,:,:,0]\n",
    "        \n",
    "print(\"X img out shape: \", X.shape)\n",
    "print(\"X tab out shape: \", X_tab.shape)\n",
    "print(\"Y mrs out shape: \", Y_mrs.shape)"
   ]
  },
  {
   "cell_type": "code",
   "execution_count": 8,
   "metadata": {},
   "outputs": [],
   "source": [
    "## all mrs <= 2 are favorable all higher unfavorable\n",
    "Y_new = []\n",
    "for element in Y_mrs:\n",
    "    if element in [0,1,2]:\n",
    "        Y_new.append(0)\n",
    "    else:\n",
    "        Y_new.append(1)\n",
    "Y_new = np.array(Y_new)"
   ]
  },
  {
   "cell_type": "code",
   "execution_count": 9,
   "metadata": {},
   "outputs": [
    {
     "data": {
      "text/html": [
       "<div>\n",
       "<style scoped>\n",
       "    .dataframe tbody tr th:only-of-type {\n",
       "        vertical-align: middle;\n",
       "    }\n",
       "\n",
       "    .dataframe tbody tr th {\n",
       "        vertical-align: top;\n",
       "    }\n",
       "\n",
       "    .dataframe thead th {\n",
       "        text-align: right;\n",
       "    }\n",
       "</style>\n",
       "<table border=\"1\" class=\"dataframe\">\n",
       "  <thead>\n",
       "    <tr style=\"text-align: right;\">\n",
       "      <th></th>\n",
       "      <th>p_idx</th>\n",
       "      <th>p_id</th>\n",
       "      <th>mrs</th>\n",
       "      <th>unfavorable</th>\n",
       "    </tr>\n",
       "  </thead>\n",
       "  <tbody>\n",
       "    <tr>\n",
       "      <th>0</th>\n",
       "      <td>1</td>\n",
       "      <td>1</td>\n",
       "      <td>1.0</td>\n",
       "      <td>0</td>\n",
       "    </tr>\n",
       "    <tr>\n",
       "      <th>1</th>\n",
       "      <td>2</td>\n",
       "      <td>2</td>\n",
       "      <td>1.0</td>\n",
       "      <td>0</td>\n",
       "    </tr>\n",
       "    <tr>\n",
       "      <th>2</th>\n",
       "      <td>3</td>\n",
       "      <td>3</td>\n",
       "      <td>0.0</td>\n",
       "      <td>0</td>\n",
       "    </tr>\n",
       "    <tr>\n",
       "      <th>3</th>\n",
       "      <td>4</td>\n",
       "      <td>5</td>\n",
       "      <td>0.0</td>\n",
       "      <td>0</td>\n",
       "    </tr>\n",
       "    <tr>\n",
       "      <th>4</th>\n",
       "      <td>5</td>\n",
       "      <td>6</td>\n",
       "      <td>3.0</td>\n",
       "      <td>1</td>\n",
       "    </tr>\n",
       "    <tr>\n",
       "      <th>...</th>\n",
       "      <td>...</td>\n",
       "      <td>...</td>\n",
       "      <td>...</td>\n",
       "      <td>...</td>\n",
       "    </tr>\n",
       "    <tr>\n",
       "      <th>402</th>\n",
       "      <td>403</td>\n",
       "      <td>555</td>\n",
       "      <td>0.0</td>\n",
       "      <td>0</td>\n",
       "    </tr>\n",
       "    <tr>\n",
       "      <th>403</th>\n",
       "      <td>404</td>\n",
       "      <td>556</td>\n",
       "      <td>0.0</td>\n",
       "      <td>0</td>\n",
       "    </tr>\n",
       "    <tr>\n",
       "      <th>404</th>\n",
       "      <td>405</td>\n",
       "      <td>557</td>\n",
       "      <td>1.0</td>\n",
       "      <td>0</td>\n",
       "    </tr>\n",
       "    <tr>\n",
       "      <th>405</th>\n",
       "      <td>406</td>\n",
       "      <td>559</td>\n",
       "      <td>1.0</td>\n",
       "      <td>0</td>\n",
       "    </tr>\n",
       "    <tr>\n",
       "      <th>406</th>\n",
       "      <td>407</td>\n",
       "      <td>563</td>\n",
       "      <td>0.0</td>\n",
       "      <td>0</td>\n",
       "    </tr>\n",
       "  </tbody>\n",
       "</table>\n",
       "<p>407 rows × 4 columns</p>\n",
       "</div>"
      ],
      "text/plain": [
       "     p_idx  p_id  mrs  unfavorable\n",
       "0        1     1  1.0            0\n",
       "1        2     2  1.0            0\n",
       "2        3     3  0.0            0\n",
       "3        4     5  0.0            0\n",
       "4        5     6  3.0            1\n",
       "..     ...   ...  ...          ...\n",
       "402    403   555  0.0            0\n",
       "403    404   556  0.0            0\n",
       "404    405   557  1.0            0\n",
       "405    406   559  1.0            0\n",
       "406    407   563  0.0            0\n",
       "\n",
       "[407 rows x 4 columns]"
      ]
     },
     "execution_count": 9,
     "metadata": {},
     "output_type": "execute_result"
    }
   ],
   "source": [
    "p_idx = np.arange(0, len(p_id))+1\n",
    "# Safe ids in pd\n",
    "id_tab = pd.DataFrame(\n",
    "    {\"p_idx\": p_idx,\n",
    "     \"p_id\": p_id,\n",
    "     \"mrs\": Y_mrs,\n",
    "     \"unfavorable\": Y_new\n",
    "    }\n",
    ")\n",
    "id_tab"
   ]
  },
  {
   "cell_type": "code",
   "execution_count": 10,
   "metadata": {},
   "outputs": [],
   "source": [
    "# Own functions\n",
    "from functions.plot_slices import plot_slices\n",
    "# ontram functions\n",
    "from k_ontram_functions.ontram import ontram\n",
    "from k_ontram_functions.ontram_loss import ontram_loss\n",
    "from k_ontram_functions.ontram_metrics import ontram_acc, ontram_auc\n",
    "from k_ontram_functions.ontram_predict import predict_ontram, get_parameters\n",
    "from functions.augmentation3d import zoom, rotate, flip, shift"
   ]
  },
  {
   "cell_type": "code",
   "execution_count": 11,
   "metadata": {},
   "outputs": [],
   "source": [
    "# Model for the intercept function: C = number of classes\n",
    "def mod_baseline(C):\n",
    "    mod = keras.Sequential(name = \"mod_baseline\")\n",
    "    mod.add(keras.Input(shape = (1, )))\n",
    "    mod.add(keras.layers.Dense(C - 1, activation = \"linear\", use_bias = False))\n",
    "    return mod\n",
    "\n",
    "# Model for linear shift terms\n",
    "def mod_linear_shift(x):\n",
    "    mod = keras.Sequential(name = \"mod_linear_shift\")\n",
    "    mod.add(keras.Input(shape = (x, )))\n",
    "    mod.add(keras.layers.Dense(1, activation = \"linear\", use_bias = False))\n",
    "    return mod\n",
    "\n",
    "# Model for complex shift terms\n",
    "#def mod_complex_shift(x):\n",
    "#    mod = keras.Sequential(name = \"mod_complex_shift\")\n",
    "#    mod.add(keras.Input(shape = (x, )))\n",
    "#    mod.add(keras.layers.Dense(8, activation = \"relu\"))\n",
    "#    mod.add(keras.layers.Dense(8, activation = \"relu\"))\n",
    "#    mod.add(keras.layers.Dense(1, activation = \"linear\", use_bias = False))\n",
    "#    return mod  "
   ]
  },
  {
   "cell_type": "code",
   "execution_count": 12,
   "metadata": {},
   "outputs": [
    {
     "name": "stdout",
     "output_type": "stream",
     "text": [
      "Model: \"model_1\"\n",
      "__________________________________________________________________________________________________\n",
      "Layer (type)                    Output Shape         Param #     Connected to                     \n",
      "==================================================================================================\n",
      "data (InputLayer)               [(None, 128, 128, 28 0                                            \n",
      "__________________________________________________________________________________________________\n",
      "bn_data (BatchNormalization)    (None, 128, 128, 28, 9           data[0][0]                       \n",
      "__________________________________________________________________________________________________\n",
      "zero_padding3d (ZeroPadding3D)  (None, 134, 134, 34, 0           bn_data[0][0]                    \n",
      "__________________________________________________________________________________________________\n",
      "conv0 (Conv3D)                  (None, 64, 64, 14, 6 65856       zero_padding3d[0][0]             \n",
      "__________________________________________________________________________________________________\n",
      "bn0 (BatchNormalization)        (None, 64, 64, 14, 6 256         conv0[0][0]                      \n",
      "__________________________________________________________________________________________________\n",
      "relu0 (Activation)              (None, 64, 64, 14, 6 0           bn0[0][0]                        \n",
      "__________________________________________________________________________________________________\n",
      "zero_padding3d_1 (ZeroPadding3D (None, 66, 66, 16, 6 0           relu0[0][0]                      \n",
      "__________________________________________________________________________________________________\n",
      "pooling0 (MaxPooling3D)         (None, 32, 32, 7, 64 0           zero_padding3d_1[0][0]           \n",
      "__________________________________________________________________________________________________\n",
      "stage1_unit1_bn1 (BatchNormaliz (None, 32, 32, 7, 64 256         pooling0[0][0]                   \n",
      "__________________________________________________________________________________________________\n",
      "stage1_unit1_relu1 (Activation) (None, 32, 32, 7, 64 0           stage1_unit1_bn1[0][0]           \n",
      "__________________________________________________________________________________________________\n",
      "stage1_unit1_conv1 (Conv3D)     (None, 32, 32, 7, 64 4096        stage1_unit1_relu1[0][0]         \n",
      "__________________________________________________________________________________________________\n",
      "stage1_unit1_bn2 (BatchNormaliz (None, 32, 32, 7, 64 256         stage1_unit1_conv1[0][0]         \n",
      "__________________________________________________________________________________________________\n",
      "stage1_unit1_relu2 (Activation) (None, 32, 32, 7, 64 0           stage1_unit1_bn2[0][0]           \n",
      "__________________________________________________________________________________________________\n",
      "zero_padding3d_2 (ZeroPadding3D (None, 34, 34, 9, 64 0           stage1_unit1_relu2[0][0]         \n",
      "__________________________________________________________________________________________________\n",
      "stage1_unit1_conv2 (Conv3D)     (None, 32, 32, 7, 64 110592      zero_padding3d_2[0][0]           \n",
      "__________________________________________________________________________________________________\n",
      "stage1_unit1_bn3 (BatchNormaliz (None, 32, 32, 7, 64 256         stage1_unit1_conv2[0][0]         \n",
      "__________________________________________________________________________________________________\n",
      "stage1_unit1_relu3 (Activation) (None, 32, 32, 7, 64 0           stage1_unit1_bn3[0][0]           \n",
      "__________________________________________________________________________________________________\n",
      "stage1_unit1_conv3 (Conv3D)     (None, 32, 32, 7, 25 16384       stage1_unit1_relu3[0][0]         \n",
      "__________________________________________________________________________________________________\n",
      "stage1_unit1_sc (Conv3D)        (None, 32, 32, 7, 25 16384       stage1_unit1_relu1[0][0]         \n",
      "__________________________________________________________________________________________________\n",
      "add (Add)                       (None, 32, 32, 7, 25 0           stage1_unit1_conv3[0][0]         \n",
      "                                                                 stage1_unit1_sc[0][0]            \n",
      "__________________________________________________________________________________________________\n",
      "stage1_unit2_bn1 (BatchNormaliz (None, 32, 32, 7, 25 1024        add[0][0]                        \n",
      "__________________________________________________________________________________________________\n",
      "stage1_unit2_relu1 (Activation) (None, 32, 32, 7, 25 0           stage1_unit2_bn1[0][0]           \n",
      "__________________________________________________________________________________________________\n",
      "stage1_unit2_conv1 (Conv3D)     (None, 32, 32, 7, 64 16384       stage1_unit2_relu1[0][0]         \n",
      "__________________________________________________________________________________________________\n",
      "stage1_unit2_bn2 (BatchNormaliz (None, 32, 32, 7, 64 256         stage1_unit2_conv1[0][0]         \n",
      "__________________________________________________________________________________________________\n",
      "stage1_unit2_relu2 (Activation) (None, 32, 32, 7, 64 0           stage1_unit2_bn2[0][0]           \n",
      "__________________________________________________________________________________________________\n",
      "zero_padding3d_3 (ZeroPadding3D (None, 34, 34, 9, 64 0           stage1_unit2_relu2[0][0]         \n",
      "__________________________________________________________________________________________________\n",
      "stage1_unit2_conv2 (Conv3D)     (None, 32, 32, 7, 64 110592      zero_padding3d_3[0][0]           \n",
      "__________________________________________________________________________________________________\n",
      "stage1_unit2_bn3 (BatchNormaliz (None, 32, 32, 7, 64 256         stage1_unit2_conv2[0][0]         \n",
      "__________________________________________________________________________________________________\n",
      "stage1_unit2_relu3 (Activation) (None, 32, 32, 7, 64 0           stage1_unit2_bn3[0][0]           \n",
      "__________________________________________________________________________________________________\n",
      "stage1_unit2_conv3 (Conv3D)     (None, 32, 32, 7, 25 16384       stage1_unit2_relu3[0][0]         \n",
      "__________________________________________________________________________________________________\n",
      "add_1 (Add)                     (None, 32, 32, 7, 25 0           stage1_unit2_conv3[0][0]         \n",
      "                                                                 add[0][0]                        \n",
      "__________________________________________________________________________________________________\n",
      "stage1_unit3_bn1 (BatchNormaliz (None, 32, 32, 7, 25 1024        add_1[0][0]                      \n",
      "__________________________________________________________________________________________________\n",
      "stage1_unit3_relu1 (Activation) (None, 32, 32, 7, 25 0           stage1_unit3_bn1[0][0]           \n",
      "__________________________________________________________________________________________________\n",
      "stage1_unit3_conv1 (Conv3D)     (None, 32, 32, 7, 64 16384       stage1_unit3_relu1[0][0]         \n",
      "__________________________________________________________________________________________________\n",
      "stage1_unit3_bn2 (BatchNormaliz (None, 32, 32, 7, 64 256         stage1_unit3_conv1[0][0]         \n",
      "__________________________________________________________________________________________________\n",
      "stage1_unit3_relu2 (Activation) (None, 32, 32, 7, 64 0           stage1_unit3_bn2[0][0]           \n",
      "__________________________________________________________________________________________________\n",
      "zero_padding3d_4 (ZeroPadding3D (None, 34, 34, 9, 64 0           stage1_unit3_relu2[0][0]         \n",
      "__________________________________________________________________________________________________\n",
      "stage1_unit3_conv2 (Conv3D)     (None, 32, 32, 7, 64 110592      zero_padding3d_4[0][0]           \n",
      "__________________________________________________________________________________________________\n",
      "stage1_unit3_bn3 (BatchNormaliz (None, 32, 32, 7, 64 256         stage1_unit3_conv2[0][0]         \n",
      "__________________________________________________________________________________________________\n",
      "stage1_unit3_relu3 (Activation) (None, 32, 32, 7, 64 0           stage1_unit3_bn3[0][0]           \n",
      "__________________________________________________________________________________________________\n",
      "stage1_unit3_conv3 (Conv3D)     (None, 32, 32, 7, 25 16384       stage1_unit3_relu3[0][0]         \n",
      "__________________________________________________________________________________________________\n",
      "add_2 (Add)                     (None, 32, 32, 7, 25 0           stage1_unit3_conv3[0][0]         \n",
      "                                                                 add_1[0][0]                      \n",
      "__________________________________________________________________________________________________\n",
      "stage2_unit1_bn1 (BatchNormaliz (None, 32, 32, 7, 25 1024        add_2[0][0]                      \n",
      "__________________________________________________________________________________________________\n",
      "stage2_unit1_relu1 (Activation) (None, 32, 32, 7, 25 0           stage2_unit1_bn1[0][0]           \n",
      "__________________________________________________________________________________________________\n",
      "stage2_unit1_conv1 (Conv3D)     (None, 32, 32, 7, 12 32768       stage2_unit1_relu1[0][0]         \n",
      "__________________________________________________________________________________________________\n",
      "stage2_unit1_bn2 (BatchNormaliz (None, 32, 32, 7, 12 512         stage2_unit1_conv1[0][0]         \n",
      "__________________________________________________________________________________________________\n",
      "stage2_unit1_relu2 (Activation) (None, 32, 32, 7, 12 0           stage2_unit1_bn2[0][0]           \n",
      "__________________________________________________________________________________________________\n",
      "zero_padding3d_5 (ZeroPadding3D (None, 34, 34, 9, 12 0           stage2_unit1_relu2[0][0]         \n",
      "__________________________________________________________________________________________________\n",
      "stage2_unit1_conv2 (Conv3D)     (None, 16, 16, 4, 12 442368      zero_padding3d_5[0][0]           \n",
      "__________________________________________________________________________________________________\n",
      "stage2_unit1_bn3 (BatchNormaliz (None, 16, 16, 4, 12 512         stage2_unit1_conv2[0][0]         \n",
      "__________________________________________________________________________________________________\n",
      "stage2_unit1_relu3 (Activation) (None, 16, 16, 4, 12 0           stage2_unit1_bn3[0][0]           \n",
      "__________________________________________________________________________________________________\n",
      "stage2_unit1_conv3 (Conv3D)     (None, 16, 16, 4, 51 65536       stage2_unit1_relu3[0][0]         \n",
      "__________________________________________________________________________________________________\n",
      "stage2_unit1_sc (Conv3D)        (None, 16, 16, 4, 51 131072      stage2_unit1_relu1[0][0]         \n",
      "__________________________________________________________________________________________________\n",
      "add_3 (Add)                     (None, 16, 16, 4, 51 0           stage2_unit1_conv3[0][0]         \n",
      "                                                                 stage2_unit1_sc[0][0]            \n",
      "__________________________________________________________________________________________________\n",
      "stage2_unit2_bn1 (BatchNormaliz (None, 16, 16, 4, 51 2048        add_3[0][0]                      \n",
      "__________________________________________________________________________________________________\n",
      "stage2_unit2_relu1 (Activation) (None, 16, 16, 4, 51 0           stage2_unit2_bn1[0][0]           \n",
      "__________________________________________________________________________________________________\n",
      "stage2_unit2_conv1 (Conv3D)     (None, 16, 16, 4, 12 65536       stage2_unit2_relu1[0][0]         \n",
      "__________________________________________________________________________________________________\n",
      "stage2_unit2_bn2 (BatchNormaliz (None, 16, 16, 4, 12 512         stage2_unit2_conv1[0][0]         \n",
      "__________________________________________________________________________________________________\n",
      "stage2_unit2_relu2 (Activation) (None, 16, 16, 4, 12 0           stage2_unit2_bn2[0][0]           \n",
      "__________________________________________________________________________________________________\n",
      "zero_padding3d_6 (ZeroPadding3D (None, 18, 18, 6, 12 0           stage2_unit2_relu2[0][0]         \n",
      "__________________________________________________________________________________________________\n",
      "stage2_unit2_conv2 (Conv3D)     (None, 16, 16, 4, 12 442368      zero_padding3d_6[0][0]           \n",
      "__________________________________________________________________________________________________\n",
      "stage2_unit2_bn3 (BatchNormaliz (None, 16, 16, 4, 12 512         stage2_unit2_conv2[0][0]         \n",
      "__________________________________________________________________________________________________\n",
      "stage2_unit2_relu3 (Activation) (None, 16, 16, 4, 12 0           stage2_unit2_bn3[0][0]           \n",
      "__________________________________________________________________________________________________\n",
      "stage2_unit2_conv3 (Conv3D)     (None, 16, 16, 4, 51 65536       stage2_unit2_relu3[0][0]         \n",
      "__________________________________________________________________________________________________\n",
      "add_4 (Add)                     (None, 16, 16, 4, 51 0           stage2_unit2_conv3[0][0]         \n",
      "                                                                 add_3[0][0]                      \n",
      "__________________________________________________________________________________________________\n",
      "stage2_unit3_bn1 (BatchNormaliz (None, 16, 16, 4, 51 2048        add_4[0][0]                      \n",
      "__________________________________________________________________________________________________\n",
      "stage2_unit3_relu1 (Activation) (None, 16, 16, 4, 51 0           stage2_unit3_bn1[0][0]           \n",
      "__________________________________________________________________________________________________\n",
      "stage2_unit3_conv1 (Conv3D)     (None, 16, 16, 4, 12 65536       stage2_unit3_relu1[0][0]         \n",
      "__________________________________________________________________________________________________\n",
      "stage2_unit3_bn2 (BatchNormaliz (None, 16, 16, 4, 12 512         stage2_unit3_conv1[0][0]         \n",
      "__________________________________________________________________________________________________\n",
      "stage2_unit3_relu2 (Activation) (None, 16, 16, 4, 12 0           stage2_unit3_bn2[0][0]           \n",
      "__________________________________________________________________________________________________\n",
      "zero_padding3d_7 (ZeroPadding3D (None, 18, 18, 6, 12 0           stage2_unit3_relu2[0][0]         \n",
      "__________________________________________________________________________________________________\n",
      "stage2_unit3_conv2 (Conv3D)     (None, 16, 16, 4, 12 442368      zero_padding3d_7[0][0]           \n",
      "__________________________________________________________________________________________________\n",
      "stage2_unit3_bn3 (BatchNormaliz (None, 16, 16, 4, 12 512         stage2_unit3_conv2[0][0]         \n",
      "__________________________________________________________________________________________________\n",
      "stage2_unit3_relu3 (Activation) (None, 16, 16, 4, 12 0           stage2_unit3_bn3[0][0]           \n",
      "__________________________________________________________________________________________________\n",
      "stage2_unit3_conv3 (Conv3D)     (None, 16, 16, 4, 51 65536       stage2_unit3_relu3[0][0]         \n",
      "__________________________________________________________________________________________________\n",
      "add_5 (Add)                     (None, 16, 16, 4, 51 0           stage2_unit3_conv3[0][0]         \n",
      "                                                                 add_4[0][0]                      \n",
      "__________________________________________________________________________________________________\n",
      "stage2_unit4_bn1 (BatchNormaliz (None, 16, 16, 4, 51 2048        add_5[0][0]                      \n",
      "__________________________________________________________________________________________________\n",
      "stage2_unit4_relu1 (Activation) (None, 16, 16, 4, 51 0           stage2_unit4_bn1[0][0]           \n",
      "__________________________________________________________________________________________________\n",
      "stage2_unit4_conv1 (Conv3D)     (None, 16, 16, 4, 12 65536       stage2_unit4_relu1[0][0]         \n",
      "__________________________________________________________________________________________________\n",
      "stage2_unit4_bn2 (BatchNormaliz (None, 16, 16, 4, 12 512         stage2_unit4_conv1[0][0]         \n",
      "__________________________________________________________________________________________________\n",
      "stage2_unit4_relu2 (Activation) (None, 16, 16, 4, 12 0           stage2_unit4_bn2[0][0]           \n",
      "__________________________________________________________________________________________________\n",
      "zero_padding3d_8 (ZeroPadding3D (None, 18, 18, 6, 12 0           stage2_unit4_relu2[0][0]         \n",
      "__________________________________________________________________________________________________\n",
      "stage2_unit4_conv2 (Conv3D)     (None, 16, 16, 4, 12 442368      zero_padding3d_8[0][0]           \n",
      "__________________________________________________________________________________________________\n",
      "stage2_unit4_bn3 (BatchNormaliz (None, 16, 16, 4, 12 512         stage2_unit4_conv2[0][0]         \n",
      "__________________________________________________________________________________________________\n",
      "stage2_unit4_relu3 (Activation) (None, 16, 16, 4, 12 0           stage2_unit4_bn3[0][0]           \n",
      "__________________________________________________________________________________________________\n",
      "stage2_unit4_conv3 (Conv3D)     (None, 16, 16, 4, 51 65536       stage2_unit4_relu3[0][0]         \n",
      "__________________________________________________________________________________________________\n",
      "add_6 (Add)                     (None, 16, 16, 4, 51 0           stage2_unit4_conv3[0][0]         \n",
      "                                                                 add_5[0][0]                      \n",
      "__________________________________________________________________________________________________\n",
      "stage3_unit1_bn1 (BatchNormaliz (None, 16, 16, 4, 51 2048        add_6[0][0]                      \n",
      "__________________________________________________________________________________________________\n",
      "stage3_unit1_relu1 (Activation) (None, 16, 16, 4, 51 0           stage3_unit1_bn1[0][0]           \n",
      "__________________________________________________________________________________________________\n",
      "stage3_unit1_conv1 (Conv3D)     (None, 16, 16, 4, 25 131072      stage3_unit1_relu1[0][0]         \n",
      "__________________________________________________________________________________________________\n",
      "stage3_unit1_bn2 (BatchNormaliz (None, 16, 16, 4, 25 1024        stage3_unit1_conv1[0][0]         \n",
      "__________________________________________________________________________________________________\n",
      "stage3_unit1_relu2 (Activation) (None, 16, 16, 4, 25 0           stage3_unit1_bn2[0][0]           \n",
      "__________________________________________________________________________________________________\n",
      "zero_padding3d_9 (ZeroPadding3D (None, 18, 18, 6, 25 0           stage3_unit1_relu2[0][0]         \n",
      "__________________________________________________________________________________________________\n",
      "stage3_unit1_conv2 (Conv3D)     (None, 8, 8, 2, 256) 1769472     zero_padding3d_9[0][0]           \n",
      "__________________________________________________________________________________________________\n",
      "stage3_unit1_bn3 (BatchNormaliz (None, 8, 8, 2, 256) 1024        stage3_unit1_conv2[0][0]         \n",
      "__________________________________________________________________________________________________\n",
      "stage3_unit1_relu3 (Activation) (None, 8, 8, 2, 256) 0           stage3_unit1_bn3[0][0]           \n",
      "__________________________________________________________________________________________________\n",
      "stage3_unit1_conv3 (Conv3D)     (None, 8, 8, 2, 1024 262144      stage3_unit1_relu3[0][0]         \n",
      "__________________________________________________________________________________________________\n",
      "stage3_unit1_sc (Conv3D)        (None, 8, 8, 2, 1024 524288      stage3_unit1_relu1[0][0]         \n",
      "__________________________________________________________________________________________________\n",
      "add_7 (Add)                     (None, 8, 8, 2, 1024 0           stage3_unit1_conv3[0][0]         \n",
      "                                                                 stage3_unit1_sc[0][0]            \n",
      "__________________________________________________________________________________________________\n",
      "stage3_unit2_bn1 (BatchNormaliz (None, 8, 8, 2, 1024 4096        add_7[0][0]                      \n",
      "__________________________________________________________________________________________________\n",
      "stage3_unit2_relu1 (Activation) (None, 8, 8, 2, 1024 0           stage3_unit2_bn1[0][0]           \n",
      "__________________________________________________________________________________________________\n",
      "stage3_unit2_conv1 (Conv3D)     (None, 8, 8, 2, 256) 262144      stage3_unit2_relu1[0][0]         \n",
      "__________________________________________________________________________________________________\n",
      "stage3_unit2_bn2 (BatchNormaliz (None, 8, 8, 2, 256) 1024        stage3_unit2_conv1[0][0]         \n",
      "__________________________________________________________________________________________________\n",
      "stage3_unit2_relu2 (Activation) (None, 8, 8, 2, 256) 0           stage3_unit2_bn2[0][0]           \n",
      "__________________________________________________________________________________________________\n",
      "zero_padding3d_10 (ZeroPadding3 (None, 10, 10, 4, 25 0           stage3_unit2_relu2[0][0]         \n",
      "__________________________________________________________________________________________________\n",
      "stage3_unit2_conv2 (Conv3D)     (None, 8, 8, 2, 256) 1769472     zero_padding3d_10[0][0]          \n",
      "__________________________________________________________________________________________________\n",
      "stage3_unit2_bn3 (BatchNormaliz (None, 8, 8, 2, 256) 1024        stage3_unit2_conv2[0][0]         \n",
      "__________________________________________________________________________________________________\n",
      "stage3_unit2_relu3 (Activation) (None, 8, 8, 2, 256) 0           stage3_unit2_bn3[0][0]           \n",
      "__________________________________________________________________________________________________\n",
      "stage3_unit2_conv3 (Conv3D)     (None, 8, 8, 2, 1024 262144      stage3_unit2_relu3[0][0]         \n",
      "__________________________________________________________________________________________________\n",
      "add_8 (Add)                     (None, 8, 8, 2, 1024 0           stage3_unit2_conv3[0][0]         \n",
      "                                                                 add_7[0][0]                      \n",
      "__________________________________________________________________________________________________\n",
      "stage3_unit3_bn1 (BatchNormaliz (None, 8, 8, 2, 1024 4096        add_8[0][0]                      \n",
      "__________________________________________________________________________________________________\n",
      "stage3_unit3_relu1 (Activation) (None, 8, 8, 2, 1024 0           stage3_unit3_bn1[0][0]           \n",
      "__________________________________________________________________________________________________\n",
      "stage3_unit3_conv1 (Conv3D)     (None, 8, 8, 2, 256) 262144      stage3_unit3_relu1[0][0]         \n",
      "__________________________________________________________________________________________________\n",
      "stage3_unit3_bn2 (BatchNormaliz (None, 8, 8, 2, 256) 1024        stage3_unit3_conv1[0][0]         \n",
      "__________________________________________________________________________________________________\n",
      "stage3_unit3_relu2 (Activation) (None, 8, 8, 2, 256) 0           stage3_unit3_bn2[0][0]           \n",
      "__________________________________________________________________________________________________\n",
      "zero_padding3d_11 (ZeroPadding3 (None, 10, 10, 4, 25 0           stage3_unit3_relu2[0][0]         \n",
      "__________________________________________________________________________________________________\n",
      "stage3_unit3_conv2 (Conv3D)     (None, 8, 8, 2, 256) 1769472     zero_padding3d_11[0][0]          \n",
      "__________________________________________________________________________________________________\n",
      "stage3_unit3_bn3 (BatchNormaliz (None, 8, 8, 2, 256) 1024        stage3_unit3_conv2[0][0]         \n",
      "__________________________________________________________________________________________________\n",
      "stage3_unit3_relu3 (Activation) (None, 8, 8, 2, 256) 0           stage3_unit3_bn3[0][0]           \n",
      "__________________________________________________________________________________________________\n",
      "stage3_unit3_conv3 (Conv3D)     (None, 8, 8, 2, 1024 262144      stage3_unit3_relu3[0][0]         \n",
      "__________________________________________________________________________________________________\n",
      "add_9 (Add)                     (None, 8, 8, 2, 1024 0           stage3_unit3_conv3[0][0]         \n",
      "                                                                 add_8[0][0]                      \n",
      "__________________________________________________________________________________________________\n",
      "stage3_unit4_bn1 (BatchNormaliz (None, 8, 8, 2, 1024 4096        add_9[0][0]                      \n",
      "__________________________________________________________________________________________________\n",
      "stage3_unit4_relu1 (Activation) (None, 8, 8, 2, 1024 0           stage3_unit4_bn1[0][0]           \n",
      "__________________________________________________________________________________________________\n",
      "stage3_unit4_conv1 (Conv3D)     (None, 8, 8, 2, 256) 262144      stage3_unit4_relu1[0][0]         \n",
      "__________________________________________________________________________________________________\n",
      "stage3_unit4_bn2 (BatchNormaliz (None, 8, 8, 2, 256) 1024        stage3_unit4_conv1[0][0]         \n",
      "__________________________________________________________________________________________________\n",
      "stage3_unit4_relu2 (Activation) (None, 8, 8, 2, 256) 0           stage3_unit4_bn2[0][0]           \n",
      "__________________________________________________________________________________________________\n",
      "zero_padding3d_12 (ZeroPadding3 (None, 10, 10, 4, 25 0           stage3_unit4_relu2[0][0]         \n",
      "__________________________________________________________________________________________________\n",
      "stage3_unit4_conv2 (Conv3D)     (None, 8, 8, 2, 256) 1769472     zero_padding3d_12[0][0]          \n",
      "__________________________________________________________________________________________________\n",
      "stage3_unit4_bn3 (BatchNormaliz (None, 8, 8, 2, 256) 1024        stage3_unit4_conv2[0][0]         \n",
      "__________________________________________________________________________________________________\n",
      "stage3_unit4_relu3 (Activation) (None, 8, 8, 2, 256) 0           stage3_unit4_bn3[0][0]           \n",
      "__________________________________________________________________________________________________\n",
      "stage3_unit4_conv3 (Conv3D)     (None, 8, 8, 2, 1024 262144      stage3_unit4_relu3[0][0]         \n",
      "__________________________________________________________________________________________________\n",
      "add_10 (Add)                    (None, 8, 8, 2, 1024 0           stage3_unit4_conv3[0][0]         \n",
      "                                                                 add_9[0][0]                      \n",
      "__________________________________________________________________________________________________\n",
      "stage3_unit5_bn1 (BatchNormaliz (None, 8, 8, 2, 1024 4096        add_10[0][0]                     \n",
      "__________________________________________________________________________________________________\n",
      "stage3_unit5_relu1 (Activation) (None, 8, 8, 2, 1024 0           stage3_unit5_bn1[0][0]           \n",
      "__________________________________________________________________________________________________\n",
      "stage3_unit5_conv1 (Conv3D)     (None, 8, 8, 2, 256) 262144      stage3_unit5_relu1[0][0]         \n",
      "__________________________________________________________________________________________________\n",
      "stage3_unit5_bn2 (BatchNormaliz (None, 8, 8, 2, 256) 1024        stage3_unit5_conv1[0][0]         \n",
      "__________________________________________________________________________________________________\n",
      "stage3_unit5_relu2 (Activation) (None, 8, 8, 2, 256) 0           stage3_unit5_bn2[0][0]           \n",
      "__________________________________________________________________________________________________\n",
      "zero_padding3d_13 (ZeroPadding3 (None, 10, 10, 4, 25 0           stage3_unit5_relu2[0][0]         \n",
      "__________________________________________________________________________________________________\n",
      "stage3_unit5_conv2 (Conv3D)     (None, 8, 8, 2, 256) 1769472     zero_padding3d_13[0][0]          \n",
      "__________________________________________________________________________________________________\n",
      "stage3_unit5_bn3 (BatchNormaliz (None, 8, 8, 2, 256) 1024        stage3_unit5_conv2[0][0]         \n",
      "__________________________________________________________________________________________________\n",
      "stage3_unit5_relu3 (Activation) (None, 8, 8, 2, 256) 0           stage3_unit5_bn3[0][0]           \n",
      "__________________________________________________________________________________________________\n",
      "stage3_unit5_conv3 (Conv3D)     (None, 8, 8, 2, 1024 262144      stage3_unit5_relu3[0][0]         \n",
      "__________________________________________________________________________________________________\n",
      "add_11 (Add)                    (None, 8, 8, 2, 1024 0           stage3_unit5_conv3[0][0]         \n",
      "                                                                 add_10[0][0]                     \n",
      "__________________________________________________________________________________________________\n",
      "stage3_unit6_bn1 (BatchNormaliz (None, 8, 8, 2, 1024 4096        add_11[0][0]                     \n",
      "__________________________________________________________________________________________________\n",
      "stage3_unit6_relu1 (Activation) (None, 8, 8, 2, 1024 0           stage3_unit6_bn1[0][0]           \n",
      "__________________________________________________________________________________________________\n",
      "stage3_unit6_conv1 (Conv3D)     (None, 8, 8, 2, 256) 262144      stage3_unit6_relu1[0][0]         \n",
      "__________________________________________________________________________________________________\n",
      "stage3_unit6_bn2 (BatchNormaliz (None, 8, 8, 2, 256) 1024        stage3_unit6_conv1[0][0]         \n",
      "__________________________________________________________________________________________________\n",
      "stage3_unit6_relu2 (Activation) (None, 8, 8, 2, 256) 0           stage3_unit6_bn2[0][0]           \n",
      "__________________________________________________________________________________________________\n",
      "zero_padding3d_14 (ZeroPadding3 (None, 10, 10, 4, 25 0           stage3_unit6_relu2[0][0]         \n",
      "__________________________________________________________________________________________________\n",
      "stage3_unit6_conv2 (Conv3D)     (None, 8, 8, 2, 256) 1769472     zero_padding3d_14[0][0]          \n",
      "__________________________________________________________________________________________________\n",
      "stage3_unit6_bn3 (BatchNormaliz (None, 8, 8, 2, 256) 1024        stage3_unit6_conv2[0][0]         \n",
      "__________________________________________________________________________________________________\n",
      "stage3_unit6_relu3 (Activation) (None, 8, 8, 2, 256) 0           stage3_unit6_bn3[0][0]           \n",
      "__________________________________________________________________________________________________\n",
      "stage3_unit6_conv3 (Conv3D)     (None, 8, 8, 2, 1024 262144      stage3_unit6_relu3[0][0]         \n",
      "__________________________________________________________________________________________________\n",
      "add_12 (Add)                    (None, 8, 8, 2, 1024 0           stage3_unit6_conv3[0][0]         \n",
      "                                                                 add_11[0][0]                     \n",
      "__________________________________________________________________________________________________\n",
      "stage4_unit1_bn1 (BatchNormaliz (None, 8, 8, 2, 1024 4096        add_12[0][0]                     \n",
      "__________________________________________________________________________________________________\n",
      "stage4_unit1_relu1 (Activation) (None, 8, 8, 2, 1024 0           stage4_unit1_bn1[0][0]           \n",
      "__________________________________________________________________________________________________\n",
      "stage4_unit1_conv1 (Conv3D)     (None, 8, 8, 2, 512) 524288      stage4_unit1_relu1[0][0]         \n",
      "__________________________________________________________________________________________________\n",
      "stage4_unit1_bn2 (BatchNormaliz (None, 8, 8, 2, 512) 2048        stage4_unit1_conv1[0][0]         \n",
      "__________________________________________________________________________________________________\n",
      "stage4_unit1_relu2 (Activation) (None, 8, 8, 2, 512) 0           stage4_unit1_bn2[0][0]           \n",
      "__________________________________________________________________________________________________\n",
      "zero_padding3d_15 (ZeroPadding3 (None, 10, 10, 4, 51 0           stage4_unit1_relu2[0][0]         \n",
      "__________________________________________________________________________________________________\n",
      "stage4_unit1_conv2 (Conv3D)     (None, 4, 4, 1, 512) 7077888     zero_padding3d_15[0][0]          \n",
      "__________________________________________________________________________________________________\n",
      "stage4_unit1_bn3 (BatchNormaliz (None, 4, 4, 1, 512) 2048        stage4_unit1_conv2[0][0]         \n",
      "__________________________________________________________________________________________________\n",
      "stage4_unit1_relu3 (Activation) (None, 4, 4, 1, 512) 0           stage4_unit1_bn3[0][0]           \n",
      "__________________________________________________________________________________________________\n",
      "stage4_unit1_conv3 (Conv3D)     (None, 4, 4, 1, 2048 1048576     stage4_unit1_relu3[0][0]         \n",
      "__________________________________________________________________________________________________\n",
      "stage4_unit1_sc (Conv3D)        (None, 4, 4, 1, 2048 2097152     stage4_unit1_relu1[0][0]         \n",
      "__________________________________________________________________________________________________\n",
      "add_13 (Add)                    (None, 4, 4, 1, 2048 0           stage4_unit1_conv3[0][0]         \n",
      "                                                                 stage4_unit1_sc[0][0]            \n",
      "__________________________________________________________________________________________________\n",
      "stage4_unit2_bn1 (BatchNormaliz (None, 4, 4, 1, 2048 8192        add_13[0][0]                     \n",
      "__________________________________________________________________________________________________\n",
      "stage4_unit2_relu1 (Activation) (None, 4, 4, 1, 2048 0           stage4_unit2_bn1[0][0]           \n",
      "__________________________________________________________________________________________________\n",
      "stage4_unit2_conv1 (Conv3D)     (None, 4, 4, 1, 512) 1048576     stage4_unit2_relu1[0][0]         \n",
      "__________________________________________________________________________________________________\n",
      "stage4_unit2_bn2 (BatchNormaliz (None, 4, 4, 1, 512) 2048        stage4_unit2_conv1[0][0]         \n",
      "__________________________________________________________________________________________________\n",
      "stage4_unit2_relu2 (Activation) (None, 4, 4, 1, 512) 0           stage4_unit2_bn2[0][0]           \n",
      "__________________________________________________________________________________________________\n",
      "zero_padding3d_16 (ZeroPadding3 (None, 6, 6, 3, 512) 0           stage4_unit2_relu2[0][0]         \n",
      "__________________________________________________________________________________________________\n",
      "stage4_unit2_conv2 (Conv3D)     (None, 4, 4, 1, 512) 7077888     zero_padding3d_16[0][0]          \n",
      "__________________________________________________________________________________________________\n",
      "stage4_unit2_bn3 (BatchNormaliz (None, 4, 4, 1, 512) 2048        stage4_unit2_conv2[0][0]         \n",
      "__________________________________________________________________________________________________\n",
      "stage4_unit2_relu3 (Activation) (None, 4, 4, 1, 512) 0           stage4_unit2_bn3[0][0]           \n",
      "__________________________________________________________________________________________________\n",
      "stage4_unit2_conv3 (Conv3D)     (None, 4, 4, 1, 2048 1048576     stage4_unit2_relu3[0][0]         \n",
      "__________________________________________________________________________________________________\n",
      "add_14 (Add)                    (None, 4, 4, 1, 2048 0           stage4_unit2_conv3[0][0]         \n",
      "                                                                 add_13[0][0]                     \n",
      "__________________________________________________________________________________________________\n",
      "stage4_unit3_bn1 (BatchNormaliz (None, 4, 4, 1, 2048 8192        add_14[0][0]                     \n",
      "__________________________________________________________________________________________________\n",
      "stage4_unit3_relu1 (Activation) (None, 4, 4, 1, 2048 0           stage4_unit3_bn1[0][0]           \n",
      "__________________________________________________________________________________________________\n",
      "stage4_unit3_conv1 (Conv3D)     (None, 4, 4, 1, 512) 1048576     stage4_unit3_relu1[0][0]         \n",
      "__________________________________________________________________________________________________\n",
      "stage4_unit3_bn2 (BatchNormaliz (None, 4, 4, 1, 512) 2048        stage4_unit3_conv1[0][0]         \n",
      "__________________________________________________________________________________________________\n",
      "stage4_unit3_relu2 (Activation) (None, 4, 4, 1, 512) 0           stage4_unit3_bn2[0][0]           \n",
      "__________________________________________________________________________________________________\n",
      "zero_padding3d_17 (ZeroPadding3 (None, 6, 6, 3, 512) 0           stage4_unit3_relu2[0][0]         \n",
      "__________________________________________________________________________________________________\n",
      "stage4_unit3_conv2 (Conv3D)     (None, 4, 4, 1, 512) 7077888     zero_padding3d_17[0][0]          \n",
      "__________________________________________________________________________________________________\n",
      "stage4_unit3_bn3 (BatchNormaliz (None, 4, 4, 1, 512) 2048        stage4_unit3_conv2[0][0]         \n",
      "__________________________________________________________________________________________________\n",
      "stage4_unit3_relu3 (Activation) (None, 4, 4, 1, 512) 0           stage4_unit3_bn3[0][0]           \n",
      "__________________________________________________________________________________________________\n",
      "stage4_unit3_conv3 (Conv3D)     (None, 4, 4, 1, 2048 1048576     stage4_unit3_relu3[0][0]         \n",
      "__________________________________________________________________________________________________\n",
      "add_15 (Add)                    (None, 4, 4, 1, 2048 0           stage4_unit3_conv3[0][0]         \n",
      "                                                                 add_14[0][0]                     \n",
      "__________________________________________________________________________________________________\n",
      "bn1 (BatchNormalization)        (None, 4, 4, 1, 2048 8192        add_15[0][0]                     \n",
      "__________________________________________________________________________________________________\n",
      "relu1 (Activation)              (None, 4, 4, 1, 2048 0           bn1[0][0]                        \n",
      "__________________________________________________________________________________________________\n",
      "global_average_pooling3d (Globa (None, 2048)         0           relu1[0][0]                      \n",
      "__________________________________________________________________________________________________\n",
      "fc1 (Dense)                     (None, 128)          262272      global_average_pooling3d[0][0]   \n",
      "__________________________________________________________________________________________________\n",
      "fc2 (Dense)                     (None, 128)          16512       fc1[0][0]                        \n",
      "__________________________________________________________________________________________________\n",
      "output (Dense)                  (None, 1)            129         fc2[0][0]                        \n",
      "__________________________________________________________________________________________________\n",
      "output_activation (Activation)  (None, 1)            0           output[0][0]                     \n",
      "==================================================================================================\n",
      "Total params: 46,515,914\n",
      "Trainable params: 46,470,340\n",
      "Non-trainable params: 45,574\n",
      "__________________________________________________________________________________________________\n"
     ]
    }
   ],
   "source": [
    "# ResNet with pretrained weights\n",
    "from classification_models_3D.tfkeras import Classifiers\n",
    "\n",
    "def img_model(nout, last_layer_activation = \"linear\"):\n",
    "    ResNet50, preprocess_input = Classifiers.get('resnet50')\n",
    "    base_model = ResNet50(\n",
    "        input_shape=(128, 128, 28, 3), #TODO hardcoding for resnet50, parameter for image model.....\n",
    "        weights='imagenet', \n",
    "        include_top = False)\n",
    "\n",
    "    # add a global average pooling layer and the dense part and define model\n",
    "    x = base_model.output\n",
    "    x = keras.layers.GlobalAveragePooling3D()(x)\n",
    "    x = keras.layers.Dense(128, name=\"fc1\")(x)\n",
    "    x = keras.layers.Dense(128, name = \"fc2\")(x)\n",
    "    x = keras.layers.Dense(nout, name=\"output\")(x)\n",
    "    predictions = keras.layers.Activation(last_layer_activation, name='output_activation')(x)\n",
    "    \n",
    "    return keras.Model(inputs=base_model.input, outputs=predictions)\n",
    "mod = img_model(1, \"linear\")\n",
    "mod.summary()"
   ]
  },
  {
   "cell_type": "markdown",
   "metadata": {},
   "source": [
    "# Simple intercept, Complex shift, Linear shift\n"
   ]
  },
  {
   "cell_type": "code",
   "execution_count": 13,
   "metadata": {},
   "outputs": [],
   "source": [
    "Y_mrs = Y_new"
   ]
  },
  {
   "cell_type": "code",
   "execution_count": 14,
   "metadata": {},
   "outputs": [
    {
     "name": "stdout",
     "output_type": "stream",
     "text": [
      "X img out shape:  (407, 128, 128, 28, 3)\n",
      "X tab out shape:  (407, 13)\n",
      "Y mrs out shape:  (407,)\n",
      "Y mrs out shape:  (407,)\n"
     ]
    }
   ],
   "source": [
    "print(\"X img out shape: \", X.shape)\n",
    "print(\"X tab out shape: \", X_tab.shape)\n",
    "print(\"Y mrs out shape: \", Y_mrs.shape)\n",
    "print(\"Y mrs out shape: \", Y_new.shape)"
   ]
  },
  {
   "cell_type": "code",
   "execution_count": 15,
   "metadata": {},
   "outputs": [
    {
     "name": "stdout",
     "output_type": "stream",
     "text": [
      "(260, 128, 128, 28, 3) (260, 13) (260, 28) (260,) (260,)\n",
      "(65, 128, 128, 28, 3) (65, 13) (65, 28) (65,) (65,)\n",
      "(82, 128, 128, 28, 3) (82, 13) (82, 28) (82,) (82,)\n"
     ]
    }
   ],
   "source": [
    "# split train validation test\n",
    "from sklearn.model_selection import train_test_split\n",
    "\n",
    "train_idx, test_idx = train_test_split(range(X.shape[0]), train_size = int(X.shape[0]*0.8), random_state = 20)\n",
    "train_idx, valid_idx = train_test_split(range(len(train_idx)), train_size = int(len(train_idx)*0.8), random_state = 20)\n",
    "\n",
    "X_train = X[train_idx]\n",
    "X_valid = X[valid_idx]\n",
    "X_test = X[test_idx]\n",
    "\n",
    "X_tab_train = X_tab[train_idx]\n",
    "X_tab_valid = X_tab[valid_idx]\n",
    "X_tab_test = X_tab[test_idx]\n",
    "\n",
    "Y_img_train = Y_img[train_idx]\n",
    "Y_img_valid = Y_img[valid_idx]\n",
    "Y_img_test = Y_img[test_idx]\n",
    "\n",
    "#Y_pat_train = Y_pat[train_idx]\n",
    "#Y_pat_valid = Y_pat[valid_idx]\n",
    "#Y_pat_test = Y_pat[test_idx]\n",
    "\n",
    "pat_train = p_id[train_idx]\n",
    "pat_valid = p_id[valid_idx]\n",
    "pat_test = p_id[test_idx]\n",
    "\n",
    "Y_mrs_train = Y_mrs[train_idx]\n",
    "Y_mrs_valid = Y_mrs[valid_idx]\n",
    "Y_mrs_test = Y_mrs[test_idx]\n",
    "\n",
    "#print(X_train.shape, X_tab_train.shape, Y_img_train.shape, Y_pat_train.shape, pat_train.shape, Y_mrs_train.shape)\n",
    "#print(X_valid.shape, X_tab_valid.shape, Y_img_valid.shape, Y_pat_valid.shape, pat_valid.shape, Y_mrs_valid.shape)\n",
    "#print(X_test.shape, X_tab_test.shape, Y_img_test.shape, Y_pat_test.shape, pat_test.shape, Y_mrs_test.shape)\n",
    "\n",
    "print(X_train.shape, X_tab_train.shape, Y_img_train.shape, pat_train.shape, Y_mrs_train.shape)\n",
    "print(X_valid.shape, X_tab_valid.shape, Y_img_valid.shape, pat_valid.shape, Y_mrs_valid.shape)\n",
    "print(X_test.shape, X_tab_test.shape, Y_img_test.shape, pat_test.shape, Y_mrs_test.shape)\n"
   ]
  },
  {
   "cell_type": "code",
   "execution_count": 16,
   "metadata": {},
   "outputs": [],
   "source": [
    "# to categorical (only for the patient label stroke vs. no stroke)\n",
    "#Y_pat_train = to_categorical(Y_pat_train)\n",
    "#Y_pat_valid = to_categorical(Y_pat_valid)\n",
    "#Y_pat_test = to_categorical(Y_pat_test)\n",
    "\n",
    "Y_mrs_train = to_categorical(Y_mrs_train)\n",
    "Y_mrs_valid = to_categorical(Y_mrs_valid)\n",
    "Y_mrs_test = to_categorical(Y_mrs_test)"
   ]
  },
  {
   "cell_type": "code",
   "execution_count": 17,
   "metadata": {},
   "outputs": [],
   "source": [
    "#from sklearn.model_selection import train_test_split\n",
    "\n",
    "# Assuming your datasets are named X, X_tab, and Y_mrs\n",
    "\n",
    "# Split the image covariate data (X) into train, valid, and test sets\n",
    "#X_train, X_temp, Y_mrs_train, Y_mrs_temp = train_test_split(X, Y_mrs, test_size=0.2, random_state=42)\n",
    "#X_valid, X_test, Y_mrs_valid, Y_mrs_test = train_test_split(X_temp, Y_mrs_temp, test_size=0.5, random_state=42)\n",
    "\n",
    "# Split the tabular covariate data (X_tab) using the same indices as the image data\n",
    "#X_tab_train, X_tab_temp = train_test_split(X_tab, test_size=0.2, random_state=42)\n",
    "#X_tab_valid, X_tab_test = train_test_split(X_tab_temp, test_size=0.5, random_state=42)\n",
    "\n",
    "# Now, X_train, X_valid, and X_test contain image data,\n",
    "#X_tab_train, X_tab_valid, and X_tab_test contain tabular data,\n",
    "#Y_mrs_train, Y_mrs_valid, and Y_mrs_test contain outcome variable data."
   ]
  },
  {
   "cell_type": "code",
   "execution_count": 18,
   "metadata": {},
   "outputs": [],
   "source": [
    "# function for preprocessing\n",
    "def train_preprocessing(data, label):\n",
    "    \"\"\"Process training data.\"\"\"\n",
    "    intercept = data[0] # intercept\n",
    "    volume = data[1] # shift: image\n",
    "    tabular = data[2] # shift: tabular\n",
    "    volume = zoom(volume)\n",
    "    volume = rotate(volume)\n",
    "    volume = shift(volume)\n",
    "    volume = flip(volume)\n",
    "    return (intercept, volume, tabular), label"
   ]
  },
  {
   "cell_type": "code",
   "execution_count": 19,
   "metadata": {},
   "outputs": [],
   "source": [
    "# Hyperparameters\n",
    "batch_size = 4\n",
    "toplayer_epochs = 40\n",
    "alllayer_epochs = 40"
   ]
  },
  {
   "cell_type": "code",
   "execution_count": 20,
   "metadata": {},
   "outputs": [],
   "source": [
    "# Define datasets for ONTRAM \n",
    "    \n",
    "train_data = tf.data.Dataset.from_tensor_slices((np.ones(shape=[len(X_train),1]), X_train, X_tab_train))\n",
    "train_labels = tf.data.Dataset.from_tensor_slices((Y_mrs_train))\n",
    "    \n",
    "valid_data = tf.data.Dataset.from_tensor_slices((np.ones(shape=[len(X_valid),1]), X_valid, X_tab_valid))\n",
    "valid_labels = tf.data.Dataset.from_tensor_slices((Y_mrs_valid))\n",
    "   \n",
    "test_data = tf.data.Dataset.from_tensor_slices((np.ones(shape=[len(X_test),1]), X_test, X_tab_test))\n",
    "test_labels = tf.data.Dataset.from_tensor_slices((Y_mrs_test))\n",
    "   \n",
    "train_loader = tf.data.Dataset.zip((train_data, train_labels))\n",
    "validation_loader = tf.data.Dataset.zip((valid_data, valid_labels))\n",
    "test_loader = tf.data.Dataset.zip((test_data, test_labels))\n",
    "    \n",
    "train_dataset = (train_loader.shuffle(len(X_train))\n",
    "                    .map(train_preprocessing)\n",
    "                   .batch(batch_size, drop_remainder = True))\n",
    "validation_dataset = (validation_loader.batch(batch_size, drop_remainder = True))\n",
    "test_dataset = (test_loader.batch(len(X_test), drop_remainder = True))\n"
   ]
  },
  {
   "cell_type": "code",
   "execution_count": 21,
   "metadata": {},
   "outputs": [],
   "source": [
    "# Hyperparameters for all models\n",
    "C = 2\n",
    "mbl = mod_baseline(C)\n",
    "mls = mod_linear_shift(X_tab.shape[1])  \n",
    "polr = ontram(mbl, mls)\n",
    "mcs = img_model(1, \"linear\")"
   ]
  },
  {
   "cell_type": "code",
   "execution_count": 22,
   "metadata": {},
   "outputs": [],
   "source": [
    "# start to train the top layers\n",
    "#freezen & überschreiben für jedes Layer\n",
    "for layer in mcs.layers:\n",
    "    layer.trainable = False\n",
    "\n",
    "model = ontram(polr.mod_baseline, [mcs, polr.mod_shift[0]])"
   ]
  },
  {
   "cell_type": "code",
   "execution_count": 23,
   "metadata": {},
   "outputs": [],
   "source": [
    "# compile and train\n",
    "model.compile(\n",
    "    optimizer=Adam(),  # Use Adam optimizer directly here\n",
    "    loss=ontram_loss(C, batch_size),\n",
    "    metrics=[ontram_acc(C, batch_size)]\n",
    ")"
   ]
  },
  {
   "cell_type": "code",
   "execution_count": 24,
   "metadata": {},
   "outputs": [
    {
     "name": "stdout",
     "output_type": "stream",
     "text": [
      "Epoch 1/10\n",
      "65/65 [==============================] - 112s 2s/step - loss: 0.4872 - acc: 0.8057 - val_loss: 0.3567 - val_acc: 0.9062\n",
      "Epoch 2/10\n",
      "65/65 [==============================] - 109s 2s/step - loss: 0.5107 - acc: 0.7877 - val_loss: 0.3459 - val_acc: 0.9062\n",
      "Epoch 3/10\n",
      "65/65 [==============================] - 108s 2s/step - loss: 0.5016 - acc: 0.8238 - val_loss: 0.3367 - val_acc: 0.9062\n",
      "Epoch 4/10\n",
      "65/65 [==============================] - 108s 2s/step - loss: 0.5122 - acc: 0.8016 - val_loss: 0.3284 - val_acc: 0.9062\n",
      "Epoch 5/10\n",
      "65/65 [==============================] - 108s 2s/step - loss: 0.4658 - acc: 0.8294 - val_loss: 0.3210 - val_acc: 0.9062\n",
      "Epoch 6/10\n",
      "65/65 [==============================] - 108s 2s/step - loss: 0.4960 - acc: 0.8194 - val_loss: 0.3148 - val_acc: 0.9062\n",
      "Epoch 7/10\n",
      "65/65 [==============================] - 108s 2s/step - loss: 0.5469 - acc: 0.8086 - val_loss: 0.3075 - val_acc: 0.9062\n",
      "Epoch 8/10\n",
      "65/65 [==============================] - 108s 2s/step - loss: 0.5794 - acc: 0.7688 - val_loss: 0.3023 - val_acc: 0.9062\n",
      "Epoch 9/10\n",
      "65/65 [==============================] - 108s 2s/step - loss: 0.4666 - acc: 0.8429 - val_loss: 0.2975 - val_acc: 0.9062\n",
      "Epoch 10/10\n",
      "65/65 [==============================] - 108s 2s/step - loss: 0.4390 - acc: 0.8215 - val_loss: 0.2922 - val_acc: 0.9062\n"
     ]
    }
   ],
   "source": [
    "toplayer_epochs = 10\n",
    "history = model.fit(\n",
    "    train_dataset,\n",
    "   validation_data=validation_dataset,\n",
    "    epochs=toplayer_epochs)"
   ]
  },
  {
   "cell_type": "code",
   "execution_count": 25,
   "metadata": {},
   "outputs": [],
   "source": [
    "#model.save(\"/tf/notebooks/schnemau/xAI_stroke_3d/model/test1.h5\")\n",
    "#model.load_weights(\"/tf/notebooks/schnemau/xAI_stroke_3d/model/test1\")\n",
    "#model = tf.keras.models.load_model(\"/tf/notebooks/schnemau/xAI_stroke_3d/model/test1\")"
   ]
  },
  {
   "cell_type": "code",
   "execution_count": 26,
   "metadata": {},
   "outputs": [],
   "source": [
    "#history.history"
   ]
  },
  {
   "cell_type": "code",
   "execution_count": 27,
   "metadata": {},
   "outputs": [
    {
     "data": {
      "image/png": "[encoded data removed]",
      "text/plain": [
       "<Figure size 2160x720 with 2 Axes>"
      ]
     },
     "metadata": {
      "needs_background": "light"
     },
     "output_type": "display_data"
    }
   ],
   "source": [
    "import matplotlib.pyplot as plt\n",
    "plt.figure(figsize = (30,10))\n",
    "plt.subplot(1,3,1)\n",
    "plt.plot(history.history['loss'], label = \"loss\")\n",
    "plt.plot(history.history['val_loss'],label = \"val_loss\")\n",
    "plt.legend()\n",
    "plt.subplot(1,3,2)\n",
    "plt.plot(history.history['acc'], label = \"acc\")\n",
    "plt.plot(history.history['val_acc'],label = \"val_acc\")\n",
    "plt.legend()\n",
    "plt.show()"
   ]
  },
  {
   "cell_type": "code",
   "execution_count": 28,
   "metadata": {},
   "outputs": [],
   "source": [
    "preds = predict_ontram(model, data = test_dataset)"
   ]
  },
  {
   "cell_type": "code",
   "execution_count": 29,
   "metadata": {},
   "outputs": [],
   "source": [
    "results = pd.DataFrame(preds[\"pdf\"])"
   ]
  },
  {
   "cell_type": "code",
   "execution_count": 30,
   "metadata": {},
   "outputs": [],
   "source": [
    "y_pred_class = preds['pred_class']\n",
    "y_true_class = np.argmax(Y_mrs_test, axis=1)"
   ]
  },
  {
   "cell_type": "code",
   "execution_count": 31,
   "metadata": {},
   "outputs": [
    {
     "data": {
      "text/html": [
       "<div>\n",
       "<style scoped>\n",
       "    .dataframe tbody tr th:only-of-type {\n",
       "        vertical-align: middle;\n",
       "    }\n",
       "\n",
       "    .dataframe tbody tr th {\n",
       "        vertical-align: top;\n",
       "    }\n",
       "\n",
       "    .dataframe thead th {\n",
       "        text-align: right;\n",
       "    }\n",
       "</style>\n",
       "<table border=\"1\" class=\"dataframe\">\n",
       "  <thead>\n",
       "    <tr style=\"text-align: right;\">\n",
       "      <th></th>\n",
       "      <th>y_pred</th>\n",
       "      <th>y_true</th>\n",
       "      <th>p_id</th>\n",
       "      <th>p_idx</th>\n",
       "    </tr>\n",
       "  </thead>\n",
       "  <tbody>\n",
       "    <tr>\n",
       "      <th>0</th>\n",
       "      <td>0</td>\n",
       "      <td>0</td>\n",
       "      <td>15</td>\n",
       "      <td>11</td>\n",
       "    </tr>\n",
       "    <tr>\n",
       "      <th>1</th>\n",
       "      <td>0</td>\n",
       "      <td>0</td>\n",
       "      <td>376</td>\n",
       "      <td>284</td>\n",
       "    </tr>\n",
       "    <tr>\n",
       "      <th>2</th>\n",
       "      <td>0</td>\n",
       "      <td>0</td>\n",
       "      <td>203</td>\n",
       "      <td>149</td>\n",
       "    </tr>\n",
       "    <tr>\n",
       "      <th>3</th>\n",
       "      <td>0</td>\n",
       "      <td>0</td>\n",
       "      <td>283</td>\n",
       "      <td>201</td>\n",
       "    </tr>\n",
       "    <tr>\n",
       "      <th>4</th>\n",
       "      <td>0</td>\n",
       "      <td>0</td>\n",
       "      <td>62</td>\n",
       "      <td>48</td>\n",
       "    </tr>\n",
       "    <tr>\n",
       "      <th>...</th>\n",
       "      <td>...</td>\n",
       "      <td>...</td>\n",
       "      <td>...</td>\n",
       "      <td>...</td>\n",
       "    </tr>\n",
       "    <tr>\n",
       "      <th>77</th>\n",
       "      <td>0</td>\n",
       "      <td>0</td>\n",
       "      <td>463</td>\n",
       "      <td>327</td>\n",
       "    </tr>\n",
       "    <tr>\n",
       "      <th>78</th>\n",
       "      <td>0</td>\n",
       "      <td>0</td>\n",
       "      <td>59</td>\n",
       "      <td>46</td>\n",
       "    </tr>\n",
       "    <tr>\n",
       "      <th>79</th>\n",
       "      <td>0</td>\n",
       "      <td>1</td>\n",
       "      <td>525</td>\n",
       "      <td>381</td>\n",
       "    </tr>\n",
       "    <tr>\n",
       "      <th>80</th>\n",
       "      <td>0</td>\n",
       "      <td>0</td>\n",
       "      <td>39</td>\n",
       "      <td>29</td>\n",
       "    </tr>\n",
       "    <tr>\n",
       "      <th>81</th>\n",
       "      <td>0</td>\n",
       "      <td>0</td>\n",
       "      <td>320</td>\n",
       "      <td>236</td>\n",
       "    </tr>\n",
       "  </tbody>\n",
       "</table>\n",
       "<p>82 rows × 4 columns</p>\n",
       "</div>"
      ],
      "text/plain": [
       "    y_pred  y_true  p_id  p_idx\n",
       "0        0       0    15     11\n",
       "1        0       0   376    284\n",
       "2        0       0   203    149\n",
       "3        0       0   283    201\n",
       "4        0       0    62     48\n",
       "..     ...     ...   ...    ...\n",
       "77       0       0   463    327\n",
       "78       0       0    59     46\n",
       "79       0       1   525    381\n",
       "80       0       0    39     29\n",
       "81       0       0   320    236\n",
       "\n",
       "[82 rows x 4 columns]"
      ]
     },
     "execution_count": 31,
     "metadata": {},
     "output_type": "execute_result"
    }
   ],
   "source": [
    "results = pd.DataFrame(\n",
    "    {\"y_pred\": y_pred_class,\n",
    "     \"y_true\": y_true_class,\n",
    "     \"p_id\": pat_test\n",
    "    }\n",
    ")\n",
    "results = pd.DataFrame(\n",
    "    {\"y_pred\": y_pred_class,\n",
    "     \"y_true\": y_true_class,\n",
    "     \"p_id\": pat_test,\n",
    "     \"p_idx\": results.merge(id_tab, on='p_id', how='left')['p_idx']\n",
    "\n",
    "    }\n",
    ")\n",
    "results"
   ]
  },
  {
   "cell_type": "code",
   "execution_count": 32,
   "metadata": {},
   "outputs": [
    {
     "data": {
      "text/html": [
       "<div>\n",
       "<style scoped>\n",
       "    .dataframe tbody tr th:only-of-type {\n",
       "        vertical-align: middle;\n",
       "    }\n",
       "\n",
       "    .dataframe tbody tr th {\n",
       "        vertical-align: top;\n",
       "    }\n",
       "\n",
       "    .dataframe thead th {\n",
       "        text-align: right;\n",
       "    }\n",
       "</style>\n",
       "<table border=\"1\" class=\"dataframe\">\n",
       "  <thead>\n",
       "    <tr style=\"text-align: right;\">\n",
       "      <th></th>\n",
       "      <th>y_pred</th>\n",
       "      <th>y_true</th>\n",
       "      <th>p_id</th>\n",
       "      <th>p_idx</th>\n",
       "    </tr>\n",
       "  </thead>\n",
       "  <tbody>\n",
       "    <tr>\n",
       "      <th>0</th>\n",
       "      <td>0</td>\n",
       "      <td>0</td>\n",
       "      <td>15</td>\n",
       "      <td>11</td>\n",
       "    </tr>\n",
       "  </tbody>\n",
       "</table>\n",
       "</div>"
      ],
      "text/plain": [
       "   y_pred  y_true  p_id  p_idx\n",
       "0       0       0    15     11"
      ]
     },
     "execution_count": 32,
     "metadata": {},
     "output_type": "execute_result"
    }
   ],
   "source": [
    "results.iloc[[0]]"
   ]
  },
  {
   "cell_type": "markdown",
   "metadata": {},
   "source": [
    "## Occlusion Part"
   ]
  },
  {
   "cell_type": "code",
   "execution_count": 33,
   "metadata": {},
   "outputs": [],
   "source": [
    "import functions_model_definition as md\n",
    "import functions_read_data as rdat\n",
    "import functions_occlusion as oc\n",
    "import functions_gradcam as gc\n",
    "import functions_plot_heatmap as phm\n",
    "import functions_slider as sl"
   ]
  },
  {
   "cell_type": "code",
   "execution_count": 34,
   "metadata": {},
   "outputs": [],
   "source": [
    "occ_size = (14, 14, 10)\n",
    "occ_stride = 6"
   ]
  },
  {
   "cell_type": "code",
   "execution_count": 35,
   "metadata": {},
   "outputs": [],
   "source": [
    "###per patient input\n",
    "volume = X[0]\n",
    "\n",
    "###\n",
    "occlusion_size = np.array(occ_size)\n",
    "normalize = True\n",
    "both_directions = False\n",
    "invert_hm = \"pred_class\"\n",
    "occlusion_stride = occ_stride\n",
    "input_shape = (128,128,28,3)"
   ]
  },
  {
   "cell_type": "code",
   "execution_count": 36,
   "metadata": {},
   "outputs": [],
   "source": [
    "volume = volume.reshape(input_shape)"
   ]
  },
  {
   "cell_type": "code",
   "execution_count": 37,
   "metadata": {},
   "outputs": [],
   "source": [
    "heatmap_prob_sum = np.zeros((volume.shape[0], volume.shape[1], volume.shape[2]), np.float32)\n",
    "heatmap_occ_n = np.zeros((volume.shape[0], volume.shape[1], volume.shape[2]), np.float32)"
   ]
  },
  {
   "cell_type": "code",
   "execution_count": 38,
   "metadata": {},
   "outputs": [],
   "source": [
    "## Generate all possible occlusions\n",
    "X_occ = []\n",
    "xyz = []\n",
    "for n, (x, y, z, vol_float) in enumerate(oc.iter_occlusion(\n",
    "            volume, size = occlusion_size, stride = occlusion_stride)):\n",
    "            X_occ.append(vol_float.reshape(volume.shape[0], volume.shape[1], volume.shape[2], 3)) #3 changed from 1 manually\n",
    "            xyz.append((x,y,z))\n",
    "            \n"
   ]
  },
  {
   "cell_type": "code",
   "execution_count": 39,
   "metadata": {},
   "outputs": [],
   "source": [
    "len_occ = 200"
   ]
  },
  {
   "cell_type": "code",
   "execution_count": 40,
   "metadata": {},
   "outputs": [],
   "source": [
    "X_occ_2 = np.array(X_occ[0:len_occ])"
   ]
  },
  {
   "cell_type": "code",
   "execution_count": 41,
   "metadata": {},
   "outputs": [],
   "source": [
    "data_loader_1 = np.ones(shape=[len(X_occ_2),1])"
   ]
  },
  {
   "cell_type": "code",
   "execution_count": 42,
   "metadata": {},
   "outputs": [],
   "source": [
    "data_loader_2 = X_occ_2"
   ]
  },
  {
   "cell_type": "code",
   "execution_count": 43,
   "metadata": {},
   "outputs": [],
   "source": [
    "data_loader_3 = np.repeat((X_tab[0],), repeats=len(X_occ_2), axis=0)"
   ]
  },
  {
   "cell_type": "code",
   "execution_count": 44,
   "metadata": {},
   "outputs": [],
   "source": [
    "data_occ = tf.data.Dataset.from_tensor_slices((data_loader_1,data_loader_2,data_loader_3))"
   ]
  },
  {
   "cell_type": "code",
   "execution_count": 45,
   "metadata": {},
   "outputs": [],
   "source": [
    "data_occ_labels = tf.data.Dataset.from_tensor_slices(np.repeat((Y_mrs_test[0],), repeats=len(X_occ_2), axis=0))"
   ]
  },
  {
   "cell_type": "code",
   "execution_count": 46,
   "metadata": {},
   "outputs": [],
   "source": [
    "occ_loader = tf.data.Dataset.zip((data_occ, data_occ_labels))"
   ]
  },
  {
   "cell_type": "code",
   "execution_count": 47,
   "metadata": {},
   "outputs": [],
   "source": [
    "data_occ_full = occ_loader.batch(5, drop_remainder = True)"
   ]
  },
  {
   "cell_type": "code",
   "execution_count": 48,
   "metadata": {},
   "outputs": [],
   "source": [
    "preds_occ = predict_ontram(model, data = data_occ_full)"
   ]
  },
  {
   "cell_type": "code",
   "execution_count": 49,
   "metadata": {},
   "outputs": [
    {
     "data": {
      "text/plain": [
       "array([], shape=(0, 2), dtype=float32)"
      ]
     },
     "execution_count": 49,
     "metadata": {},
     "output_type": "execute_result"
    }
   ],
   "source": [
    "preds_occ['pdf'][i:1]"
   ]
  },
  {
   "cell_type": "code",
   "execution_count": null,
   "metadata": {},
   "outputs": [],
   "source": []
  },
  {
   "cell_type": "code",
   "execution_count": null,
   "metadata": {},
   "outputs": [],
   "source": []
  },
  {
   "cell_type": "code",
   "execution_count": null,
   "metadata": {},
   "outputs": [],
   "source": []
  },
  {
   "cell_type": "code",
   "execution_count": null,
   "metadata": {},
   "outputs": [],
   "source": []
  },
  {
   "cell_type": "code",
   "execution_count": null,
   "metadata": {},
   "outputs": [],
   "source": []
  },
  {
   "cell_type": "code",
   "execution_count": null,
   "metadata": {},
   "outputs": [],
   "source": []
  },
  {
   "cell_type": "code",
   "execution_count": 50,
   "metadata": {},
   "outputs": [
    {
     "data": {
      "text/plain": [
       "0.07678968"
      ]
     },
     "execution_count": 50,
     "metadata": {},
     "output_type": "execute_result"
    }
   ],
   "source": [
    "preds_occ['pdf'][0][1]"
   ]
  },
  {
   "cell_type": "code",
   "execution_count": 51,
   "metadata": {},
   "outputs": [
    {
     "data": {
      "text/plain": [
       "\"for i in range(len_occ):\\n    x,y,z = xyz[i]\\n    heatmap_prob_sum[x:x + occlusion_size[0], y:y + occlusion_size[1], z:z + occlusion_size[2]] += preds_occ['pdf'][i][1]\\n    heatmap_occ_n[x:x + occlusion_size[0], y:y + occlusion_size[1], z:z + occlusion_size[2]] += 1\\n\\nhm = heatmap_prob_sum / heatmap_occ_n # calculate average probability per voxel\""
      ]
     },
     "execution_count": 51,
     "metadata": {},
     "output_type": "execute_result"
    }
   ],
   "source": [
    "'''for i in range(len_occ):\n",
    "    x,y,z = xyz[i]\n",
    "    heatmap_prob_sum[x:x + occlusion_size[0], y:y + occlusion_size[1], z:z + occlusion_size[2]] += preds_occ['pdf'][i][1]\n",
    "    heatmap_occ_n[x:x + occlusion_size[0], y:y + occlusion_size[1], z:z + occlusion_size[2]] += 1\n",
    "\n",
    "hm = heatmap_prob_sum / heatmap_occ_n # calculate average probability per voxel'''"
   ]
  },
  {
   "cell_type": "code",
   "execution_count": 52,
   "metadata": {},
   "outputs": [],
   "source": [
    "#for i in range(200):\n",
    "#    x,y,z = xyz[i]\n",
    "#    heatmap_prob_sum[x:x + occlusion_size[0], y:y + occlusion_size[1], z:z + occlusion_size[2]] += preds_occ['pred_class'][i]\n",
    "#    heatmap_occ_n[x:x + occlusion_size[0], y:y + occlusion_size[1], z:z + occlusion_size[2]] += 1\n",
    "\n",
    "#hm = heatmap_prob_sum / heatmap_occ_n # calculate average probability per voxel"
   ]
  },
  {
   "cell_type": "code",
   "execution_count": 53,
   "metadata": {},
   "outputs": [
    {
     "data": {
      "text/plain": [
       "'phm.plot_heatmap(np.squeeze(X[0]), heatmap_prob_sum,\\n                version = \"overlay\",\\n                mode = \"def\",\\n                slices = (88,72,12),\\n                hm_colormap=\"jet\",\\n                hm_positive=True,\\n                colorbar=True)'"
      ]
     },
     "execution_count": 53,
     "metadata": {},
     "output_type": "execute_result"
    }
   ],
   "source": [
    "'''phm.plot_heatmap(np.squeeze(X[0]), heatmap_prob_sum,\n",
    "                version = \"overlay\",\n",
    "                mode = \"def\",\n",
    "                slices = (88,72,12),\n",
    "                hm_colormap=\"jet\",\n",
    "                hm_positive=True,\n",
    "                colorbar=True)'''"
   ]
  }
 ],
 "metadata": {
  "kernelspec": {
   "display_name": "Python 3",
   "language": "python",
   "name": "python3"
  },
  "language_info": {
   "codemirror_mode": {
    "name": "ipython",
    "version": 3
   },
   "file_extension": ".py",
   "mimetype": "text/x-python",
   "name": "python",
   "nbconvert_exporter": "python",
   "pygments_lexer": "ipython3",
   "version": "3.6.9"
  }
 },
 "nbformat": 4,
 "nbformat_minor": 2
}
