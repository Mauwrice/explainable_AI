{
 "cells": [
  {
   "cell_type": "code",
   "execution_count": 2,
   "metadata": {},
   "outputs": [],
   "source": [
    "import h5py\n",
    "import pandas as pd\n",
    "import numpy as np"
   ]
  },
  {
   "cell_type": "code",
   "execution_count": 3,
   "metadata": {},
   "outputs": [],
   "source": [
    "id_tab = pd.read_csv(\"/tf/notebooks/schnemau/xAI_stroke_3d/data/10Fold_ids_V0.csv\", sep=\",\")"
   ]
  },
  {
   "cell_type": "code",
   "execution_count": 28,
   "metadata": {},
   "outputs": [],
   "source": [
    "dat_norm = pd.read_csv(\"/tf/notebooks/hezo/stroke_perfusion/data/baseline_data_zurich_prepared.csv\", sep = \",\")\n",
    "dat_norm = dat_norm[dat_norm[\"p_id\"].isin(id_tab[\"p_id\"].values)]\n",
    "dat_norm = dat_norm.reset_index(drop=True)"
   ]
  },
  {
   "cell_type": "code",
   "execution_count": 30,
   "metadata": {},
   "outputs": [],
   "source": [
    "dat_og = pd.read_csv(\"/tf/notebooks/schnemau/xAI_stroke_3d/data/baseline_data_zurich_prepared0.csv\", sep=\";\", decimal = \",\")\n",
    "dat_og = dat_og[dat_og[\"p_id\"].isin(id_tab[\"p_id\"].values)]\n",
    "dat_og = dat_og.reset_index(drop=True)"
   ]
  },
  {
   "cell_type": "code",
   "execution_count": 31,
   "metadata": {},
   "outputs": [
    {
     "name": "stdout",
     "output_type": "stream",
     "text": [
      "(407, 16)\n",
      "(407, 18)\n"
     ]
    }
   ],
   "source": [
    "print(dat_norm.shape)\n",
    "print(dat_og.shape)"
   ]
  },
  {
   "cell_type": "markdown",
   "metadata": {},
   "source": [
    "## Heatmap dependence plot"
   ]
  },
  {
   "cell_type": "markdown",
   "metadata": {},
   "source": [
    "##### input\n",
    "- specify patient and covariate\n",
    "- specify heatmap type\n",
    "\n",
    "#### outputs\n",
    "- set of heatmaps\n",
    "- set of assembled, data-frames with predictions"
   ]
  },
  {
   "cell_type": "markdown",
   "metadata": {},
   "source": [
    "# Data generation"
   ]
  },
  {
   "cell_type": "code",
   "execution_count": 107,
   "metadata": {},
   "outputs": [],
   "source": [
    "X = np.load(\"/tf/notebooks/schnemau/xAI_stroke_3d/data/prepocessed_dicom_3d.npy\")\n",
    "(X_train, X_valid, X_test),(X_tab_train, X_tab_valid, X_tab_test), (y_train, y_valid, y_test) = rdat.split_data_tabular(id_tab, X, which_split)"
   ]
  },
  {
   "cell_type": "code",
   "execution_count": 109,
   "metadata": {},
   "outputs": [
    {
     "data": {
      "text/plain": [
       "array([-0.09263432, -1.29584762, -0.16904841,  1.88154169,  2.37904752,\n",
       "       -0.26359616, -0.11820485,  0.71268841,  2.22596351,  0.80633793,\n",
       "        1.79405659, -0.46097582, -0.47349193])"
      ]
     },
     "execution_count": 109,
     "metadata": {},
     "output_type": "execute_result"
    }
   ],
   "source": [
    "X_tab_test[0]"
   ]
  },
  {
   "cell_type": "code",
   "execution_count": 130,
   "metadata": {},
   "outputs": [
    {
     "data": {
      "text/plain": [
       "-3.22279770649683"
      ]
     },
     "execution_count": 130,
     "metadata": {},
     "output_type": "execute_result"
    }
   ],
   "source": [
    "dat_norm[\"age\"].min()\n"
   ]
  },
  {
   "cell_type": "code",
   "execution_count": 132,
   "metadata": {},
   "outputs": [
    {
     "data": {
      "text/plain": [
       "array([-3.22279771, -3.09684252, -2.97088734, -2.84493215, -2.71897697,\n",
       "       -2.59302178, -2.4670666 , -2.34111141, -2.21515623, -2.08920105,\n",
       "       -1.96324586, -1.83729068, -1.71133549, -1.58538031, -1.45942512,\n",
       "       -1.33346994, -1.20751475, -1.08155957, -0.95560438, -0.8296492 ,\n",
       "       -0.70369402, -0.57773883, -0.45178365, -0.32582846, -0.19987328,\n",
       "       -0.07391809,  0.05203709,  0.17799228,  0.30394746,  0.42990265,\n",
       "        0.55585783,  0.68181301,  0.8077682 ,  0.93372338,  1.05967857,\n",
       "        1.18563375,  1.31158894,  1.43754412,  1.56349931,  1.68945449])"
      ]
     },
     "execution_count": 132,
     "metadata": {},
     "output_type": "execute_result"
    }
   ],
   "source": [
    "selected_covariate = \"age\"\n",
    "dat_norm = pd.read_csv(\"/tf/notebooks/hezo/stroke_perfusion/data/baseline_data_zurich_prepared.csv\", sep = \",\")\n",
    "values = np.linspace(dat_norm[selected_covariate].min(), dat_norm[selected_covariate].max(), num=40)\n",
    "\n",
    "\n",
    "\n"
   ]
  },
  {
   "cell_type": "code",
   "execution_count": null,
   "metadata": {},
   "outputs": [],
   "source": [
    "# Assuming X_tab_test is a numpy array\n",
    "covariate_index = 0  # Replace with the actual index of the covariate/column you want to analyze\n",
    "\n",
    "# Generate PDP for the specified covariate\n",
    "values = np.linspace(X_tab_test[:, covariate_index].min(), X_tab_test[:, covariate_index].max(), num=40)\n",
    "partial_dependency_values = []\n",
    "\n",
    "for value in values:\n",
    "    modified_data = X_tab_test.copy()\n",
    "    modified_data[:, covariate_index] = value\n",
    "    modified_input = (X_test, modified_data)  # Keep 3D images constant, modify only covariate\n",
    "    modified_input = tuple(tf.convert_to_tensor(data) for data in modified_input)\n",
    "    \n",
    "    # Predict with the modified input\n",
    "    prediction = predict_ontram(model_3d, data=[modified_input])['pdf'][:, 1]\n",
    "    partial_dependency_values.append(prediction.mean())  # Assuming you want to visualize average predictions\n",
    "\n",
    "# Plot the Partial Dependency Plot\n",
    "plt.plot(values, partial_dependency_values, marker='o')\n",
    "plt.title(f'Partial Dependency Plot for Variable {covariate_index}')\n",
    "plt.xlabel(f'Variable {covariate_index}')\n",
    "plt.ylabel('Average Class 1 Probability')\n",
    "plt.show()"
   ]
  },
  {
   "cell_type": "markdown",
   "metadata": {},
   "source": [
    "# Prediction framework"
   ]
  },
  {
   "cell_type": "code",
   "execution_count": 65,
   "metadata": {},
   "outputs": [
    {
     "name": "stdout",
     "output_type": "stream",
     "text": [
      "TF  Version 2.2.0\n"
     ]
    }
   ],
   "source": [
    "%matplotlib inline\n",
    "\n",
    "import os\n",
    "import h5py\n",
    "import pandas as pd\n",
    "import numpy as np\n",
    "import pickle as pkl\n",
    "import time\n",
    "\n",
    "import matplotlib.pyplot as plt\n",
    "import seaborn as sns\n",
    "from keras.utils import to_categorical\n",
    "from statsmodels.stats.proportion import proportion_confint\n",
    "from sklearn.metrics import confusion_matrix\n",
    "from sklearn import metrics\n",
    "\n",
    "import tensorflow as tf\n",
    "from tensorflow import keras\n",
    "\n",
    "print(\"TF  Version\",tf.__version__)"
   ]
  },
  {
   "cell_type": "code",
   "execution_count": 67,
   "metadata": {},
   "outputs": [
    {
     "name": "stdout",
     "output_type": "stream",
     "text": [
      "/tf/notebooks/schnemau/xAI_stroke_3d\n",
      "/tf/notebooks/schnemau/xAI_stroke_3d\n"
     ]
    }
   ],
   "source": [
    "# check and set path before loading modules\n",
    "print(os.getcwd())\n",
    "DIR = \"/tf/notebooks/schnemau/xAI_stroke_3d/\"\n",
    "if os.getcwd() != DIR:\n",
    "    os.chdir(DIR)\n",
    "    print(os.getcwd())\n",
    "\n",
    "import functions_metrics as fm\n",
    "import functions_model_definition as md\n",
    "import functions_read_data as rdat\n",
    "import Utils_maurice as utils\n",
    "import functions_gradcam as gc\n",
    "\n",
    "\n",
    "#ontram functions\n",
    "from k_ontram_functions.ontram import ontram\n",
    "from k_ontram_functions.ontram_loss import ontram_loss\n",
    "from k_ontram_functions.ontram_metrics import ontram_acc, ontram_auc\n",
    "from k_ontram_functions.ontram_predict import predict_ontram, get_parameters\n",
    "\n",
    "#weights tuning functions\n",
    "import ens_weights_tuning as w_tune"
   ]
  },
  {
   "cell_type": "code",
   "execution_count": 96,
   "metadata": {},
   "outputs": [
    {
     "data": {
      "text/html": [
       "<div>\n",
       "<style scoped>\n",
       "    .dataframe tbody tr th:only-of-type {\n",
       "        vertical-align: middle;\n",
       "    }\n",
       "\n",
       "    .dataframe tbody tr th {\n",
       "        vertical-align: top;\n",
       "    }\n",
       "\n",
       "    .dataframe thead th {\n",
       "        text-align: right;\n",
       "    }\n",
       "</style>\n",
       "<table border=\"1\" class=\"dataframe\">\n",
       "  <thead>\n",
       "    <tr style=\"text-align: right;\">\n",
       "      <th></th>\n",
       "      <th>p_idx</th>\n",
       "      <th>p_id</th>\n",
       "      <th>mrs</th>\n",
       "      <th>unfavorable</th>\n",
       "      <th>fold0</th>\n",
       "      <th>fold1</th>\n",
       "      <th>fold2</th>\n",
       "      <th>fold3</th>\n",
       "      <th>fold4</th>\n",
       "      <th>fold5</th>\n",
       "      <th>...</th>\n",
       "      <th>threshold_avg</th>\n",
       "      <th>threshold_avg_w</th>\n",
       "      <th>y_pred_class_avg</th>\n",
       "      <th>y_pred_class_avg_w</th>\n",
       "      <th>y_pred_std</th>\n",
       "      <th>y_pred_unc</th>\n",
       "      <th>y_pred_std_w</th>\n",
       "      <th>y_pred_unc_w</th>\n",
       "      <th>pred_correct</th>\n",
       "      <th>pred_correct_w</th>\n",
       "    </tr>\n",
       "  </thead>\n",
       "  <tbody>\n",
       "    <tr>\n",
       "      <th>90</th>\n",
       "      <td>73</td>\n",
       "      <td>105</td>\n",
       "      <td>6.0</td>\n",
       "      <td>1</td>\n",
       "      <td>train</td>\n",
       "      <td>train</td>\n",
       "      <td>test</td>\n",
       "      <td>train</td>\n",
       "      <td>train</td>\n",
       "      <td>train</td>\n",
       "      <td>...</td>\n",
       "      <td>0.247005</td>\n",
       "      <td>0.298656</td>\n",
       "      <td>0</td>\n",
       "      <td>0</td>\n",
       "      <td>0.109692</td>\n",
       "      <td>0.274989</td>\n",
       "      <td>0.102801</td>\n",
       "      <td>0.259854</td>\n",
       "      <td>False</td>\n",
       "      <td>False</td>\n",
       "    </tr>\n",
       "  </tbody>\n",
       "</table>\n",
       "<p>1 rows × 39 columns</p>\n",
       "</div>"
      ],
      "text/plain": [
       "    p_idx  p_id  mrs  unfavorable  fold0  fold1 fold2  fold3  fold4  fold5  \\\n",
       "90     73   105  6.0            1  train  train  test  train  train  train   \n",
       "\n",
       "    ... threshold_avg threshold_avg_w y_pred_class_avg y_pred_class_avg_w  \\\n",
       "90  ...      0.247005        0.298656                0                  0   \n",
       "\n",
       "    y_pred_std  y_pred_unc  y_pred_std_w  y_pred_unc_w  pred_correct  \\\n",
       "90    0.109692    0.274989      0.102801      0.259854         False   \n",
       "\n",
       "    pred_correct_w  \n",
       "90           False  \n",
       "\n",
       "[1 rows x 39 columns]"
      ]
     },
     "execution_count": 96,
     "metadata": {},
     "output_type": "execute_result"
    }
   ],
   "source": [
    "selected_patient = 105\n",
    "all_results = \"/tf/notebooks/schnemau/xAI_stroke_3d/data/all_tab_results_10Fold_CIBLSX_M1.csv\"\n",
    "res = pd.read_csv(all_results, sep=\",\")\n",
    "res = res[res['p_id'] == selected_patient]\n",
    "res"
   ]
  },
  {
   "cell_type": "code",
   "execution_count": 116,
   "metadata": {},
   "outputs": [
    {
     "data": {
      "text/html": [
       "<div>\n",
       "<style scoped>\n",
       "    .dataframe tbody tr th:only-of-type {\n",
       "        vertical-align: middle;\n",
       "    }\n",
       "\n",
       "    .dataframe tbody tr th {\n",
       "        vertical-align: top;\n",
       "    }\n",
       "\n",
       "    .dataframe thead th {\n",
       "        text-align: right;\n",
       "    }\n",
       "</style>\n",
       "<table border=\"1\" class=\"dataframe\">\n",
       "  <thead>\n",
       "    <tr style=\"text-align: right;\">\n",
       "      <th></th>\n",
       "      <th>p_id</th>\n",
       "      <th>mrs3</th>\n",
       "      <th>age</th>\n",
       "      <th>sexm</th>\n",
       "      <th>nihss_baseline</th>\n",
       "      <th>mrs_before</th>\n",
       "      <th>stroke_beforey</th>\n",
       "      <th>tia_beforey</th>\n",
       "      <th>ich_beforey</th>\n",
       "      <th>rf_hypertoniay</th>\n",
       "      <th>rf_diabetesy</th>\n",
       "      <th>rf_hypercholesterolemiay</th>\n",
       "      <th>rf_smokery</th>\n",
       "      <th>rf_atrial_fibrillationy</th>\n",
       "      <th>rf_chdy</th>\n",
       "      <th>eventtia</th>\n",
       "    </tr>\n",
       "  </thead>\n",
       "  <tbody>\n",
       "    <tr>\n",
       "      <th>3</th>\n",
       "      <td>105</td>\n",
       "      <td>6</td>\n",
       "      <td>1.432992</td>\n",
       "      <td>-1.295848</td>\n",
       "      <td>-0.820817</td>\n",
       "      <td>-0.470965</td>\n",
       "      <td>-0.419507</td>\n",
       "      <td>-0.263596</td>\n",
       "      <td>-0.118205</td>\n",
       "      <td>0.712688</td>\n",
       "      <td>-0.448358</td>\n",
       "      <td>0.806338</td>\n",
       "      <td>-0.556297</td>\n",
       "      <td>-0.460976</td>\n",
       "      <td>-0.473492</td>\n",
       "      <td>0</td>\n",
       "    </tr>\n",
       "  </tbody>\n",
       "</table>\n",
       "</div>"
      ],
      "text/plain": [
       "   p_id  mrs3       age      sexm  nihss_baseline  mrs_before  stroke_beforey  \\\n",
       "3   105     6  1.432992 -1.295848       -0.820817   -0.470965       -0.419507   \n",
       "\n",
       "   tia_beforey  ich_beforey  rf_hypertoniay  rf_diabetesy  \\\n",
       "3    -0.263596    -0.118205        0.712688     -0.448358   \n",
       "\n",
       "   rf_hypercholesterolemiay  rf_smokery  rf_atrial_fibrillationy   rf_chdy  \\\n",
       "3                  0.806338   -0.556297                -0.460976 -0.473492   \n",
       "\n",
       "   eventtia  \n",
       "3         0  "
      ]
     },
     "execution_count": 116,
     "metadata": {},
     "output_type": "execute_result"
    }
   ],
   "source": [
    "dat_norm = pd.read_csv(\"/tf/notebooks/hezo/stroke_perfusion/data/baseline_data_zurich_prepared.csv\", sep = \",\")\n",
    "tab = dat_norm[dat_norm['p_id'] == selected_patient]\n",
    "tab"
   ]
  },
  {
   "cell_type": "code",
   "execution_count": 134,
   "metadata": {},
   "outputs": [
    {
     "data": {
      "text/plain": [
       "array([ 1.43299153, -1.29584762, -0.82081682, -0.47096543, -0.41950722,\n",
       "       -0.26359616, -0.11820485,  0.71268841, -0.44835758,  0.80633793,\n",
       "       -0.55629662, -0.46097582, -0.47349193,  0.        ])"
      ]
     },
     "execution_count": 134,
     "metadata": {},
     "output_type": "execute_result"
    }
   ],
   "source": [
    "tab_array = tab.values[0,2:]\n",
    "tab_array"
   ]
  },
  {
   "cell_type": "code",
   "execution_count": 135,
   "metadata": {},
   "outputs": [],
   "source": [
    "selected_covariate = \"age\"\n",
    "dat_norm = pd.read_csv(\"/tf/notebooks/hezo/stroke_perfusion/data/baseline_data_zurich_prepared.csv\", sep = \",\")\n",
    "values = np.linspace(dat_norm[selected_covariate].min(), dat_norm[selected_covariate].max(), num=40)"
   ]
  },
  {
   "cell_type": "code",
   "execution_count": 138,
   "metadata": {},
   "outputs": [],
   "source": [
    "covariate_index = 0\n",
    "value = values[0]\n",
    "modified_data = tab_array.copy()"
   ]
  },
  {
   "cell_type": "code",
   "execution_count": 141,
   "metadata": {},
   "outputs": [],
   "source": [
    "data_modified = []\n",
    "covariate_index = 0\n",
    "\n",
    "for value in values:\n",
    "    modified_data = tab_array.copy()\n",
    "    modified_data[covariate_index] = value\n",
    "    data_modified.append(modified_data)  # Assuming you want to visualize average predictions"
   ]
  },
  {
   "cell_type": "code",
   "execution_count": 100,
   "metadata": {},
   "outputs": [
    {
     "data": {
      "text/plain": [
       "(1, 128, 128, 28, 1)"
      ]
     },
     "execution_count": 100,
     "metadata": {},
     "output_type": "execute_result"
    }
   ],
   "source": [
    "X_in = np.load(\"/tf/notebooks/schnemau/xAI_stroke_3d/data/prepocessed_dicom_3d.npy\")\n",
    "imgs = np.expand_dims(X_in, axis = -1)\n",
    "img_pat = imgs[res['p_idx'].values]\n",
    "img_pat.shape"
   ]
  },
  {
   "cell_type": "code",
   "execution_count": 102,
   "metadata": {},
   "outputs": [
    {
     "data": {
      "text/plain": [
       "2"
      ]
     },
     "execution_count": 102,
     "metadata": {},
     "output_type": "execute_result"
    }
   ],
   "source": [
    "test_index = (res == 'test').any().index[(res == 'test').any()].tolist()[0]\n",
    "which_split = int(test_index[-1])\n",
    "which_split"
   ]
  },
  {
   "cell_type": "code",
   "execution_count": 62,
   "metadata": {},
   "outputs": [],
   "source": [
    "version = \"10Fold_CIBLSX\" \n",
    "layer_connection = \"globalAveragePooling\" \n",
    "last_activation = \"linear\" \n",
    "# Define Model Version\n",
    "model_version = 1\n",
    "input_dim = (128, 128, 28, 1)\n",
    "output_dim = 1\n",
    "batch_size = 6\n",
    "C = 2 \n",
    "model_nr = 0\n",
    "\n",
    "mbl = utils.img_model_linear_final(input_dim, output_dim)\n",
    "mls = utils.mod_linear_shift(13)\n",
    "model_3d = ontram(mbl, mls)             \n",
    "\n",
    "model_name = (\"/tf/notebooks/schnemau/xAI_stroke_3d/weights/10Fold_CIBLSX/3d_cnn_binary_model_split\" + \"CIB_LSX\" + str(which_split) + \n",
    "                          \"_normalized_avg_layer_paper_model_\" + last_activation + \n",
    "                          \"_activation_\" + str(model_version) + \"_\" + str(model_nr) + \".h5\")    \n",
    "\n",
    "model_3d.load_weights(model_name)    \n"
   ]
  }
 ],
 "metadata": {
  "kernelspec": {
   "display_name": "Python 3",
   "language": "python",
   "name": "python3"
  },
  "language_info": {
   "codemirror_mode": {
    "name": "ipython",
    "version": 3
   },
   "file_extension": ".py",
   "mimetype": "text/x-python",
   "name": "python",
   "nbconvert_exporter": "python",
   "pygments_lexer": "ipython3",
   "version": "3.6.9"
  }
 },
 "nbformat": 4,
 "nbformat_minor": 2
}
