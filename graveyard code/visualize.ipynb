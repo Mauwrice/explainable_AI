{
 "cells": [
  {
   "cell_type": "code",
   "execution_count": 8,
   "metadata": {},
   "outputs": [
    {
     "name": "stdout",
     "output_type": "stream",
     "text": [
      "Failed to import pydot. You must install pydot and graphviz for `pydotprint` to work.\n"
     ]
    }
   ],
   "source": [
    "from tensorflow import keras\n",
    "from tensorflow.keras import layers\n",
    "from tensorflow.keras.utils import plot_model\n",
    "import os\n",
    "\n",
    "\n",
    "# Your 3D CNN model function\n",
    "def img_model_linear(input_shape, output_shape, activation=\"linear\"):\n",
    "    initializer = keras.initializers.he_normal(seed=2202)\n",
    "    in_ = keras.Input(shape=input_shape)\n",
    "    x = keras.layers.Convolution3D(32, kernel_size=(3, 3, 3), padding='same', activation='relu')(in_)\n",
    "    x = keras.layers.MaxPooling3D(pool_size=(2, 2, 2))(x)\n",
    "    x = keras.layers.Convolution3D(32, kernel_size=(3, 3, 3), padding='same', activation='relu')(x)\n",
    "    x = keras.layers.MaxPooling3D(pool_size=(2, 2, 2))(x)\n",
    "    x = keras.layers.Convolution3D(64, kernel_size=(3, 3, 3), padding='same', activation='relu')(x)\n",
    "    x = keras.layers.MaxPooling3D(pool_size=(2, 2, 2))(x)\n",
    "    x = keras.layers.Convolution3D(64, kernel_size=(3, 3, 3), padding='same', activation='relu')(x)\n",
    "    x = keras.layers.MaxPooling3D(pool_size=(2, 2, 2))(x)\n",
    "    x = keras.layers.Flatten()(x)\n",
    "    x = keras.layers.Dense(128, activation='relu')(x)\n",
    "    x = keras.layers.Dropout(0.3)(x)\n",
    "    x = keras.layers.Dense(128, activation='relu')(x)\n",
    "    x = keras.layers.Dropout(0.3)(x)\n",
    "    out_ = keras.layers.Dense(output_shape, activation=activation, use_bias=False)(x)\n",
    "    nn_im = keras.Model(inputs=in_, outputs=out_)\n",
    "    return nn_im\n",
    "\n",
    "your_input_shape = (128, 128, 28, 1)\n",
    "your_output_shape = 1\n",
    "\n",
    "# Create an instance of the model\n",
    "model = img_model_linear(input_shape=(your_input_shape), output_shape=your_output_shape)\n",
    "\n",
    "\n",
    "\n",
    "\n",
    "\n",
    "plot_path = os.path.join(\"/tf/notebooks/schnemau/xAI_stroke_3d/graveyard code/\", \"model_plot.png\")\n",
    "\n",
    "# Save a visualization of the model to the specified path\n",
    "plot_model(model, to_file=plot_path, show_shapes=True, show_layer_names=True)"
   ]
  }
 ],
 "metadata": {
  "kernelspec": {
   "display_name": "Python 3",
   "language": "python",
   "name": "python3"
  },
  "language_info": {
   "codemirror_mode": {
    "name": "ipython",
    "version": 3
   },
   "file_extension": ".py",
   "mimetype": "text/x-python",
   "name": "python",
   "nbconvert_exporter": "python",
   "pygments_lexer": "ipython3",
   "version": "3.6.9"
  }
 },
 "nbformat": 4,
 "nbformat_minor": 2
}
