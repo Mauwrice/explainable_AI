{
 "cells": [
  {
   "cell_type": "markdown",
   "metadata": {},
   "source": [
    "# Model Comparison Jonas vs. CI_B"
   ]
  },
  {
   "cell_type": "markdown",
   "metadata": {},
   "source": [
    "- Goal is to compare the test-set performance of both models on andrea_split = 6\n",
    "- compare the ensembles"
   ]
  },
  {
   "cell_type": "code",
   "execution_count": 27,
   "metadata": {},
   "outputs": [
    {
     "name": "stdout",
     "output_type": "stream",
     "text": [
      "/tf/notebooks/schnemau/xAI_stroke_3d\n"
     ]
    }
   ],
   "source": [
    "import os\n",
    "DIR = \"/tf/notebooks/schnemau/xAI_stroke_3d/\"\n",
    "os.chdir(DIR)\n",
    "print(os.getcwd())\n",
    "IMG_DIR = \"/tf/notebooks/hezo/stroke_perfusion/data/\"\n",
    "OUTPUT_DIR = \"/tf/notebooks/schnemau/xAI_stroke_3d/data/\"\n",
    "path_img = IMG_DIR + 'dicom_2d_192x192x3_clean_interpolated_18_02_2021_preprocessed2.h5'\n",
    "path_tab = IMG_DIR + 'baseline_data_zurich_prepared.csv'"
   ]
  },
  {
   "cell_type": "code",
   "execution_count": 28,
   "metadata": {},
   "outputs": [],
   "source": [
    "import tensorflow as tf\n",
    "from tensorflow import keras\n",
    "from tensorflow.keras import layers\n",
    "from keras.utils import to_categorical\n",
    "\n",
    "import pandas as pd\n",
    "import numpy as np\n",
    "import matplotlib.pyplot as plt\n",
    "from sklearn.metrics import roc_auc_score\n",
    "\n",
    "# ontram functions\n",
    "from k_ontram_functions.ontram import ontram\n",
    "from k_ontram_functions.ontram_loss import ontram_loss\n",
    "from k_ontram_functions.ontram_metrics import ontram_acc, ontram_auc\n",
    "from k_ontram_functions.ontram_predict import predict_ontram, get_parameters\n",
    "\n",
    "from sklearn import metrics\n",
    "import Utils_maurice as utils\n",
    "from functions.augmentation3d import zoom, rotate, flip, shift"
   ]
  },
  {
   "cell_type": "code",
   "execution_count": 29,
   "metadata": {},
   "outputs": [],
   "source": [
    "which_split = 6\n",
    "(X_train, X_valid, X_test, X_tab_train, X_tab_valid, X_tab_test), (Y_train, Y_valid, Y_test), results = utils.read_and_split_img_data_andrea_maurice(\n",
    "    path_img = IMG_DIR + 'dicom_2d_192x192x3_clean_interpolated_18_02_2021_preprocessed2.h5', \n",
    "    path_tab = IMG_DIR + 'baseline_data_zurich_prepared.csv', \n",
    "    path_splits = '/tf/notebooks/schnemau/xAI_stroke_3d/data/andrea_splits.csv', \n",
    "    split = which_split)\n",
    "\n",
    "Y_train_MRS = to_categorical(Y_train)\n",
    "Y_valid_MRS = to_categorical(Y_valid)\n",
    "Y_test_MRS = to_categorical(Y_test)\n",
    "\n",
    "X_train = X_train.reshape((X_train.shape[0], X_train.shape[1], X_train.shape[2], X_train.shape[3], 1))\n",
    "X_valid = X_valid.reshape((X_valid.shape[0], X_valid.shape[1], X_valid.shape[2], X_valid.shape[3], 1))\n",
    "X_test = X_test.reshape((X_test.shape[0], X_test.shape[1], X_test.shape[2], X_test.shape[3], 1))"
   ]
  },
  {
   "cell_type": "code",
   "execution_count": 30,
   "metadata": {},
   "outputs": [],
   "source": [
    "C = Y_train_MRS.shape[1]\n",
    "batch_size = 5\n",
    "epochs = 250\n",
    "ntrain = 325\n",
    "nvalid = 40\n",
    "ntest = 40"
   ]
  },
  {
   "cell_type": "markdown",
   "metadata": {},
   "source": [
    "# Ontram CIB"
   ]
  },
  {
   "cell_type": "code",
   "execution_count": 31,
   "metadata": {},
   "outputs": [],
   "source": [
    "ontram_1 = ontram(utils.img_model_linear(X_train.shape[1:], 1))\n",
    "ontram_1.compile(optimizer=keras.optimizers.Adam(),\n",
    "                                    loss=ontram_loss(C, batch_size),\n",
    "                                    metrics=[ontram_acc(C, batch_size)])\n",
    "ontram_1.load_weights('/tf/notebooks/schnemau/xAI_stroke_3d/ensembling_results/model_1_ontram_CIB_fini.h5')"
   ]
  },
  {
   "cell_type": "code",
   "execution_count": 32,
   "metadata": {},
   "outputs": [],
   "source": [
    "predic = predict_ontram(ontram_1, data = (X_test, Y_test_MRS))"
   ]
  },
  {
   "cell_type": "code",
   "execution_count": 33,
   "metadata": {},
   "outputs": [
    {
     "data": {
      "text/plain": [
       "{'cdf': array([[0.        , 0.9572038 , 1.        ],\n",
       "        [0.        , 0.89199215, 1.        ],\n",
       "        [0.        , 0.9229489 , 1.        ],\n",
       "        [0.        , 0.7343256 , 1.        ],\n",
       "        [0.        , 0.9796539 , 1.        ],\n",
       "        [0.        , 0.7429625 , 1.        ],\n",
       "        [0.        , 0.870585  , 1.        ],\n",
       "        [0.        , 0.88178533, 1.        ],\n",
       "        [0.        , 0.85786414, 1.        ],\n",
       "        [0.        , 0.859974  , 1.        ],\n",
       "        [0.        , 0.95826864, 1.        ],\n",
       "        [0.        , 0.74368435, 1.        ],\n",
       "        [0.        , 0.764462  , 1.        ],\n",
       "        [0.        , 0.8921922 , 1.        ],\n",
       "        [0.        , 0.7491608 , 1.        ],\n",
       "        [0.        , 0.71885866, 1.        ],\n",
       "        [0.        , 0.9756644 , 1.        ],\n",
       "        [0.        , 0.6721735 , 1.        ],\n",
       "        [0.        , 0.90012145, 1.        ],\n",
       "        [0.        , 0.9863197 , 1.        ],\n",
       "        [0.        , 0.69432074, 1.        ],\n",
       "        [0.        , 0.8919115 , 1.        ],\n",
       "        [0.        , 0.9653347 , 1.        ],\n",
       "        [0.        , 0.93250304, 1.        ],\n",
       "        [0.        , 0.9142776 , 1.        ],\n",
       "        [0.        , 0.87817013, 1.        ],\n",
       "        [0.        , 0.6728663 , 1.        ],\n",
       "        [0.        , 0.8405352 , 1.        ],\n",
       "        [0.        , 0.8799435 , 1.        ],\n",
       "        [0.        , 0.8756479 , 1.        ],\n",
       "        [0.        , 0.7773814 , 1.        ],\n",
       "        [0.        , 0.8119625 , 1.        ],\n",
       "        [0.        , 0.8569341 , 1.        ],\n",
       "        [0.        , 0.9759152 , 1.        ],\n",
       "        [0.        , 0.82134503, 1.        ],\n",
       "        [0.        , 0.6582736 , 1.        ],\n",
       "        [0.        , 0.8217632 , 1.        ],\n",
       "        [0.        , 0.83881164, 1.        ],\n",
       "        [0.        , 0.9383204 , 1.        ],\n",
       "        [0.        , 0.9755755 , 1.        ],\n",
       "        [0.        , 0.8659965 , 1.        ]], dtype=float32),\n",
       " 'pdf': array([[0.9572038 , 0.04279619],\n",
       "        [0.89199215, 0.10800785],\n",
       "        [0.9229489 , 0.0770511 ],\n",
       "        [0.7343256 , 0.2656744 ],\n",
       "        [0.9796539 , 0.02034611],\n",
       "        [0.7429625 , 0.25703752],\n",
       "        [0.870585  , 0.12941498],\n",
       "        [0.88178533, 0.11821467],\n",
       "        [0.85786414, 0.14213586],\n",
       "        [0.859974  , 0.14002597],\n",
       "        [0.95826864, 0.04173136],\n",
       "        [0.74368435, 0.25631565],\n",
       "        [0.764462  , 0.235538  ],\n",
       "        [0.8921922 , 0.10780782],\n",
       "        [0.7491608 , 0.25083917],\n",
       "        [0.71885866, 0.28114134],\n",
       "        [0.9756644 , 0.02433562],\n",
       "        [0.6721735 , 0.3278265 ],\n",
       "        [0.90012145, 0.09987855],\n",
       "        [0.9863197 , 0.01368028],\n",
       "        [0.69432074, 0.30567926],\n",
       "        [0.8919115 , 0.10808849],\n",
       "        [0.9653347 , 0.03466529],\n",
       "        [0.93250304, 0.06749696],\n",
       "        [0.9142776 , 0.08572239],\n",
       "        [0.87817013, 0.12182987],\n",
       "        [0.6728663 , 0.32713372],\n",
       "        [0.8405352 , 0.15946478],\n",
       "        [0.8799435 , 0.12005651],\n",
       "        [0.8756479 , 0.1243521 ],\n",
       "        [0.7773814 , 0.22261858],\n",
       "        [0.8119625 , 0.18803751],\n",
       "        [0.8569341 , 0.14306593],\n",
       "        [0.9759152 , 0.02408481],\n",
       "        [0.82134503, 0.17865497],\n",
       "        [0.6582736 , 0.34172642],\n",
       "        [0.8217632 , 0.17823678],\n",
       "        [0.83881164, 0.16118836],\n",
       "        [0.9383204 , 0.0616796 ],\n",
       "        [0.9755755 , 0.02442449],\n",
       "        [0.8659965 , 0.13400352]], dtype=float32),\n",
       " 'pred_class': array([0, 0, 0, 0, 0, 0, 0, 0, 0, 0, 0, 0, 0, 0, 0, 0, 0, 0, 0, 0, 0, 0,\n",
       "        0, 0, 0, 0, 0, 0, 0, 0, 0, 0, 0, 0, 0, 0, 0, 0, 0, 0, 0]),\n",
       " 'nll': 0.36323145}"
      ]
     },
     "execution_count": 33,
     "metadata": {},
     "output_type": "execute_result"
    }
   ],
   "source": [
    "predic"
   ]
  },
  {
   "cell_type": "code",
   "execution_count": 34,
   "metadata": {},
   "outputs": [],
   "source": [
    "pred0 = utils.sigmoid(ontram_1.predict(X_test))\n",
    "pred1 = 1-pred0"
   ]
  },
  {
   "cell_type": "code",
   "execution_count": 52,
   "metadata": {},
   "outputs": [],
   "source": [
    "y_pred_ontram = predict_ontram(ontram_1, data = (X_test, Y_test_MRS))['pdf']"
   ]
  },
  {
   "cell_type": "code",
   "execution_count": 53,
   "metadata": {},
   "outputs": [],
   "source": [
    "y_pred_ontram_class = predict_ontram(ontram_1, data = (X_test, Y_test_MRS))['pred_class']"
   ]
  },
  {
   "cell_type": "code",
   "execution_count": 54,
   "metadata": {},
   "outputs": [
    {
     "data": {
      "text/plain": [
       "array([0, 0, 0, 0, 0, 0, 0, 0, 0, 0, 0, 0, 0, 0, 0, 0, 0, 0, 0, 0, 0, 0,\n",
       "       0, 0, 0, 0, 0, 0, 0, 0, 0, 0, 0, 0, 0, 0, 0, 0, 0, 0, 0])"
      ]
     },
     "execution_count": 54,
     "metadata": {},
     "output_type": "execute_result"
    }
   ],
   "source": [
    "y_pred_ontram_class"
   ]
  },
  {
   "cell_type": "code",
   "execution_count": 26,
   "metadata": {},
   "outputs": [
    {
     "ename": "NameError",
     "evalue": "name 'pred0' is not defined",
     "output_type": "error",
     "traceback": [
      "\u001b[0;31m---------------------------------------------------------------------------\u001b[0m",
      "\u001b[0;31mNameError\u001b[0m                                 Traceback (most recent call last)",
      "\u001b[0;32m<ipython-input-26-0cc80e1558bc>\u001b[0m in \u001b[0;36m<module>\u001b[0;34m\u001b[0m\n\u001b[0;32m----> 1\u001b[0;31m \u001b[0;36m1\u001b[0m\u001b[0;34m-\u001b[0m\u001b[0mnp\u001b[0m\u001b[0;34m.\u001b[0m\u001b[0mmean\u001b[0m\u001b[0;34m(\u001b[0m\u001b[0mpred0\u001b[0m\u001b[0;34m)\u001b[0m\u001b[0;34m\u001b[0m\u001b[0;34m\u001b[0m\u001b[0m\n\u001b[0m",
      "\u001b[0;31mNameError\u001b[0m: name 'pred0' is not defined"
     ]
    }
   ],
   "source": [
    "1-np.mean(pred0)"
   ]
  },
  {
   "cell_type": "code",
   "execution_count": 37,
   "metadata": {},
   "outputs": [
    {
     "data": {
      "text/plain": [
       "0.14761"
      ]
     },
     "execution_count": 37,
     "metadata": {},
     "output_type": "execute_result"
    }
   ],
   "source": [
    "np.mean(y_pred_ontram[:,1])"
   ]
  },
  {
   "cell_type": "code",
   "execution_count": 72,
   "metadata": {},
   "outputs": [
    {
     "name": "stdout",
     "output_type": "stream",
     "text": [
      "AUC Score: 0.5\n"
     ]
    }
   ],
   "source": [
    "auc = roc_auc_score(Y_test, y_pred_ontram_class)\n",
    "\n",
    "# Print the AUC score\n",
    "print(\"AUC Score:\", auc)"
   ]
  },
  {
   "cell_type": "code",
   "execution_count": 71,
   "metadata": {},
   "outputs": [
    {
     "name": "stderr",
     "output_type": "stream",
     "text": [
      "No handles with labels found to put in legend.\n"
     ]
    },
    {
     "data": {
      "text/plain": [
       "[<matplotlib.lines.Line2D at 0x7f1d3fa87f28>]"
      ]
     },
     "execution_count": 71,
     "metadata": {},
     "output_type": "execute_result"
    },
    {
     "data": {
      "image/png": "[encoded data removed]",
      "text/plain": [
       "<Figure size 432x288 with 1 Axes>"
      ]
     },
     "metadata": {
      "needs_background": "light"
     },
     "output_type": "display_data"
    }
   ],
   "source": [
    "fpr, tpr, threshold = metrics.roc_curve(Y_test, (y_pred_ontram_class))\n",
    "roc_auc = metrics.auc(fpr, tpr)\n",
    "plt.legend(loc = 'lower right')\n",
    "plt.plot([0, 1], [0, 1],'b--')\n",
    "plt.xlim([0, 1])\n",
    "plt.ylim([0, 1])\n",
    "plt.ylabel('True Positive Rate')\n",
    "plt.xlabel('False Positive Rate')\n",
    "plt.plot(fpr, tpr, label = 'AUC = %0.2f' % roc_auc)"
   ]
  },
  {
   "cell_type": "code",
   "execution_count": 41,
   "metadata": {},
   "outputs": [
    {
     "data": {
      "text/plain": [
       "<matplotlib.legend.Legend at 0x7f1e3c22b828>"
      ]
     },
     "execution_count": 41,
     "metadata": {},
     "output_type": "execute_result"
    },
    {
     "data": {
      "image/png": "[encoded data removed]",
      "text/plain": [
       "<Figure size 432x288 with 1 Axes>"
      ]
     },
     "metadata": {
      "needs_background": "light"
     },
     "output_type": "display_data"
    }
   ],
   "source": [
    "plt.scatter(pred0, y_pred_ontram[:,0], color='blue', label='Array 1')\n",
    "plt.scatter(pred1, y_pred_ontram[:,1], color='red', label='Array 1')\n",
    "\n",
    "# Add labels and legend\n",
    "plt.xlabel('Index')\n",
    "plt.ylabel('Values')\n",
    "plt.title('Alignment of Points')\n",
    "plt.legend()"
   ]
  },
  {
   "cell_type": "markdown",
   "metadata": {},
   "source": [
    "# Ontram CIB_LSX"
   ]
  },
  {
   "cell_type": "code",
   "execution_count": 38,
   "metadata": {},
   "outputs": [],
   "source": [
    "# function for preprocessing\n",
    "def train_preprocessing2(data, label):\n",
    "    \"\"\"Process training data.\"\"\"\n",
    "    volume = data[0] # intercept: image\n",
    "    tabular = data[1] # shift: tabular\n",
    "    volume = zoom(volume)\n",
    "    volume = rotate(volume)\n",
    "    volume = shift(volume)\n",
    "    volume = flip(volume)\n",
    "    return (volume, tabular), label\n",
    "\n",
    "# Define data sets\n",
    "train_data_2 = tf.data.Dataset.from_tensor_slices((X_train[:ntrain], X_tab_train[:ntrain]))\n",
    "train_labels_2 = tf.data.Dataset.from_tensor_slices((Y_train_MRS[:ntrain]))\n",
    "\n",
    "valid_data_2 = tf.data.Dataset.from_tensor_slices((X_valid[:ntrain], X_tab_valid[:ntrain]))\n",
    "valid_labels_2 = tf.data.Dataset.from_tensor_slices((Y_valid_MRS[:nvalid]))\n",
    "\n",
    "test_data_2 = tf.data.Dataset.from_tensor_slices((X_test[:ntest], X_tab_test[:ntest]))\n",
    "test_labels_2 = tf.data.Dataset.from_tensor_slices((Y_test_MRS[:ntest]))\n",
    "\n",
    "train_loader_2 = tf.data.Dataset.zip((train_data_2, train_labels_2))\n",
    "validation_loader_2 = tf.data.Dataset.zip((valid_data_2, valid_labels_2))\n",
    "test_loader_2 = tf.data.Dataset.zip((test_data_2, test_labels_2))\n",
    "\n",
    "train_dataset_MRS_2 = (train_loader_2.shuffle(ntrain)\n",
    "                 .map(train_preprocessing2)\n",
    "                 .batch(batch_size))\n",
    "\n",
    "validation_dataset_MRS_2 = (validation_loader_2.batch(batch_size))\n",
    "\n",
    "test_dataset_MRS_2 = (test_loader_2.batch(len(X_test[:ntest])))"
   ]
  },
  {
   "cell_type": "code",
   "execution_count": 39,
   "metadata": {},
   "outputs": [],
   "source": [
    "CI_B = utils.img_model_linear(X_train.shape[1:], 1)\n",
    "LS_X = utils.mod_linear_shift(X_tab_train.shape[1])\n",
    "mod_ontram_CIBLSX = ontram(CI_B, LS_X)\n",
    "mod_ontram_CIBLSX.compile(optimizer = keras.optimizers.Adam(),\n",
    "            loss = ontram_loss(C, batch_size),\n",
    "            metrics = [ontram_acc(C, batch_size)])    \n",
    "mod_ontram_CIBLSX.load_weights('/tf/notebooks/schnemau/xAI_stroke_3d/ensembling_results/model_1_1_ontram_CIBLSX_.h5')"
   ]
  },
  {
   "cell_type": "code",
   "execution_count": 42,
   "metadata": {},
   "outputs": [],
   "source": [
    "y_pred_ontram = predict_ontram(mod_ontram_CIBLSX, data = test_dataset_MRS_2)['pdf']"
   ]
  },
  {
   "cell_type": "code",
   "execution_count": 44,
   "metadata": {},
   "outputs": [
    {
     "data": {
      "text/plain": [
       "0.79801303"
      ]
     },
     "execution_count": 44,
     "metadata": {},
     "output_type": "execute_result"
    }
   ],
   "source": [
    "np.mean(y_pred_ontram[:,0])"
   ]
  },
  {
   "cell_type": "code",
   "execution_count": 24,
   "metadata": {},
   "outputs": [
    {
     "data": {
      "text/plain": [
       "0.32054135"
      ]
     },
     "execution_count": 24,
     "metadata": {},
     "output_type": "execute_result"
    }
   ],
   "source": [
    "predict_ontram(mod_ontram_CIBLSX, data = test_dataset_MRS_2)['nll']"
   ]
  },
  {
   "cell_type": "code",
   "execution_count": 75,
   "metadata": {},
   "outputs": [
    {
     "data": {
      "text/plain": [
       "0.32054135"
      ]
     },
     "execution_count": 75,
     "metadata": {},
     "output_type": "execute_result"
    }
   ],
   "source": [
    "predict_ontram(mod_ontram_CIBLSX, data = test_dataset_MRS_2)['nll']"
   ]
  },
  {
   "cell_type": "code",
   "execution_count": 25,
   "metadata": {},
   "outputs": [
    {
     "data": {
      "text/plain": [
       "array([0, 0, 0, 0, 0, 0, 0, 0, 0, 0, 0, 0, 1, 0, 1, 1, 0, 0, 0, 0, 0, 0,\n",
       "       0, 0, 0, 1, 0, 0, 0, 0, 1, 0, 0, 0, 0, 0, 0, 1, 0, 0, 0])"
      ]
     },
     "execution_count": 25,
     "metadata": {},
     "output_type": "execute_result"
    }
   ],
   "source": [
    "Y_test"
   ]
  },
  {
   "cell_type": "code",
   "execution_count": 58,
   "metadata": {},
   "outputs": [],
   "source": [
    "y_pred_ontramlsx = predict_ontram(mod_ontram_CIBLSX, data = test_dataset_MRS_2)['pdf']"
   ]
  },
  {
   "cell_type": "code",
   "execution_count": 59,
   "metadata": {},
   "outputs": [
    {
     "data": {
      "text/plain": [
       "0.79801303"
      ]
     },
     "execution_count": 59,
     "metadata": {},
     "output_type": "execute_result"
    }
   ],
   "source": [
    "np.mean(y_pred_ontramlsx[:,0])"
   ]
  },
  {
   "cell_type": "code",
   "execution_count": 60,
   "metadata": {},
   "outputs": [
    {
     "data": {
      "text/plain": [
       "0.20198695"
      ]
     },
     "execution_count": 60,
     "metadata": {},
     "output_type": "execute_result"
    }
   ],
   "source": [
    "np.mean(y_pred_ontramlsx[:,1])"
   ]
  },
  {
   "cell_type": "code",
   "execution_count": 50,
   "metadata": {},
   "outputs": [],
   "source": [
    "y_pred_ontramlsx = predict_ontram(mod_ontram_CIBLSX, data = test_dataset_MRS_2)['pred_class']"
   ]
  },
  {
   "cell_type": "code",
   "execution_count": 51,
   "metadata": {},
   "outputs": [
    {
     "data": {
      "text/plain": [
       "array([0, 0, 0, 0, 0, 0, 0, 0, 0, 0, 0, 0, 0, 0, 1, 0, 0, 0, 0, 0, 0, 0,\n",
       "       0, 0, 0, 1, 1, 0, 0, 0, 1, 0, 1, 0, 0, 0, 0, 0, 0, 0])"
      ]
     },
     "execution_count": 51,
     "metadata": {},
     "output_type": "execute_result"
    }
   ],
   "source": [
    "y_pred_ontramlsx"
   ]
  },
  {
   "cell_type": "code",
   "execution_count": 68,
   "metadata": {},
   "outputs": [
    {
     "name": "stderr",
     "output_type": "stream",
     "text": [
      "No handles with labels found to put in legend.\n"
     ]
    },
    {
     "data": {
      "text/plain": [
       "[<matplotlib.lines.Line2D at 0x7f1d3fb0e5f8>]"
      ]
     },
     "execution_count": 68,
     "metadata": {},
     "output_type": "execute_result"
    },
    {
     "data": {
      "image/png": "[encoded data removed]",
      "text/plain": [
       "<Figure size 432x288 with 1 Axes>"
      ]
     },
     "metadata": {
      "needs_background": "light"
     },
     "output_type": "display_data"
    }
   ],
   "source": [
    "fpr, tpr, threshold = metrics.roc_curve(Y_test[:ntest], (y_pred_ontramlsx))\n",
    "roc_auc = metrics.auc(fpr, tpr)\n",
    "plt.legend(loc = 'lower right')\n",
    "plt.plot([0, 1], [0, 1],'b--')\n",
    "plt.xlim([0, 1])\n",
    "plt.ylim([0, 1])\n",
    "plt.ylabel('True Positive Rate')\n",
    "plt.xlabel('False Positive Rate')\n",
    "plt.plot(fpr, tpr, label = 'AUC = %0.2f' % roc_auc)"
   ]
  },
  {
   "cell_type": "markdown",
   "metadata": {},
   "source": [
    "# Jonas"
   ]
  },
  {
   "cell_type": "code",
   "execution_count": 45,
   "metadata": {},
   "outputs": [],
   "source": [
    "import functions_model_definition as md"
   ]
  },
  {
   "cell_type": "code",
   "execution_count": 46,
   "metadata": {},
   "outputs": [],
   "source": [
    "path = '/tf/notebooks/schnemau/xAI_stroke_3d/weights/andrea_split/3d_cnn_binary_model_split6_unnormalized_avg_layer_paper_model_sigmoid_activation_14.h5'\n",
    "\n",
    "input_dim = X_train.shape[1:]\n",
    "output_dim = 1\n",
    "\n",
    "layer_connection = \"globalAveragePooling\"\n",
    "last_activation = \"sigmoid\"\n",
    "\n",
    "# call model\n",
    "model_3d2 = md.stroke_binary_3d(input_dim = input_dim,\n",
    "                               output_dim = output_dim,\n",
    "                               layer_connection = layer_connection,\n",
    "                               last_activation = last_activation)\n",
    "model_3d2.compile(\n",
    "    loss=\"binary_crossentropy\",\n",
    "    optimizer=keras.optimizers.Adam(learning_rate=5*1e-5),\n",
    "    metrics=[\"acc\", tf.keras.metrics.AUC()]\n",
    ")\n",
    "\n",
    "model_3d2.load_weights(path)"
   ]
  },
  {
   "cell_type": "code",
   "execution_count": 47,
   "metadata": {},
   "outputs": [],
   "source": [
    "out = model_3d2.predict(X_test) "
   ]
  },
  {
   "cell_type": "code",
   "execution_count": 48,
   "metadata": {},
   "outputs": [],
   "source": [
    "pred_jonas_1 = out\n",
    "pred_jonas_0 = 1-pred_jonas_1"
   ]
  },
  {
   "cell_type": "code",
   "execution_count": 49,
   "metadata": {},
   "outputs": [
    {
     "data": {
      "text/plain": [
       "0.15204932"
      ]
     },
     "execution_count": 49,
     "metadata": {},
     "output_type": "execute_result"
    }
   ],
   "source": [
    "np.mean(pred_jonas_1)"
   ]
  },
  {
   "cell_type": "code",
   "execution_count": 50,
   "metadata": {},
   "outputs": [
    {
     "data": {
      "text/plain": [
       "0.8479507"
      ]
     },
     "execution_count": 50,
     "metadata": {},
     "output_type": "execute_result"
    }
   ],
   "source": [
    "np.mean(pred_jonas_0)"
   ]
  },
  {
   "cell_type": "markdown",
   "metadata": {},
   "source": [
    "# Try "
   ]
  }
 ],
 "metadata": {
  "kernelspec": {
   "display_name": "Python 3",
   "language": "python",
   "name": "python3"
  },
  "language_info": {
   "codemirror_mode": {
    "name": "ipython",
    "version": 3
   },
   "file_extension": ".py",
   "mimetype": "text/x-python",
   "name": "python",
   "nbconvert_exporter": "python",
   "pygments_lexer": "ipython3",
   "version": "3.6.9"
  }
 },
 "nbformat": 4,
 "nbformat_minor": 2
}
