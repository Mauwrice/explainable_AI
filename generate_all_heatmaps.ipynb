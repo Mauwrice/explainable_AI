{
 "cells": [
  {
   "cell_type": "markdown",
   "metadata": {},
   "source": [
    "# Generate all Heatmaps (Occlusion of GradCam) for a given Version\n",
    "\n",
    "Generates a PDF with all heatmaps for a given version.\n",
    "\n",
    "- Choose heatmap type (Occlusion or GradCam)\n",
    "- Choose if heatmaps should be genereated or loaded\n",
    "- Choose if pictures (mean over all axis, highest heatmap value slice, original image) should be generated or loaded\n",
    "- Choose if all patients should be used or only wrongly classified ones  \n",
    "  \n",
    "\n",
    "  \n",
    "- Define if only the predicted class should be visualized (default: predicted class)\n",
    "- Define if only last gradcam layer should be visualized (default: last layer)\n",
    "\n",
    "## Load Libraries and Modules"
   ]
  },
  {
   "cell_type": "code",
   "execution_count": null,
   "metadata": {},
   "outputs": [],
   "source": [
    "!pip install tqdm\n",
    "!pip install seaborn\n",
    "!pip install fpdf2"
   ]
  },
  {
   "cell_type": "code",
   "execution_count": null,
   "metadata": {},
   "outputs": [],
   "source": [
    "%matplotlib inline\n",
    "\n",
    "import os\n",
    "import h5py\n",
    "import numpy as np\n",
    "import pandas as pd\n",
    "import gc as gci\n",
    "\n",
    "import matplotlib.pyplot as plt\n",
    "import seaborn as sns\n",
    "\n",
    "from tqdm import tqdm\n",
    "from fpdf import FPDF\n",
    "\n",
    "from sklearn import metrics\n",
    "from sklearn.metrics import confusion_matrix, roc_curve, auc\n",
    "\n",
    "import tensorflow as tf\n",
    "from tensorflow import keras\n",
    "\n",
    "print(\"TF  Version\",tf.__version__)"
   ]
  },
  {
   "cell_type": "code",
   "execution_count": null,
   "metadata": {},
   "outputs": [],
   "source": [
    "# check and set path before loading modules\n",
    "print(os.getcwd())\n",
    "DIR = \"/tf/notebooks/brdd/xAI_stroke_3d/\"\n",
    "if os.getcwd() != DIR:\n",
    "    os.chdir(DIR)\n",
    "    \n",
    "import functions_metrics as fm\n",
    "import functions_read_data as rdat\n",
    "import functions_model_definition as md\n",
    "import functions_gradcam as gc\n",
    "import functions_occlusion as oc\n",
    "import functions_plot_heatmap as phm"
   ]
  },
  {
   "cell_type": "markdown",
   "metadata": {},
   "source": [
    "## Load Data and Define Parameters"
   ]
  },
  {
   "cell_type": "code",
   "execution_count": null,
   "metadata": {},
   "outputs": [],
   "source": [
    "# Define the path + output path:\n",
    "print(os.getcwd())\n",
    "DATA_DIR = DIR + \"data/\"\n",
    "\n",
    "version = \"10Fold_sigmoid_V0\" # one of:\n",
    "# 10Fold_sigmoid_V0, 10Fold_sigmoid_V1, 10Fold_sigmoid_V2, 10Fold_sigmoid_V2f, 10Fold_sigmoid_V3\n",
    "# 10Fold_softmax_V0, 10Fold_softmax_V1, andrea\n",
    "generate_heatmap_and_save = False # should the heatmap be generated and saved (else loaded)\n",
    "generate_pictures = False # should the pictures be generated (else loaded)\n",
    "only_wrong_out = True # should the generated pdf only contain the wrong predictions (else all)\n",
    "\n",
    "hm_type = \"gc\" # gc or oc => gradcam or occlusion\n",
    "\n",
    "pred_hm_only = False # if true heatmap of prediction will be generated else positive and negative heatmaps are shown\n",
    "last_layer_only = True # Default = True, only last layer will be used for gradcam else once last and once all layers \n",
    "\n",
    "# Define Model Version\n",
    "model_version = 1\n",
    "\n",
    "# define paths\n",
    "WEIGHT_DIR, DATA_OUTPUT_DIR, PIC_OUTPUT_DIR, pic_save_name = rdat.dir_setup(\n",
    "    DIR, version, model_version, \n",
    "    hm_type = hm_type, ending = \"_predcl\" if pred_hm_only else \"_bothcl\")"
   ]
  },
  {
   "cell_type": "code",
   "execution_count": null,
   "metadata": {},
   "outputs": [],
   "source": [
    "## load images and ids\n",
    "(X_in, pat, id_tab, all_results, num_models) = rdat.version_setup(\n",
    "    DATA_DIR = DATA_DIR, version = version, model_version = model_version)\n",
    "\n",
    "## load patient data\n",
    "PAT_CSV_DIR = \"/tf/notebooks/hezo/stroke_zurich/data/baseline_data_zurich_prepared0.csv\" \n",
    "pat_dat = pd.read_csv(PAT_CSV_DIR, sep=\";\")\n"
   ]
  },
  {
   "cell_type": "markdown",
   "metadata": {},
   "source": [
    "## Model"
   ]
  },
  {
   "cell_type": "code",
   "execution_count": null,
   "metadata": {},
   "outputs": [],
   "source": [
    "# define model\n",
    "(input_dim, output_dim, LOSS, layer_connection, last_activation) = md.model_setup(version)\n",
    "\n",
    "model_3d = md.stroke_binary_3d(input_dim = input_dim,\n",
    "                               output_dim = output_dim,\n",
    "                               layer_connection = layer_connection,\n",
    "                               last_activation = last_activation)\n",
    "model_3d.compile(\n",
    "    loss=LOSS,\n",
    "    optimizer=keras.optimizers.Adam(learning_rate=5*1e-5),\n",
    "    metrics=[\"acc\", tf.keras.metrics.AUC()]\n",
    ")\n",
    "\n",
    "# define if print should be enabled\n",
    "check_print = True\n"
   ]
  },
  {
   "cell_type": "code",
   "execution_count": null,
   "metadata": {},
   "outputs": [],
   "source": [
    "# Define Model Name\n",
    "generate_model_name = md.set_generate_model_name(\n",
    "    model_version = model_version, \n",
    "    layer_connection = layer_connection, \n",
    "    last_activation = last_activation, \n",
    "    path = WEIGHT_DIR) "
   ]
  },
  {
   "cell_type": "markdown",
   "metadata": {},
   "source": [
    "# Plot GradCams"
   ]
  },
  {
   "cell_type": "markdown",
   "metadata": {},
   "source": [
    "## Calculate Heatmap and Heatmap Uncertainty"
   ]
  },
  {
   "cell_type": "code",
   "execution_count": null,
   "metadata": {},
   "outputs": [],
   "source": [
    "# select all patients\n",
    "p_ids = all_results[\"p_id\"].to_numpy()\n",
    "\n",
    "if version == \"andrea\":\n",
    "    (res_table, res_images, res_model_names) = gc.get_img_and_models(\n",
    "        p_ids, results = all_results[all_results.test_split == 6], pats = pat, imgs = X_in,\n",
    "        gen_model_name = generate_model_name) # andrea split\n",
    "elif version.startswith(\"10Fold\"):\n",
    "    (res_table, res_images, res_model_names) = gc.get_img_and_models(\n",
    "        p_ids, results = all_results, pats = pat, imgs = X_in,\n",
    "        gen_model_name = generate_model_name,\n",
    "        num_models = num_models) # 10 Fold"
   ]
  },
  {
   "cell_type": "code",
   "execution_count": null,
   "metadata": {},
   "outputs": [],
   "source": [
    "vis_layers = [i.name for i in model_3d.layers[1:-6]]\n",
    "vis_layers = [vis_layer for vis_layer in vis_layers if vis_layer.startswith(\"conv\")]\n",
    "print(vis_layers)"
   ]
  },
  {
   "cell_type": "code",
   "execution_count": null,
   "metadata": {},
   "outputs": [],
   "source": [
    "res_table"
   ]
  },
  {
   "cell_type": "markdown",
   "metadata": {},
   "source": [
    "Loop over all patients and generate heatmaps."
   ]
  },
  {
   "cell_type": "code",
   "execution_count": null,
   "metadata": {},
   "outputs": [],
   "source": [
    "# lc = last conv layer\n",
    "# ac = average over all conv layer\n",
    "\n",
    "if pred_hm_only:\n",
    "    gcpp_hm = \"last\" # gc\n",
    "    both_directions = False # oc\n",
    "    cmap = \"jet\" # both\n",
    "    hm_positive=True # both\n",
    "else:\n",
    "    gcpp_hm = \"none\" # gc\n",
    "    both_directions = True # oc\n",
    "    cmap = \"bwr\" # both\n",
    "    hm_positive=False # both\n",
    "    \n",
    "if \"sigmoid\" in version or \"andrea_split\" in version:\n",
    "    pred_idx = 0\n",
    "elif \"softmax\" in version:\n",
    "    pred_idx = 1\n",
    "    \n",
    "occ_size = (14, 14, 10)\n",
    "occ_stride = 6\n",
    "num_occlusion =  int(np.prod(((np.array(res_images.shape[1:4]) - occ_size) / occ_stride) + 1))\n",
    "print('number of occlusions per model: ', num_occlusion)\n",
    "\n",
    "if generate_heatmap_and_save:\n",
    "\n",
    "    heatmaps_lc = []\n",
    "    max_hm_slices_lc = []\n",
    "    hm_mean_stds_lc = []\n",
    "\n",
    "    heatmaps_ac = []\n",
    "    max_hm_slices_ac = []\n",
    "    hm_mean_stds_ac = []\n",
    "\n",
    "    resized_imgs = []\n",
    "\n",
    "    model_mode = \"mean\"\n",
    "    for i in tqdm(range(len(res_table))):\n",
    "        \n",
    "        # define if and how heatmap should be inverted\n",
    "        if pred_hm_only and hm_type == \"gc\":\n",
    "            invert_hm = \"all\" if res_table.y_pred_class[i] == 0 else \"none\"\n",
    "        elif not pred_hm_only and hm_type == \"gc\":\n",
    "            invert_hm = \"none\"\n",
    "        elif pred_hm_only and hm_type == \"oc\":\n",
    "            invert_hm = \"pred_class\"\n",
    "        elif not pred_hm_only and hm_type == \"oc\":\n",
    "            invert_hm = \"never\"\n",
    "\n",
    "        if hm_type == \"gc\":\n",
    "            heatmap, resized_img, max_hm_slice, hm_mean_std = gc.multi_models_grad_cam_3d(\n",
    "                img = res_images[i:i+1], \n",
    "                model_names = res_model_names[i],\n",
    "                cnn = model_3d,\n",
    "                layers = vis_layers[-1],\n",
    "                model_mode = model_mode,\n",
    "                pred_index = pred_idx,\n",
    "                invert_hm = invert_hm,\n",
    "                gcpp_hm = gcpp_hm)\n",
    "        elif hm_type == \"oc\":\n",
    "            heatmap, resized_img, max_hm_slice, hm_mean_std =  oc.volume_occlusion(\n",
    "                volume = res_images[i:i+1], \n",
    "                model_names = res_model_names[i],\n",
    "                res_tab = res_table[i:i+1].reset_index(drop = True),\n",
    "                cnn = model_3d,\n",
    "                occlusion_size = np.array(occ_size), \n",
    "                occlusion_stride = occ_stride,\n",
    "                both_directions = both_directions,\n",
    "                invert_hm = invert_hm)\n",
    "            \n",
    "        heatmaps_lc.append(heatmap)\n",
    "        max_hm_slices_lc.append(max_hm_slice)\n",
    "        hm_mean_stds_lc.append(hm_mean_std)\n",
    "\n",
    "        if not last_layer_only and hm_type == \"gc\":\n",
    "            heatmap, resized_img, max_hm_slice, hm_mean_std = gc.multi_models_grad_cam_3d(\n",
    "            img = res_images[i:i+1], \n",
    "            cnn = model_3d,\n",
    "            model_names = res_model_names[i],\n",
    "            layers = vis_layers,\n",
    "            model_mode = model_mode,\n",
    "            pred_index = pred_idx,\n",
    "            invert_hm = invert_hm,\n",
    "            gcpp_hm = gcpp_hm)\n",
    "\n",
    "            heatmaps_ac.append(heatmap)\n",
    "            max_hm_slices_ac.append(max_hm_slice)\n",
    "            hm_mean_stds_ac.append(hm_mean_std)\n",
    "\n",
    "        resized_imgs.append(resized_img)\n",
    "        \n",
    "        gci.collect()        \n",
    "        \n",
    "else:\n",
    "    res_table = pd.read_csv(DATA_OUTPUT_DIR + \"all_tab_results_hm_unc_\" + pic_save_name + \".csv\",  sep = \",\")\n",
    "    heatmaps_lc = np.load(DATA_OUTPUT_DIR + \"all_heatmaps_\" + pic_save_name + \".npy\")\n",
    "    max_hm_slices_lc = np.load(DATA_OUTPUT_DIR + \"all_max_activation_indices_\" + pic_save_name + \".npy\")\n",
    "    if not last_layer_only and hm_type == \"gc\":\n",
    "        heatmaps_ac = np.load(DATA_OUTPUT_DIR + \"all_heatmaps_average_conv_layer_\" + pic_save_name + \".npy\")\n",
    "        max_hm_slices_ac = np.load(DATA_OUTPUT_DIR + \"all_max_activation_indices_laverage_conv_layer_\" + pic_save_name + \".npy\")\n",
    "    "
   ]
  },
  {
   "cell_type": "code",
   "execution_count": null,
   "metadata": {},
   "outputs": [],
   "source": [
    "if generate_heatmap_and_save:   \n",
    "    res_table[\"heatmap_std_last_layer\"] = hm_mean_stds_lc\n",
    "    res_table[\"heatmap_unc_last_layer\"] = (res_table[\"heatmap_std_last_layer\"] - res_table.heatmap_std_last_layer.min()) / (\n",
    "        res_table.heatmap_std_last_layer.max() - res_table.heatmap_std_last_layer.min())\n",
    "    \n",
    "    if not last_layer_only:\n",
    "        res_table[\"heatmap_std_avg_layer\"] = hm_mean_stds_ac\n",
    "        res_table[\"heatmap_unc_avg_layer\"] = (res_table[\"heatmap_std_avg_layer\"] - res_table.heatmap_std_avg_layer.min()) / (\n",
    "            res_table.heatmap_std_avg_layer.max() - res_table.heatmap_std_avg_layer.min())\n"
   ]
  },
  {
   "cell_type": "markdown",
   "metadata": {},
   "source": [
    "#### Evaluate Metrics\n",
    "\n",
    "Calculate heatmap uncertainty. Which is the normalized (min-max) averaged standard deviation over each pixel. "
   ]
  },
  {
   "cell_type": "code",
   "execution_count": null,
   "metadata": {},
   "outputs": [],
   "source": [
    "if not last_layer_only and hm_type == \"gc\":\n",
    "    print(np.corrcoef(res_table[\"heatmap_unc_avg_layer\"], res_table[\"heatmap_unc_last_layer\"]))\n",
    "    print(np.corrcoef(res_table[\"y_pred_unc\"], res_table[\"heatmap_unc_avg_layer\"]))\n",
    "print(np.corrcoef(res_table[\"y_pred_unc\"], res_table[\"heatmap_unc_last_layer\"]))"
   ]
  },
  {
   "cell_type": "code",
   "execution_count": null,
   "metadata": {},
   "outputs": [],
   "source": [
    "if not last_layer_only and hm_type == \"gc\":\n",
    "    fig, (ax1, ax2, ax3) = plt.subplots(1,3, figsize = (15, 5))\n",
    "else:\n",
    "    fig, (ax1, ax3) = plt.subplots(1,2, figsize = (10, 5))\n",
    "\n",
    "sns.boxplot(x = \"unfavorable\",\n",
    "    y = \"y_pred_unc\",\n",
    "    data = res_table,\n",
    "    ax = ax1)\n",
    "sns.stripplot(x = \"unfavorable\",\n",
    "    y = \"y_pred_unc\",\n",
    "    hue = 'y_pred_class',\n",
    "    alpha = 0.75,\n",
    "    palette=[\"C2\", \"C3\"],\n",
    "    data = res_table,\n",
    "    ax = ax1)\n",
    "ax1.legend(title='predicted class', loc='upper center')\n",
    "ax1.set(xlabel='true class', ylabel='prediction uncertainty')\n",
    "\n",
    "if not last_layer_only:\n",
    "    sns.boxplot(x = \"unfavorable\",\n",
    "        y = \"heatmap_unc_avg_layer\",\n",
    "        data = res_table,\n",
    "        ax = ax2)\n",
    "    sns.stripplot(x = \"unfavorable\",\n",
    "        y = \"heatmap_unc_avg_layer\",\n",
    "        hue = 'y_pred_class',\n",
    "        alpha = 0.75,\n",
    "        palette=[\"C2\", \"C3\"],\n",
    "        data = res_table,\n",
    "        ax = ax2)\n",
    "    ax2.legend(title='predicted class', loc='upper center')\n",
    "    ax2.set(xlabel='true class', ylabel='heatmap uncertainty avg layer')\n",
    "\n",
    "sns.boxplot(x = \"unfavorable\",\n",
    "    y = \"heatmap_unc_last_layer\",\n",
    "    data = res_table,\n",
    "    ax = ax3)\n",
    "sns.stripplot(x = \"unfavorable\",\n",
    "    y = \"heatmap_unc_last_layer\",\n",
    "    hue = 'y_pred_class',\n",
    "    alpha = 0.75,\n",
    "    palette=[\"C2\", \"C3\"],\n",
    "    data = res_table,\n",
    "    ax = ax3)\n",
    "ax3.legend(title='predicted class', loc='upper center')\n",
    "ax3.set(xlabel='true class', ylabel='heatmap uncertainty')"
   ]
  },
  {
   "cell_type": "code",
   "execution_count": null,
   "metadata": {},
   "outputs": [],
   "source": [
    "sns.scatterplot(\n",
    "           x = \"heatmap_unc_last_layer\",\n",
    "           y = \"y_pred_unc\",\n",
    "            data = res_table)"
   ]
  },
  {
   "cell_type": "markdown",
   "metadata": {},
   "source": [
    "#### Save Heatmaps, Images and updated Table"
   ]
  },
  {
   "cell_type": "code",
   "execution_count": null,
   "metadata": {},
   "outputs": [],
   "source": [
    "if generate_heatmap_and_save:\n",
    "    res_table.to_csv(DATA_OUTPUT_DIR + \"all_tab_results_hm_unc_\" + pic_save_name + \".csv\",  index=False)\n",
    "    np.save(DATA_OUTPUT_DIR + \"all_heatmaps_\" + pic_save_name + \".npy\", heatmaps_lc)\n",
    "    np.save(DATA_OUTPUT_DIR + \"all_max_activation_indices_\" + pic_save_name + \".npy\", max_hm_slices_lc)\n",
    "    \n",
    "    if not last_layer_only and hm_type == \"gc\":\n",
    "        np.save(DATA_OUTPUT_DIR + \"all_heatmaps_average_conv_layer_\" + pic_save_name + \".npy\", heatmaps_ac)\n",
    "        np.save(DATA_OUTPUT_DIR + \"all_max_activation_indices_laverage_conv_layer_\" + pic_save_name + \".npy\", max_hm_slices_ac)"
   ]
  },
  {
   "cell_type": "markdown",
   "metadata": {},
   "source": [
    "## Plot Average Heatmaps\n",
    "\n",
    "Plot the average heatmaps for all patients. Once for class 0, once for class 1 and once for all patients."
   ]
  },
  {
   "cell_type": "code",
   "execution_count": null,
   "metadata": {},
   "outputs": [],
   "source": [
    "idx = np.where(res_table[\"y_pred_class\"] == 0)"
   ]
  },
  {
   "cell_type": "code",
   "execution_count": null,
   "metadata": {},
   "outputs": [],
   "source": [
    "mean_hm_lc = np.array(np.take(heatmaps_lc, idx, axis = 0).squeeze()).mean(axis = 0)\n",
    "if not last_layer_only:\n",
    "    mean_hm_ac = np.array(np.take(heatmaps_ac, idx, axis = 0).squeeze()).mean(axis = 0)\n",
    "mean_image = np.array(np.take(res_images, idx, axis = 0).squeeze()).mean(axis = 0)\n",
    "\n",
    "phm.plot_heatmap(mean_image, mean_hm_lc,\n",
    "            version = \"overlay\",\n",
    "            mode = \"avg\",\n",
    "            hm_colormap = cmap,\n",
    "            hm_positive = hm_positive)\n",
    "if not last_layer_only:\n",
    "    phm.plot_heatmap(mean_image, mean_hm_ac,\n",
    "                version = \"overlay\",\n",
    "                mode = \"avg\")"
   ]
  },
  {
   "cell_type": "code",
   "execution_count": null,
   "metadata": {},
   "outputs": [],
   "source": [
    "idx = np.where(res_table[\"y_pred_class\"] == 1)"
   ]
  },
  {
   "cell_type": "code",
   "execution_count": null,
   "metadata": {},
   "outputs": [],
   "source": [
    "mean_hm_lc = np.array(np.take(heatmaps_lc, idx, axis = 0).squeeze()).mean(axis = 0)\n",
    "if not last_layer_only:\n",
    "    mean_hm_ac = np.array(np.take(heatmaps_ac, idx, axis = 0).squeeze()).mean(axis = 0)\n",
    "mean_image = np.array(np.take(res_images, idx, axis = 0).squeeze()).mean(axis = 0)\n",
    "\n",
    "phm.plot_heatmap(mean_image, mean_hm_lc,\n",
    "            version = \"overlay\",\n",
    "            mode = \"avg\",\n",
    "            hm_colormap = cmap,\n",
    "            hm_positive = hm_positive)\n",
    "if not last_layer_only:\n",
    "    phm.plot_heatmap(mean_image, mean_hm_ac,\n",
    "                version = \"overlay\",\n",
    "                mode = \"avg\")"
   ]
  },
  {
   "cell_type": "code",
   "execution_count": null,
   "metadata": {},
   "outputs": [],
   "source": [
    "idx = np.arange(0,407)"
   ]
  },
  {
   "cell_type": "code",
   "execution_count": null,
   "metadata": {},
   "outputs": [],
   "source": [
    "mean_hm_lc = np.array(np.take(heatmaps_lc, idx, axis = 0).squeeze()).mean(axis = 0)\n",
    "if not last_layer_only:\n",
    "    mean_hm_ac = np.array(np.take(heatmaps_ac, idx, axis = 0).squeeze()).mean(axis = 0)\n",
    "mean_image = np.array(np.take(res_images, idx, axis = 0).squeeze()).mean(axis = 0)\n",
    "\n",
    "phm.plot_heatmap(mean_image, mean_hm_lc,\n",
    "            version = \"overlay\",\n",
    "            mode = \"avg\",\n",
    "            hm_colormap = cmap,\n",
    "            hm_positive = hm_positive)\n",
    "if not last_layer_only:\n",
    "    phm.plot_heatmap(mean_image, mean_hm_ac,\n",
    "                version = \"overlay\",\n",
    "                mode = \"avg\")"
   ]
  },
  {
   "cell_type": "markdown",
   "metadata": {},
   "source": [
    "## Save Plots as PNG"
   ]
  },
  {
   "cell_type": "code",
   "execution_count": null,
   "metadata": {
    "scrolled": true
   },
   "outputs": [],
   "source": [
    "if generate_pictures:\n",
    "    if not last_layer_only:\n",
    "        phm.plot_gradcams_last_avg_org(\n",
    "            res_table = res_table, \n",
    "            vis_layers = vis_layers,\n",
    "            res_images = res_images,\n",
    "            res_model_names = res_model_names,\n",
    "            model_3d = model_3d,\n",
    "            layer_mode = \"mean\", \n",
    "            heatmap_mode = \"avg\", \n",
    "            save_path = PIC_OUTPUT_DIR, \n",
    "            save_name = pic_save_name, save = True)\n",
    "\n",
    "        phm.plot_gradcams_last_avg_org(\n",
    "            res_table = res_table, \n",
    "            vis_layers = vis_layers,\n",
    "            res_images = res_images,\n",
    "            res_model_names = res_model_names,\n",
    "            model_3d = model_3d,\n",
    "            layer_mode = \"mean\",\n",
    "            heatmap_mode = \"max\", \n",
    "            save_path = PIC_OUTPUT_DIR, \n",
    "            save_name = pic_save_name, save = True)\n",
    "    else:\n",
    "        phm.plot_heatmaps_avg_max_org(\n",
    "            pat_data = pat_dat,\n",
    "            res_table = res_table, \n",
    "            res_images = res_images,\n",
    "            heatmaps = heatmaps_lc,\n",
    "            cmap = cmap,\n",
    "            hm_positive = hm_positive,\n",
    "            save_path = PIC_OUTPUT_DIR, \n",
    "            save_name = pic_save_name, save = True)\n",
    "    \n"
   ]
  },
  {
   "cell_type": "markdown",
   "metadata": {},
   "source": [
    "## Save Plots to PDF"
   ]
  },
  {
   "cell_type": "code",
   "execution_count": null,
   "metadata": {},
   "outputs": [],
   "source": [
    "# only_wrong_out = True # should already be defined above"
   ]
  },
  {
   "cell_type": "code",
   "execution_count": null,
   "metadata": {},
   "outputs": [],
   "source": [
    "if not only_wrong_out: # all ids\n",
    "    pat_ids = list(res_table[\"p_id\"])\n",
    "else: # only ids with low uncertainty and wrong classified\n",
    "    pat_ids = list(res_table.query(\"pred_correct == False and y_pred_unc < 0.2\").p_id)\n",
    "    res_table[res_table.p_id.isin(pat_ids)].to_csv(\n",
    "        DATA_OUTPUT_DIR + \"all_tab_results_hm_unc_\" + pic_save_name + \"_wrong_cl.csv\",  index=False)"
   ]
  },
  {
   "cell_type": "code",
   "execution_count": null,
   "metadata": {},
   "outputs": [],
   "source": [
    "res_table[res_table.p_id.isin(pat_ids)]"
   ]
  },
  {
   "cell_type": "code",
   "execution_count": null,
   "metadata": {},
   "outputs": [],
   "source": [
    "pdf = FPDF()\n",
    "pdf.set_auto_page_break(0)\n",
    "\n",
    "# imagelist is the list with all image filenames\n",
    "for patient in tqdm(pat_ids):\n",
    "    \n",
    "    name_start = PIC_OUTPUT_DIR + \"pat\" + str(patient) + \"_\" + pic_save_name\n",
    "    \n",
    "    if not last_layer_only:\n",
    "        pdf.add_page(orientation = \"L\", format = \"A4\")\n",
    "        x,y,w,h = (0,10,160,160)\n",
    "        pdf.image(name_start + \"_last_and_all_layers_avg.png\", x,y,w,h)\n",
    "        x,y,w,h = (140,10,160,160)\n",
    "        pdf.image(name_start + \"_last_and_all_layers_max.png\", x,y,w,h)\n",
    "    else:\n",
    "        pdf.add_page(orientation = \"P\", format = \"A4\")\n",
    "        x,y,w,h = (0,10,205,205)\n",
    "        pdf.image(name_start + \"_last_layer_avg_max_orig.png\", x,y,w,h)\n",
    "        \n",
    "    \n",
    "if only_wrong_out:\n",
    "    pdf.output(PIC_OUTPUT_DIR + \"10Fold_ensembling\" + pic_save_name[6:] + \"_all_patients_wrong_cl.pdf\", \"F\")\n",
    "else:\n",
    "    pdf.output(PIC_OUTPUT_DIR + \"10Fold_ensembling\" + pic_save_name[6:] + \"_all_patients.pdf\", \"F\")\n"
   ]
  }
 ],
 "metadata": {
  "kernelspec": {
   "display_name": "Python 3",
   "language": "python",
   "name": "python3"
  }
 },
 "nbformat": 4,
 "nbformat_minor": 2
}
