{
 "cells": [
  {
   "cell_type": "markdown",
   "metadata": {},
   "source": [
    "# Interactive Occlusion Heatmap slider for all models\n",
    "\n",
    "For a given patient id the occlusion heatmap is calculated for all models and displayed in a slider.\n",
    "The size of the occlusion can be adjusted manually.\n",
    "\n",
    "### Imports"
   ]
  },
  {
   "cell_type": "code",
   "execution_count": null,
   "metadata": {},
   "outputs": [],
   "source": [
    "%matplotlib inline\n",
    "\n",
    "import os\n",
    "import numpy as np\n",
    "\n",
    "import tensorflow as tf\n",
    "\n",
    "print(\"TF  Version\",tf.__version__)"
   ]
  },
  {
   "cell_type": "code",
   "execution_count": null,
   "metadata": {},
   "outputs": [],
   "source": [
    "# check and set path before loading modules\n",
    "print(os.getcwd())\n",
    "INPUT_DIR = \"/tf/notebooks/schnemau/xAI_stroke_3d/\"\n",
    "OUTPUT_DIR = \"/tf/notebooks/bule/explainable_AI/\"\n",
    "if os.getcwd() != OUTPUT_DIR:\n",
    "    os.chdir(OUTPUT_DIR)"
   ]
  },
  {
   "cell_type": "code",
   "execution_count": null,
   "metadata": {},
   "outputs": [],
   "source": [
    "import functions_model_definition as md\n",
    "import functions_read_data as rdat\n",
    "import functions_occlusion as oc\n",
    "import functions_gradcam as gc\n",
    "import functions_plot_heatmap as phm\n",
    "import functions_slider as sl"
   ]
  },
  {
   "cell_type": "markdown",
   "metadata": {},
   "source": [
    "### Load Data and Set Parameters"
   ]
  },
  {
   "cell_type": "code",
   "execution_count": null,
   "metadata": {},
   "outputs": [],
   "source": [
    "## ToDo: \n",
    "## - hm_type should always be \"gc\" in this notebook\n",
    "## - pred_hm_only, norm_hm and hm_mode should only be adjusted in last chunk\n",
    "## - pic_save_name is not needed in this notebook: implement dictionary for paths\n",
    "\n",
    "# Define Version\n",
    "version = \"CIBLSX\" # one of:\n",
    "# 10Fold_sigmoid_V0, 10Fold_sigmoid_V1, 10Fold_sigmoid_V2, 10Fold_sigmoid_V2f, 10Fold_sigmoid_V3\n",
    "# 10Fold_softmax_V0, 10Fold_softmax_V1, andrea\n",
    "# 10Fold_CIB, 10Fold_CIBLSX\n",
    "\n",
    "# Define Model Version\n",
    "model_version = 3\n",
    "\n",
    "# define weighting\n",
    "hm_mode = \"wgt\" \n",
    "\n",
    "# define heatmap type\n",
    "hm_type = \"oc\"\n",
    "norm_hm = False\n",
    "pred_hm_only = True\n",
    "\n",
    "# Select naming convention (for CIBLSX model_version >= 3 and CIB model_version >= 2 should be False, else True)\n",
    "comp_mode = False # if True: use old naming convention\n",
    "\n",
    "# define paths\n",
    "DATA_DIR, WEIGHT_DIR, DATA_OUTPUT_DIR, PIC_OUTPUT_DIR, pic_save_name = rdat.dir_setup(\n",
    "    INPUT_DIR, OUTPUT_DIR, version, model_version, \n",
    "    weight_mode = hm_mode, hm_type = hm_type, pred_hm = pred_hm_only, hm_norm = norm_hm,\n",
    "    compatibility_mode=comp_mode)"
   ]
  },
  {
   "cell_type": "code",
   "execution_count": null,
   "metadata": {},
   "outputs": [],
   "source": [
    "## load images and ids\n",
    "(X_in, pat_ids, id_tab, all_results_tab, pat_orig_tab, pat_norm_tab, num_models) = rdat.version_setup(\n",
    "    DATA_DIR = DATA_DIR, version = version, model_version = model_version,\n",
    "    compatibility_mode=comp_mode)"
   ]
  },
  {
   "cell_type": "markdown",
   "metadata": {},
   "source": [
    "## Model"
   ]
  },
  {
   "cell_type": "code",
   "execution_count": null,
   "metadata": {},
   "outputs": [],
   "source": [
    "# define model\n",
    "(input_dim_img, output_dim, LOSS, layer_connection, last_activation) = md.model_setup(version)\n",
    "\n",
    "model_3d = md.model_init(\n",
    "    version = version, \n",
    "    output_dim = output_dim,\n",
    "    LOSS = LOSS,\n",
    "    layer_connection = layer_connection,\n",
    "    last_activation = last_activation,\n",
    "    C = 2,\n",
    "    learning_rate = 5*1e-5,\n",
    "    batch_size = 6,\n",
    "    input_dim = input_dim_img,\n",
    "    input_dim_tab = pat_norm_tab.drop(columns=[\"p_id\"]).shape[1] if \"LSX\" in version else None,\n",
    ")"
   ]
  },
  {
   "cell_type": "code",
   "execution_count": null,
   "metadata": {},
   "outputs": [],
   "source": [
    "# Define Model Name\n",
    "generate_model_name = md.set_generate_model_name(\n",
    "    model_version = model_version, \n",
    "    layer_connection = layer_connection, \n",
    "    last_activation = last_activation, \n",
    "    path = WEIGHT_DIR,\n",
    "    compatability_mode=comp_mode)  "
   ]
  },
  {
   "cell_type": "markdown",
   "metadata": {},
   "source": [
    "### Check Occlusion Size"
   ]
  },
  {
   "cell_type": "code",
   "execution_count": null,
   "metadata": {},
   "outputs": [],
   "source": [
    "### occlusion\n",
    "# occ_size = (16, 16, 12)\n",
    "# occ_stride = 8\n",
    "# occ_size = (14, 14, 10)\n",
    "# occ_stride = (6)\n",
    "occ_size = (18, 18, 4)\n",
    "occ_stride = (10, 10, 3)\n",
    "print(\"number of occlusions: \", int(np.prod(((np.array(X_in.shape[1:4]) - occ_size) / occ_stride) + 1)))\n",
    "print(\"number of occlusions per axis: \", ((np.array(X_in.shape[1:4]) - occ_size) / occ_stride) + 1)\n",
    "print((np.asarray(X_in.shape[1:4]) - occ_size) % occ_stride) # all must be zero\n",
    "print(all(np.array(occ_size) > occ_stride)) # must be true\n",
    "print(np.array(X_in.shape[1:4]) / occ_size) # if all same, then same ratio of occ_size to image size"
   ]
  },
  {
   "cell_type": "markdown",
   "metadata": {},
   "source": [
    "# Occlusion Slider"
   ]
  },
  {
   "cell_type": "code",
   "execution_count": null,
   "metadata": {},
   "outputs": [],
   "source": [
    "## old occlusion\n",
    "# occ_size = (16, 16, 12)\n",
    "# occ_stride = [8]\n",
    "# occ_size = (14, 14, 10)\n",
    "# occ_stride = [6]\n",
    "\n",
    "## new occlusion\n",
    "# occ_size = (20, 20, 16)\n",
    "# occ_stride = [6]\n",
    "occ_size = (18, 18, 4)\n",
    "occ_stride = (10, 10, 3)\n",
    "\n",
    "sl.occlusion_interactive_plot(\n",
    "    6, # patient id\n",
    "    occ_size = occ_size, occ_stride = occ_stride,\n",
    "    cnn=model_3d, all_results=all_results_tab, pat=pat_ids, X_in=X_in,\n",
    "    generate_model_name=generate_model_name, num_models=num_models,\n",
    "    pat_dat=pat_orig_tab, pat_norm_table=pat_norm_tab,\n",
    "    model_mode=\"weighted\",\n",
    "    normalize_hm=False,\n",
    "    pred_hm_only=True) # if True, only the heatmap for the predicted class is shown, otherwise also negative heatmaps are shown"
   ]
  },
  {
   "cell_type": "code",
   "execution_count": null,
   "metadata": {},
   "outputs": [],
   "source": [
    "import matplotlib.pyplot as plt\n",
    "im = X_in[np.where(all_results_tab.p_id == 6)[0]][0, :, :, 4]\n",
    "plt.imshow(im, cmap=\"gray\")"
   ]
  },
  {
   "cell_type": "code",
   "execution_count": null,
   "metadata": {},
   "outputs": [],
   "source": [
    "np.quantile(X_in, q = [0.25, 0.5, 0.75])"
   ]
  },
  {
   "cell_type": "code",
   "execution_count": null,
   "metadata": {},
   "outputs": [],
   "source": [
    "im_occ = im.copy()\n",
    "im_occ[70:70+occ_size[0], 60:60+occ_size[1]] = 0\n",
    "plt.imshow(im_occ, cmap=\"gray\")"
   ]
  }
 ],
 "metadata": {
  "kernelspec": {
   "display_name": "Python 3",
   "language": "python",
   "name": "python3"
  }
 },
 "nbformat": 4,
 "nbformat_minor": 2
}
