{
 "cells": [
  {
   "cell_type": "markdown",
   "metadata": {},
   "source": [
    "# Interactive Occlusion Heatmap slider for all models\n",
    "\n",
    "For a given patient id the occlusion heatmap is calculated for all models and displayed in a slider.\n",
    "The size of the occlusion can be adjusted manually.\n",
    "\n",
    "### Imports"
   ]
  },
  {
   "cell_type": "code",
   "execution_count": null,
   "metadata": {},
   "outputs": [],
   "source": [
    "%matplotlib inline\n",
    "\n",
    "import os\n",
    "import h5py\n",
    "import tqdm\n",
    "import numpy as np\n",
    "import pandas as pd\n",
    "\n",
    "import matplotlib.pyplot as plt\n",
    "\n",
    "from sklearn import metrics\n",
    "from sklearn.metrics import confusion_matrix, roc_curve, auc\n",
    "\n",
    "import tensorflow as tf\n",
    "from tensorflow import keras\n",
    "\n",
    "print(\"TF  Version\",tf.__version__)"
   ]
  },
  {
   "cell_type": "code",
   "execution_count": null,
   "metadata": {},
   "outputs": [],
   "source": [
    "# check and set path before loading modules\n",
    "print(os.getcwd())\n",
    "INPUT_DIR = \"/tf/notebooks/schnemau/xAI_stroke_3d/\"\n",
    "OUTPUT_DIR = \"/tf/notebooks/bule/explainable_AI/\"\n",
    "if os.getcwd() != OUTPUT_DIR:\n",
    "    os.chdir(OUTPUT_DIR)"
   ]
  },
  {
   "cell_type": "code",
   "execution_count": null,
   "metadata": {},
   "outputs": [],
   "source": [
    "import functions_model_definition as md\n",
    "import functions_read_data as rdat\n",
    "import functions_occlusion as oc\n",
    "import functions_gradcam as gc\n",
    "import functions_plot_heatmap as phm\n",
    "import functions_slider as sl"
   ]
  },
  {
   "cell_type": "markdown",
   "metadata": {},
   "source": [
    "### Load Data and Set Parameters"
   ]
  },
  {
   "cell_type": "code",
   "execution_count": null,
   "metadata": {},
   "outputs": [],
   "source": [
    "# Define Version\n",
    "version = \"10Fold_CIBLSX\" # one of:\n",
    "# 10Fold_sigmoid_V0, 10Fold_sigmoid_V1, 10Fold_sigmoid_V2, 10Fold_sigmoid_V2f, 10Fold_sigmoid_V3\n",
    "# 10Fold_softmax_V0, 10Fold_softmax_V1, andrea\n",
    "# 10Fold_CIB, 10Fold_CIBLSX\n",
    "\n",
    "# Define Model Version\n",
    "model_version = 1\n",
    "\n",
    "# define weighting\n",
    "hm_mode = \"wgt\" \n",
    "\n",
    "# define heatmap type\n",
    "hm_type = \"gc\"\n",
    "pred_hm_only = False\n",
    "\n",
    "# define paths\n",
    "DATA_DIR, WEIGHT_DIR, DATA_OUTPUT_DIR, PIC_OUTPUT_DIR, pic_save_name = rdat.dir_setup(\n",
    "    INPUT_DIR, OUTPUT_DIR, version, model_version, weight_mode = hm_mode,\n",
    "    hm_type = hm_type, ending = \"_predcl\" if pred_hm_only else \"_bothcl\")"
   ]
  },
  {
   "cell_type": "code",
   "execution_count": null,
   "metadata": {},
   "outputs": [],
   "source": [
    "## load images and ids\n",
    "(X_in, pat_ids, id_tab, all_results_tab, pat_orig_tab, pat_norm_tab, num_models) = rdat.version_setup(\n",
    "    DATA_DIR = DATA_DIR, version = version, model_version = model_version)"
   ]
  },
  {
   "cell_type": "markdown",
   "metadata": {},
   "source": [
    "## Model"
   ]
  },
  {
   "cell_type": "code",
   "execution_count": null,
   "metadata": {},
   "outputs": [],
   "source": [
    "# define model\n",
    "(input_dim_img, output_dim, LOSS, layer_connection, last_activation) = md.model_setup(version)\n",
    "\n",
    "model_3d = md.model_init(\n",
    "    version = version, \n",
    "    output_dim = output_dim,\n",
    "    LOSS = LOSS,\n",
    "    layer_connection = layer_connection,\n",
    "    last_activation = last_activation,\n",
    "    C = 2,\n",
    "    learning_rate = 5*1e-5,\n",
    "    batch_size = 6,\n",
    "    input_dim = input_dim_img,\n",
    "    input_dim_tab = pat_norm_tab.drop(columns=[\"p_id\"]).shape[1] if \"LSX\" in version else None,\n",
    ")"
   ]
  },
  {
   "cell_type": "code",
   "execution_count": null,
   "metadata": {},
   "outputs": [],
   "source": [
    "# Define Model Name\n",
    "generate_model_name = md.set_generate_model_name(\n",
    "    model_version = model_version, \n",
    "    layer_connection = layer_connection, \n",
    "    last_activation = last_activation, \n",
    "    path = WEIGHT_DIR)  "
   ]
  },
  {
   "cell_type": "markdown",
   "metadata": {},
   "source": [
    "# Occlusion without slider"
   ]
  },
  {
   "cell_type": "code",
   "execution_count": null,
   "metadata": {},
   "outputs": [],
   "source": [
    "(res_table, res_images, res_model_names) = gc.get_img_and_models(\n",
    "        [3], results = all_results_tab, pats = pat_ids, imgs = X_in, \n",
    "        gen_model_name = generate_model_name,\n",
    "        num_models = num_models)"
   ]
  },
  {
   "cell_type": "code",
   "execution_count": null,
   "metadata": {},
   "outputs": [],
   "source": [
    "res_table"
   ]
  },
  {
   "cell_type": "markdown",
   "metadata": {},
   "source": [
    "Two different occlusions are recommended.  \n",
    "However, the occlusion can also be defined by the user. The third row of the following output must be all 0 and the fourth row must be True and the occlusion will work."
   ]
  },
  {
   "cell_type": "code",
   "execution_count": null,
   "metadata": {},
   "outputs": [],
   "source": [
    "### occlusion\n",
    "# occ_size = (16, 16, 12)\n",
    "# occ_stride = 8\n",
    "# occ_size = (14, 14, 10)\n",
    "# occ_stride = (6)\n",
    "occ_size = (18, 18, 4)\n",
    "occ_stride = (10, 10, 3)\n",
    "print(\"number of occlusions: \", int(np.prod(((np.array(res_images.shape[1:4]) - occ_size) / occ_stride) + 1)))\n",
    "print(\"number of occlusions per axis: \", ((np.array(res_images.shape[1:4]) - occ_size) / occ_stride) + 1)\n",
    "print((np.asarray(res_images.shape[1:4]) - occ_size) % occ_stride) # all must be zero\n",
    "print(all(np.array(occ_size) > occ_stride)) # must be true\n",
    "print(np.array(res_images.shape[1:4]) / occ_size) # if all same, then same ratio of occ_size to image size"
   ]
  },
  {
   "cell_type": "code",
   "execution_count": null,
   "metadata": {},
   "outputs": [],
   "source": [
    "import time\n",
    "from importlib import reload\n",
    "reload(oc)\n",
    "\n",
    "start = time.time()\n",
    "(heatmap, resized_img, max_hm_slice, hm_mean_std, all_heatmaps) =  oc.volume_occlusion(\n",
    "    volume = res_images, \n",
    "    res_tab = res_table, \n",
    "    tabular_df=pat_norm_tab,\n",
    "    occlusion_size = np.array(occ_size), \n",
    "    normalize = False,\n",
    "    both_directions = False,\n",
    "    invert_hm = \"pred_class\",\n",
    "    cnn = model_3d,\n",
    "    model_names = res_model_names[0][:], # select model\n",
    "    occlusion_stride = occ_stride)\n",
    "\n",
    "end = time.time()\n",
    "print(end - start)"
   ]
  },
  {
   "cell_type": "code",
   "execution_count": null,
   "metadata": {},
   "outputs": [],
   "source": [
    "phm.plot_heatmap(np.squeeze(resized_img, axis=-1), np.squeeze(heatmap, axis=-1),\n",
    "                version = \"overlay\",\n",
    "                mode = \"avg\",\n",
    "                hm_colormap=\"jet\",\n",
    "                hm_positive=True,\n",
    "                colorbar=True,\n",
    "                )"
   ]
  },
  {
   "cell_type": "code",
   "execution_count": null,
   "metadata": {},
   "outputs": [],
   "source": [
    "phm.plot_heatmap(np.squeeze(resized_img, axis=-1), np.squeeze(heatmap, axis=-1),\n",
    "                version = \"overlay\",\n",
    "                mode = \"def\",\n",
    "                slices = (50,20,20),\n",
    "                hm_colormap=\"jet\",\n",
    "                hm_positive=True,\n",
    "                colorbar=True,\n",
    "                add_orientation=True)"
   ]
  },
  {
   "cell_type": "markdown",
   "metadata": {},
   "source": [
    "Change tabular part "
   ]
  },
  {
   "cell_type": "code",
   "execution_count": null,
   "metadata": {},
   "outputs": [],
   "source": [
    "pat_norm_tab_cp = pat_norm_tab.copy()"
   ]
  },
  {
   "cell_type": "code",
   "execution_count": null,
   "metadata": {},
   "outputs": [],
   "source": [
    "res_table.y_pred_trafo_avg"
   ]
  },
  {
   "cell_type": "code",
   "execution_count": null,
   "metadata": {},
   "outputs": [],
   "source": [
    "def change_input_tabular(tabular_df, value, column = \"age\", orig_mean = 67.61277641277641, orig_sd = 15.215466719566002):\n",
    "    tabular_df_cp = tabular_df.copy()\n",
    "    tabular_df_cp[column] = ( value - orig_mean ) / orig_sd\n",
    "    return tabular_df_cp"
   ]
  },
  {
   "cell_type": "code",
   "execution_count": null,
   "metadata": {},
   "outputs": [],
   "source": [
    "pat_norm_tab_cp = change_input_tabular(pat_norm_tab_cp, 40, \"age\")"
   ]
  },
  {
   "cell_type": "code",
   "execution_count": null,
   "metadata": {},
   "outputs": [],
   "source": [
    "import functions_metrics as fm\n",
    "\n",
    "def predict_ontram_ensemble(res_tab, X, tabular_df, model_names, cnn):\n",
    "\n",
    "    X = X.reshape(1,128,128,28,1)\n",
    "    \n",
    "    out = []\n",
    "    for model_name in model_names:\n",
    "        cnn.load_weights(model_name)\n",
    "\n",
    "        filtered_df = tabular_df[tabular_df['p_id'] == res_tab['p_id'][0]].drop('p_id', axis=1).values\n",
    "        X_tab_occ = np.tile(filtered_df, (len(X), 1))\n",
    "\n",
    "        occ_dataset_pred = ((X, X_tab_occ))\n",
    "        preds = cnn.predict(occ_dataset_pred)\n",
    "        out.append(preds[:,0]-preds[:,1])\n",
    "    \n",
    "    return 1-fm.sigmoid(np.mean((out)))"
   ]
  },
  {
   "cell_type": "code",
   "execution_count": null,
   "metadata": {},
   "outputs": [],
   "source": [
    "predict_ontram_ensemble(res_table, resized_img, pat_norm_tab_cp, res_model_names[0][:], model_3d)"
   ]
  },
  {
   "cell_type": "code",
   "execution_count": null,
   "metadata": {},
   "outputs": [],
   "source": [
    "start = time.time()\n",
    "(heatmap, resized_img, max_hm_slice, hm_mean_std, all_heatmaps) =  oc.volume_occlusion(\n",
    "    volume = res_images, \n",
    "    res_tab = res_table, \n",
    "    tabular_df=pat_norm_tab_cp,\n",
    "    occlusion_size = np.array(occ_size), \n",
    "    normalize = False,\n",
    "    both_directions = False,\n",
    "    invert_hm = \"pred_class\",\n",
    "    cnn = model_3d,\n",
    "    model_names = res_model_names[0][:], # select model\n",
    "    occlusion_stride = occ_stride,\n",
    "    reset_cut_off=True)\n",
    "\n",
    "end = time.time()\n",
    "print(end - start)"
   ]
  },
  {
   "cell_type": "code",
   "execution_count": null,
   "metadata": {},
   "outputs": [],
   "source": [
    "phm.plot_heatmap(np.squeeze(resized_img, axis=-1), np.squeeze(heatmap, axis=-1),\n",
    "                version = \"overlay\",\n",
    "                mode = \"avg\",\n",
    "                hm_colormap=\"jet\",\n",
    "                hm_positive=True,\n",
    "                colorbar=True,\n",
    "                )"
   ]
  },
  {
   "cell_type": "code",
   "execution_count": null,
   "metadata": {},
   "outputs": [],
   "source": [
    "phm.plot_heatmap(np.squeeze(resized_img, axis=-1), np.squeeze(heatmap, axis=-1),\n",
    "                version = \"overlay\",\n",
    "                mode = \"def\",\n",
    "                slices = (50,20,20),\n",
    "                hm_colormap=\"jet\",\n",
    "                hm_positive=True,\n",
    "                colorbar=True,\n",
    "                add_orientation=True)"
   ]
  },
  {
   "cell_type": "markdown",
   "metadata": {},
   "source": [
    "# Occlusion Slider"
   ]
  },
  {
   "cell_type": "code",
   "execution_count": null,
   "metadata": {},
   "outputs": [],
   "source": [
    "## old occlusion\n",
    "# occ_size = (16, 16, 12)\n",
    "# occ_stride = 8\n",
    "# occ_size = (14, 14, 10)\n",
    "# occ_stride = 6\n",
    "\n",
    "## new occlusion\n",
    "# occ_size = (20, 20, 16)\n",
    "# occ_stride = 6\n",
    "occ_size = (18, 18, 4)\n",
    "occ_stride = (10, 10, 3)\n",
    "\n",
    "sl.occlusion_interactive_plot(\n",
    "    12, # patient id\n",
    "    occ_size = occ_size, occ_stride = occ_stride,\n",
    "    cnn=model_3d, all_results=all_results_tab, pat=pat_ids, X_in=X_in,\n",
    "    generate_model_name=generate_model_name, num_models=num_models,\n",
    "    pat_dat=pat_orig_tab, pat_norm_table=pat_norm_tab,\n",
    "    normalize_hm=False,\n",
    "    pred_hm_only=True) # if True, only the heatmap for the predicted class is shown, otherwise also negative heatmaps are shown"
   ]
  }
 ],
 "metadata": {
  "kernelspec": {
   "display_name": "Python 3",
   "language": "python",
   "name": "python3"
  }
 },
 "nbformat": 4,
 "nbformat_minor": 2
}
