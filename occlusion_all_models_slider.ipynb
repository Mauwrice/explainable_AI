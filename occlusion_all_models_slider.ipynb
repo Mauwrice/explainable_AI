{
 "cells": [
  {
   "cell_type": "markdown",
   "metadata": {},
   "source": [
    "# Interactive Occlusion Heatmap slider for all models\n",
    "\n",
    "For a given patient id the occlusion heatmap is calculated for all models and displayed in a slider.\n",
    "The size of the occlusion can be adjusted manually.\n",
    "\n",
    "### Imports"
   ]
  },
  {
   "cell_type": "code",
   "execution_count": null,
   "metadata": {},
   "outputs": [],
   "source": [
    "%matplotlib inline\n",
    "\n",
    "import os\n",
    "import h5py\n",
    "import tqdm\n",
    "import numpy as np\n",
    "import pandas as pd\n",
    "\n",
    "import matplotlib.pyplot as plt\n",
    "\n",
    "from sklearn import metrics\n",
    "from sklearn.metrics import confusion_matrix, roc_curve, auc\n",
    "\n",
    "import tensorflow as tf\n",
    "from tensorflow import keras\n",
    "\n",
    "print(\"TF  Version\",tf.__version__)"
   ]
  },
  {
   "cell_type": "code",
   "execution_count": null,
   "metadata": {},
   "outputs": [],
   "source": [
    "# check and set path before loading modules\n",
    "print(os.getcwd())\n",
    "DIR = \"/tf/notebooks/brdd/xAI_stroke_3d/\"\n",
    "if os.getcwd() != DIR:\n",
    "    os.chdir(DIR)\n",
    "    \n",
    "import functions_model_definition as md\n",
    "import functions_read_data as rdat\n",
    "import functions_occlusion as oc\n",
    "import functions_gradcam as gc\n",
    "import functions_plot_heatmap as phm\n",
    "import functions_slider as sl"
   ]
  },
  {
   "cell_type": "markdown",
   "metadata": {},
   "source": [
    "### Load Data and Set Parameters"
   ]
  },
  {
   "cell_type": "code",
   "execution_count": null,
   "metadata": {},
   "outputs": [],
   "source": [
    "# Define the path + output path:\n",
    "DATA_DIR = DIR + \"data/\"\n",
    "\n",
    "version = \"10Fold_sigmoid_V0\" # one of:\n",
    "# 10Fold_sigmoid_V0, 10Fold_sigmoid_V1, 10Fold_sigmoid_V2, 10Fold_sigmoid_V2f, 10Fold_sigmoid_V3\n",
    "# 10Fold_softmax_V0, 10Fold_softmax_V1, andrea\n",
    "save_plot = False\n",
    "\n",
    "# Define Model Version\n",
    "model_version = 1\n",
    "\n",
    "# define paths\n",
    "WEIGHT_DIR, DATA_OUTPUT_DIR, PIC_OUTPUT_DIR, pic_save_name = rdat.dir_setup(\n",
    "    DIR, version, model_version)"
   ]
  },
  {
   "cell_type": "code",
   "execution_count": null,
   "metadata": {},
   "outputs": [],
   "source": [
    "## load images and ids\n",
    "(X_in, pat, id_tab, all_results, num_models) = rdat.version_setup(\n",
    "    DATA_DIR = DATA_DIR, version = version, model_version = model_version)\n",
    "\n",
    "## load patient data\n",
    "PAT_CSV_DIR = \"/tf/notebooks/hezo/stroke_zurich/data/baseline_data_zurich_prepared0.csv\" \n",
    "pat_dat = pd.read_csv(PAT_CSV_DIR, sep=\";\")\n",
    "pat_dat"
   ]
  },
  {
   "cell_type": "markdown",
   "metadata": {},
   "source": [
    "## Model"
   ]
  },
  {
   "cell_type": "code",
   "execution_count": null,
   "metadata": {},
   "outputs": [],
   "source": [
    "# define model\n",
    "(input_dim, output_dim, LOSS, layer_connection, last_activation) = md.model_setup(version)\n",
    "\n",
    "model_3d = md.stroke_binary_3d(input_dim = input_dim,\n",
    "                               output_dim = output_dim,\n",
    "                               layer_connection = layer_connection,\n",
    "                               last_activation = last_activation)\n",
    "\n",
    "model_3d.compile(\n",
    "    loss=LOSS,\n",
    "    optimizer=keras.optimizers.Adam(learning_rate=5*1e-5),\n",
    "    metrics=[\"acc\", tf.keras.metrics.AUC()]\n",
    ")\n",
    "\n",
    "# define if print should be enabled\n",
    "check_print = True\n"
   ]
  },
  {
   "cell_type": "code",
   "execution_count": null,
   "metadata": {},
   "outputs": [],
   "source": [
    "# Define Model Name\n",
    "generate_model_name = md.set_generate_model_name(\n",
    "    model_version = model_version, \n",
    "    layer_connection = layer_connection, \n",
    "    last_activation = last_activation, \n",
    "    path = WEIGHT_DIR)                                                 \n"
   ]
  },
  {
   "cell_type": "markdown",
   "metadata": {},
   "source": [
    "# Occlusion without slider"
   ]
  },
  {
   "cell_type": "code",
   "execution_count": null,
   "metadata": {},
   "outputs": [],
   "source": [
    "all_results.reset_index().p_id[3]"
   ]
  },
  {
   "cell_type": "code",
   "execution_count": null,
   "metadata": {},
   "outputs": [],
   "source": [
    "(res_table, res_images, res_model_names) = gc.get_img_and_models(\n",
    "        [21], results = all_results, pats = pat, imgs = X_in, \n",
    "        gen_model_name = generate_model_name,\n",
    "        num_models = num_models)"
   ]
  },
  {
   "cell_type": "markdown",
   "metadata": {},
   "source": [
    "Two different occlusions are recommended.  \n",
    "However, the occlusion can also be defined by the user. The third row of the following output must be all 0 and the fourth row must be True and the occlusion will work."
   ]
  },
  {
   "cell_type": "code",
   "execution_count": null,
   "metadata": {},
   "outputs": [],
   "source": [
    "### occlusion\n",
    "# occ_size = (16, 16, 12)\n",
    "# occ_stride = 8\n",
    "occ_size = (14, 14, 10)\n",
    "occ_stride = 6\n",
    "print(\"number of occlusions: \", int(np.prod(((np.array(res_images.shape[1:4]) - occ_size) / occ_stride) + 1)))\n",
    "print(\"number of occlusions per axis: \", ((np.array(res_images.shape[1:4]) - occ_size) / occ_stride) + 1)\n",
    "print((np.asarray(res_images.shape[1:4]) - occ_size) % occ_stride) # all must be zero\n",
    "print(all(np.array(occ_size) > occ_stride)) # must be true\n",
    "print(np.array(res_images.shape[1:4]) / occ_size) # if all same, then same ratio of occ_size to image size\n",
    "\n"
   ]
  },
  {
   "cell_type": "code",
   "execution_count": null,
   "metadata": {},
   "outputs": [],
   "source": [
    "import time\n",
    "from importlib import reload\n",
    "reload(oc)\n",
    "\n",
    "start = time.time()\n",
    "(heatmap, resized_img, max_hm_slice, hm_mean_std) =  oc.volume_occlusion(\n",
    "    volume = res_images, \n",
    "    res_tab = res_table, \n",
    "    occlusion_size = np.array(occ_size), \n",
    "    normalize = True,\n",
    "    both_directions = False,\n",
    "    invert_hm = \"pred_class\",\n",
    "    cnn = model_3d,\n",
    "    model_names = res_model_names[0][:], # select model\n",
    "    occlusion_stride = occ_stride)\n",
    "\n",
    "end = time.time()\n",
    "print(end - start)"
   ]
  },
  {
   "cell_type": "code",
   "execution_count": null,
   "metadata": {},
   "outputs": [],
   "source": [
    "phm.plot_heatmap(resized_img, heatmap,\n",
    "                version = \"overlay\",\n",
    "                mode = \"def\",\n",
    "                slices = (88,72,12),\n",
    "                hm_colormap=\"jet\",\n",
    "                hm_positive=True,\n",
    "                colorbar=True)"
   ]
  },
  {
   "cell_type": "markdown",
   "metadata": {},
   "source": [
    "# Occlusion Slider"
   ]
  },
  {
   "cell_type": "code",
   "execution_count": null,
   "metadata": {},
   "outputs": [],
   "source": [
    "# occ_size = (16, 16, 12)\n",
    "# occ_stride = 8\n",
    "occ_size = (14, 14, 10)\n",
    "occ_stride = 6\n",
    "\n",
    "sl.occlusion_interactive_plot(\n",
    "    162, # patient id\n",
    "    occ_size = occ_size, occ_stride = occ_stride,\n",
    "    cnn=model_3d, all_results=all_results, pat=pat, X_in=X_in,\n",
    "    generate_model_name=generate_model_name, num_models=num_models,\n",
    "    pat_dat=pat_dat,\n",
    "    pred_hm_only=True) # if True, only the heatmap for the predicted class is shown, otherwise also negative heatmaps are shown\n"
   ]
  }
 ],
 "metadata": {
  "kernelspec": {
   "display_name": "Python 3",
   "language": "python",
   "name": "python3"
  },
  "language_info": {
   "codemirror_mode": {
    "name": "ipython",
    "version": 3
   },
   "file_extension": ".py",
   "mimetype": "text/x-python",
   "name": "python",
   "nbconvert_exporter": "python",
   "pygments_lexer": "ipython3",
   "version": "3.6.9"
  }
 },
 "nbformat": 4,
 "nbformat_minor": 2
}
