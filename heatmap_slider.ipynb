{
 "cells": [
  {
   "cell_type": "markdown",
   "metadata": {},
   "source": [
    "# Heatmap Slider Notebook\n",
    "\n",
    "Load existing occlusion and gradcam heatmaps of all patients for a version.\n",
    "Then plot both with a slider to compare them.\n",
    "\n",
    "**Note:** This notebooks loads preexisting heatmaps. To compute the heatmaps on the fly use gradcam_allmodels_slider.ipynb and occlusion_allmodels_slider.ipynb.\n",
    "\n",
    "### Imports"
   ]
  },
  {
   "cell_type": "code",
   "execution_count": null,
   "metadata": {},
   "outputs": [],
   "source": [
    "%matplotlib inline\n",
    "\n",
    "import os\n",
    "import h5py\n",
    "import tqdm\n",
    "import numpy as np\n",
    "import pandas as pd\n",
    "\n",
    "import matplotlib.pyplot as plt\n",
    "\n",
    "from sklearn import metrics\n",
    "from sklearn.metrics import confusion_matrix, roc_curve, auc\n",
    "\n",
    "import tensorflow as tf\n",
    "from tensorflow import keras\n",
    "\n",
    "print(\"TF  Version\",tf.__version__)"
   ]
  },
  {
   "cell_type": "code",
   "execution_count": null,
   "metadata": {},
   "outputs": [],
   "source": [
    "# check and set path before loading modules\n",
    "print(os.getcwd())\n",
    "DIR = \"/tf/notebooks/brdd/xAI_stroke_3d/\"\n",
    "if os.getcwd() != DIR:\n",
    "    os.chdir(DIR)\n",
    "    \n",
    "import functions_model_definition as md\n",
    "import functions_read_data as rdat\n",
    "import functions_occlusion as oc\n",
    "import functions_gradcam as gc\n",
    "import functions_plot_heatmap as phm\n",
    "import functions_slider as sl"
   ]
  },
  {
   "cell_type": "markdown",
   "metadata": {},
   "source": [
    "### Set Version and Load all Data and Heatmaps"
   ]
  },
  {
   "cell_type": "code",
   "execution_count": null,
   "metadata": {},
   "outputs": [],
   "source": [
    "# Define the path + output path:\n",
    "DATA_DIR = DIR + \"data/\"\n",
    "\n",
    "version = \"10Fold_sigmoid_V0\" # one of:\n",
    "# 10Fold_sigmoid_V0, 10Fold_sigmoid_V1, 10Fold_sigmoid_V2, 10Fold_sigmoid_V2f, 10Fold_sigmoid_V3\n",
    "# 10Fold_softmax_V0, 10Fold_softmax_V1, andrea\n",
    "save_plot = False\n",
    "\n",
    "# Define Model Version\n",
    "model_version = 1\n",
    "\n",
    "# define paths\n",
    "WEIGHT_DIR, DATA_OUTPUT_DIR, PIC_OUTPUT_DIR, pic_save_name = rdat.dir_setup(\n",
    "    DIR, version, model_version)"
   ]
  },
  {
   "cell_type": "code",
   "execution_count": null,
   "metadata": {},
   "outputs": [],
   "source": [
    "## load images and ids\n",
    "(X_in, pat, id_tab, all_results, num_models) = rdat.version_setup(\n",
    "    DATA_DIR = DATA_DIR, version = version, model_version = model_version)\n",
    "\n",
    "## load patient data\n",
    "PAT_CSV_DIR = \"/tf/notebooks/hezo/stroke_zurich/data/baseline_data_zurich_prepared0.csv\" \n",
    "pat_dat = pd.read_csv(PAT_CSV_DIR, sep=\";\")\n",
    "pat_dat"
   ]
  },
  {
   "cell_type": "code",
   "execution_count": null,
   "metadata": {},
   "outputs": [],
   "source": [
    "gc_heatmaps = np.load(PIC_OUTPUT_DIR + \"all_heatmaps_\" + pic_save_name + \".npy\")\n",
    "oc_heatmaps = np.load(PIC_OUTPUT_DIR + \"all_heatmaps_\" + pic_save_name.replace(\"_gc_\", \"_oc_\") + \".npy\")"
   ]
  },
  {
   "cell_type": "markdown",
   "metadata": {},
   "source": [
    "### Heatmap Slider"
   ]
  },
  {
   "cell_type": "code",
   "execution_count": null,
   "metadata": {},
   "outputs": [],
   "source": [
    "patient_number = 33\n",
    "\n",
    "sl.occlusion_interactive_plot(\n",
    "    patient_number,\n",
    "    all_results=all_results, pat=pat, X_in=X_in, heatmaps=oc_heatmaps,\n",
    "    pat_dat=pat_dat, \n",
    "    occ_size=None, occ_stride=None, cnn=None, \n",
    "    generate_model_name=lambda x,y: \"model\", num_models=1,\n",
    "    pred_hm_only=True)\n",
    "\n",
    "sl.gradcam_interactive_plot(\n",
    "    patient_number,\n",
    "    all_results=all_results, pat=pat, X_in=X_in, pat_dat=pat_dat,\n",
    "    heatmaps=gc_heatmaps,\n",
    "    vis_layers=None, cnn=None,\n",
    "    generate_model_name=lambda x,y: \"model\", num_models=1,\n",
    "    pred_hm_only=True)"
   ]
  }
 ],
 "metadata": {
  "kernelspec": {
   "display_name": "Python 3",
   "language": "python",
   "name": "python3"
  },
  "language_info": {
   "codemirror_mode": {
    "name": "ipython",
    "version": 3
   },
   "file_extension": ".py",
   "mimetype": "text/x-python",
   "name": "python",
   "nbconvert_exporter": "python",
   "pygments_lexer": "ipython3",
   "version": "3.6.9"
  },
  "orig_nbformat": 4
 },
 "nbformat": 4,
 "nbformat_minor": 2
}
