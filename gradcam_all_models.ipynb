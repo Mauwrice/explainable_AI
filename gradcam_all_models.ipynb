{
 "cells": [
  {
   "cell_type": "markdown",
   "metadata": {},
   "source": [
    "# GradCam for all Models in a Fold\n",
    "\n",
    "Investigate GradCam:\n",
    "- Compare one model with all models per Fold\n",
    "- Study the heatmap uncertainty\n",
    "- Plot multiple layers\n",
    "- Compare last convolutional layer with the mean over all convolutional layer\n",
    "- (For paper model only: Compare the heatmap of patients in different folds)\n",
    "- Examine impurity in the original image and the impact on the heatmap\n",
    "- Loop through the slices \n",
    "\n",
    "## Load Libraries and Modules"
   ]
  },
  {
   "cell_type": "code",
   "execution_count": null,
   "metadata": {},
   "outputs": [],
   "source": [
    "%matplotlib inline\n",
    "\n",
    "import os\n",
    "import numpy as np\n",
    "import pandas as pd\n",
    "\n",
    "import skimage\n",
    "import matplotlib.pyplot as plt\n",
    "\n",
    "import tensorflow as tf\n",
    "from tensorflow import keras\n",
    "\n",
    "print(\"TF  Version\",tf.__version__)"
   ]
  },
  {
   "cell_type": "code",
   "execution_count": null,
   "metadata": {},
   "outputs": [],
   "source": [
    "# check and set path before loading modules\n",
    "print(os.getcwd())\n",
    "DIR = \"/tf/notebooks/brdd/xAI_stroke_3d/\"\n",
    "if os.getcwd() != DIR:\n",
    "    os.chdir(DIR)\n",
    "    \n",
    "import functions_metrics as fm\n",
    "import functions_read_data as rdat\n",
    "import functions_model_definition as md\n",
    "import functions_gradcam as gc\n",
    "import functions_plot_heatmap as phm"
   ]
  },
  {
   "attachments": {},
   "cell_type": "markdown",
   "metadata": {},
   "source": [
    "## Load Data and Define Parameters"
   ]
  },
  {
   "cell_type": "code",
   "execution_count": null,
   "metadata": {},
   "outputs": [],
   "source": [
    "# Define the path + output path:\n",
    "DATA_DIR = DIR + \"data/\"\n",
    "\n",
    "version = \"10Fold_sigmoid_V3\" # one of:\n",
    "# 10Fold_sigmoid_V0, 10Fold_sigmoid_V1, 10Fold_sigmoid_V2, 10Fold_sigmoid_V2f, 10Fold_sigmoid_V3\n",
    "# 10Fold_softmax_V0, 10Fold_softmax_V1, andrea\n",
    "save_plot = False # whether to save the plot\n",
    "\n",
    "# Define Model Version\n",
    "model_version = 1\n",
    "\n",
    "# define paths\n",
    "WEIGHT_DIR, DATA_OUTPUT_DIR, PIC_OUTPUT_DIR, pic_save_name = rdat.dir_setup(\n",
    "    DIR, version, model_version, \n",
    "    hm_type = \"gc\", ending = \"\")"
   ]
  },
  {
   "cell_type": "code",
   "execution_count": null,
   "metadata": {},
   "outputs": [],
   "source": [
    "## load images and ids\n",
    "(X_in, pat, id_tab, all_results, num_models) = rdat.version_setup(\n",
    "    DATA_DIR = DATA_DIR, version = version, model_version = model_version)"
   ]
  },
  {
   "cell_type": "code",
   "execution_count": null,
   "metadata": {},
   "outputs": [],
   "source": [
    "# 10 choosen patients which are in andreas split 6\n",
    "split_6_pats = [297, 299, 319, 460, 483, 529, 27, 35, 125, 481]"
   ]
  },
  {
   "attachments": {},
   "cell_type": "markdown",
   "metadata": {},
   "source": [
    "## Model"
   ]
  },
  {
   "cell_type": "code",
   "execution_count": null,
   "metadata": {},
   "outputs": [],
   "source": [
    "# define model\n",
    "(input_dim, output_dim, LOSS, layer_connection, last_activation) = md.model_setup(version)\n",
    "\n",
    "model_3d = md.stroke_binary_3d(input_dim = input_dim,\n",
    "                               output_dim = output_dim,\n",
    "                               layer_connection = layer_connection,\n",
    "                               last_activation = last_activation)\n",
    "model_3d.compile(\n",
    "    loss=LOSS,\n",
    "    optimizer=keras.optimizers.Adam(learning_rate=5*1e-5),\n",
    "    metrics=[\"acc\", tf.keras.metrics.AUC()]\n",
    ")\n",
    "\n",
    "# define if print should be enabled\n",
    "check_print = True\n"
   ]
  },
  {
   "cell_type": "code",
   "execution_count": null,
   "metadata": {},
   "outputs": [],
   "source": [
    "# Define Model Name\n",
    "generate_model_name = md.set_generate_model_name(\n",
    "    model_version = model_version, \n",
    "    layer_connection = layer_connection, \n",
    "    last_activation = last_activation, \n",
    "    path = WEIGHT_DIR) "
   ]
  },
  {
   "attachments": {},
   "cell_type": "markdown",
   "metadata": {},
   "source": [
    "# Plot GradCams"
   ]
  },
  {
   "attachments": {},
   "cell_type": "markdown",
   "metadata": {},
   "source": [
    "## Compare one Model to all Models\n",
    "\n",
    "Select a patient and compare the heatmap of one model to the ensemble of all models."
   ]
  },
  {
   "cell_type": "code",
   "execution_count": null,
   "metadata": {},
   "outputs": [],
   "source": [
    "# all_results"
   ]
  },
  {
   "cell_type": "code",
   "execution_count": null,
   "metadata": {},
   "outputs": [],
   "source": [
    "# select patient\n",
    "p_ids = [42]\n",
    "(res_table, res_images, res_model_names) = gc.get_img_and_models(p_ids, results = all_results, pats = pat, imgs = X_in, \n",
    "                                                                 gen_model_name = generate_model_name,\n",
    "                                                                 num_models = num_models)\n",
    "res_table"
   ]
  },
  {
   "cell_type": "code",
   "execution_count": null,
   "metadata": {},
   "outputs": [],
   "source": [
    "# vis_layers = [i.name for i in model_3d.layers[1:-6]]\n",
    "vis_layers = [vis_layer for vis_layer in vis_layers if vis_layer.startswith(\"conv\")]\n",
    "\n",
    "vis_layers"
   ]
  },
  {
   "cell_type": "code",
   "execution_count": null,
   "metadata": {
    "scrolled": false
   },
   "outputs": [],
   "source": [
    "# only one model\n",
    "heatmap, resized_img, max_hm_slice, hm_mean_std = gc.multi_models_grad_cam_3d(\n",
    "    img = np.expand_dims(res_images[0], axis = 0), \n",
    "    cnn = model_3d,\n",
    "    model_names = [res_model_names[0][1]],\n",
    "    layers = \"conv3d_3\",\n",
    "#     layers = vis_layers,\n",
    "    model_mode = \"mean\",\n",
    "    pred_index = 0,\n",
    "    invert_hm = \"last\")\n",
    "\n",
    "phm.plot_heatmap(resized_img, heatmap,\n",
    "            version = \"overlay\",\n",
    "            mode = \"avg\")\n",
    "phm.plot_heatmap(resized_img, heatmap,\n",
    "            version = \"overlay\",\n",
    "            mode = \"max\")\n",
    "phm.plot_heatmap(resized_img, heatmap,\n",
    "            version = \"original\",\n",
    "            mode = \"max\")"
   ]
  },
  {
   "cell_type": "code",
   "execution_count": null,
   "metadata": {},
   "outputs": [],
   "source": [
    "# all models\n",
    "heatmap, resized_img, max_hm_slice, hm_mean_std = gc.multi_models_grad_cam_3d(\n",
    "    img = np.expand_dims(res_images[0], axis = 0), \n",
    "    cnn = model_3d,\n",
    "    model_names = res_model_names[0],\n",
    "    layers = vis_layers[3],\n",
    "    model_mode = \"mean\",\n",
    "    pred_index = 0,\n",
    "    invert_hm = \"last\",\n",
    "    gcpp_hm = \"last\")\n",
    "\n",
    "phm.plot_heatmap(resized_img, heatmap,\n",
    "            version = \"overlay\",\n",
    "            mode = \"avg\")\n",
    "phm.plot_heatmap(resized_img, heatmap,\n",
    "            version = \"overlay\",\n",
    "            mode = \"max\")\n",
    "phm.plot_heatmap(resized_img, heatmap,\n",
    "            version = \"original\",\n",
    "            mode = \"max\",\n",
    "            orig_max=True)\n",
    "# phm.plot_heatmap(resized_img, heatmap,\n",
    "#             version = \"original\",\n",
    "#             mode = \"def\",\n",
    "#             slices=(78,95,6))"
   ]
  },
  {
   "cell_type": "markdown",
   "metadata": {},
   "source": [
    "Plot the positve and negative heatmap."
   ]
  },
  {
   "cell_type": "code",
   "execution_count": null,
   "metadata": {},
   "outputs": [],
   "source": [
    "\n",
    "# all models\n",
    "heatmap, resized_img, max_hm_slice, hm_mean_std = gc.multi_models_grad_cam_3d(\n",
    "    img = np.expand_dims(res_images[0], axis = 0), \n",
    "    cnn = model_3d,\n",
    "    model_names = res_model_names[0],\n",
    "    layers = vis_layers[3],\n",
    "    model_mode = \"mean\",\n",
    "    pred_index = 0,\n",
    "    invert_hm = \"none\",\n",
    "    gcpp_hm=\"none\")\n",
    "\n",
    "phm.plot_heatmap(resized_img, heatmap,\n",
    "            version = \"overlay\",\n",
    "            mode = \"avg\", \n",
    "            hm_colormap=\"bwr\", hm_positive=False)\n",
    "phm.plot_heatmap(resized_img, heatmap,\n",
    "            version = \"overlay\",\n",
    "            mode = \"max\", \n",
    "            hm_colormap=\"bwr\", hm_positive=False)\n",
    "phm.plot_heatmap(resized_img, heatmap,\n",
    "            version = \"original\",\n",
    "            mode = \"max\")"
   ]
  },
  {
   "cell_type": "code",
   "execution_count": null,
   "metadata": {},
   "outputs": [],
   "source": [
    "print(heatmap.min(), heatmap.max())"
   ]
  },
  {
   "attachments": {},
   "cell_type": "markdown",
   "metadata": {},
   "source": [
    "## Model Uncertainty Heatmap\n",
    "\n",
    "Plot the heatmap uncertainty for the ensemble."
   ]
  },
  {
   "cell_type": "code",
   "execution_count": null,
   "metadata": {},
   "outputs": [],
   "source": [
    "# print highest activation slice for each model\n",
    "heatmaps = []\n",
    "for i in range(5):\n",
    "    heatmap0, resized_img, max_hm_slice0, hm_mean_std0 = gc.multi_models_grad_cam_3d(\n",
    "    img = np.expand_dims(res_images[0], axis = 0), \n",
    "    cnn = model_3d,\n",
    "    model_names = [res_model_names[0][i]],\n",
    "    layers = \"conv3d_3\",\n",
    "    model_mode = \"mean\")\n",
    "    print(np.unravel_index(np.argmax(heatmap0), heatmap0.shape))\n",
    "    heatmaps.append(heatmap0)\n",
    "heatmaps = np.array(heatmaps)\n",
    "heatmaps.shape\n",
    "heatmap_var = np.var(heatmaps, axis = 0)\n",
    "print(np.sqrt(np.mean(heatmap_var)))"
   ]
  },
  {
   "cell_type": "code",
   "execution_count": null,
   "metadata": {},
   "outputs": [],
   "source": [
    "# plot the uncertainty (standard deviation of each voxel) of the heatmap\n",
    "phm.plot_heatmap(resized_img, heatmap_var,\n",
    "            version = \"overlay\",\n",
    "            mode = \"avg\")\n",
    "phm.plot_heatmap(resized_img, heatmap_var,\n",
    "            version = \"overlay\",\n",
    "            mode = \"max\")\n",
    "# phm.plot_heatmap(resized_img, heatmap,\n",
    "#             version = \"original\",\n",
    "#             mode = \"max\")"
   ]
  },
  {
   "cell_type": "code",
   "execution_count": null,
   "metadata": {},
   "outputs": [],
   "source": [
    "# print the heatmap mse (mean squared error) and ssim (structural similarity index) between all models\n",
    "# this indicates the similarity between two heatmaps (small mse and high ssim = similar heatmaps)\n",
    "from skimage.metrics import structural_similarity, mean_squared_error, normalized_root_mse\n",
    "\n",
    "mse = []\n",
    "ssim = []\n",
    "\n",
    "for i in range(len(heatmaps)):\n",
    "    for j in range(len(heatmaps)):\n",
    "        mse.append(mean_squared_error(heatmaps[i].squeeze(), heatmaps[j].squeeze()))\n",
    "        ssim.append(structural_similarity(heatmaps[i].squeeze(), heatmaps[j].squeeze(), data_range=1, multichannel = False))\n",
    "        \n",
    "print(np.array(mse).reshape((5,5)))\n",
    "print(np.array(ssim).reshape((5,5)))"
   ]
  },
  {
   "attachments": {},
   "cell_type": "markdown",
   "metadata": {},
   "source": [
    "## Plot multiple Layers\n",
    "\n",
    "Loop over the given layers and plot the GradCAMs for each layer.\n",
    "Additionally, plot the average over all layers and the original image.  \n",
    "For each layer the average over one axis and the highest activation slice is plotted.  \n",
    "\n",
    "In early layers GradCam++ often highlights the background, while in later layers it highlights the object.  \n",
    "Therefore, the average over all layers should be calculated by using the absolute activation values for all except the last convolutional layer. However, this can be changed by setting `gcpp_hm = \"all\" or \"none\"`. It is then recommended to adjust the gradcam plot function accordingly (`hm_colormap=\"bwr\", hm_positive=False`)."
   ]
  },
  {
   "cell_type": "code",
   "execution_count": null,
   "metadata": {},
   "outputs": [],
   "source": [
    "# select patient\n",
    "p_ids = [42]\n",
    "(res_table, res_images, res_model_names) = gc.get_img_and_models(p_ids, results = all_results, pats = pat, imgs = X_in,\n",
    "                                                                gen_model_name = generate_model_name)\n",
    "res_table"
   ]
  },
  {
   "cell_type": "code",
   "execution_count": null,
   "metadata": {
    "scrolled": false
   },
   "outputs": [],
   "source": [
    "model_mode = \"mean\"\n",
    "layer_mode = \"mean\"\n",
    "invert_hm = \"last\" if res_table.y_pred_class[0] == 1 else \"none\"\n",
    "gcpp_hm = \"last\"\n",
    "\n",
    "res_table.y_pred_class\n",
    "\n",
    "# vis_layers = [i.name for i in model_3d.layers[1:-6]] # all layers\n",
    "vis_layers = [vis_layer for vis_layer in vis_layers if vis_layer.startswith(\"conv\")] # only conv layers\n",
    "\n",
    "if \"sigmoid\" in str(model_3d.layers[-1].activation):\n",
    "        pred_idx = 0\n",
    "elif \"softmax\" in str(model_3d.layers[-1].activation):\n",
    "        pred_idx = 1\n",
    "        \n",
    "model_nrs = list(range(num_models)) # all models per fold\n",
    "# model_nrs = [0] # define which models\n",
    "\n",
    "for j in range(len(res_table)):   \n",
    "    plot_per_iter = 2\n",
    "    plot_at_end = 1\n",
    "    num_rows = len(vis_layers)*plot_per_iter + plot_per_iter + plot_at_end\n",
    "    width = 15\n",
    "    \n",
    "    start_text = 0.12\n",
    "    end_text = 0.88\n",
    "    text_pos = np.flip(np.linspace(\n",
    "        start_text+(plot_at_end/num_rows)+0.6/(num_rows-plot_at_end), \n",
    "        end_text-0.6/(num_rows-plot_at_end), \n",
    "        len(vis_layers)+1))\n",
    "    \n",
    "    fig = plt.figure(figsize = (width,num_rows*width/3))\n",
    "    \n",
    "    plt.gcf().text(0.1, end_text+5/num_rows/15, \"p_id:        \" + str(round(res_table[\"p_id\"][j])), fontsize=16)\n",
    "    plt.gcf().text(0.1, end_text+4/num_rows/15, \"mrs:         \" + str(round(res_table[\"mrs\"][j])), fontsize=16)\n",
    "    plt.gcf().text(0.1, end_text+3/num_rows/15, \"true class: \" + str(res_table[\"unfavorable\"][j]), fontsize=16)\n",
    "    plt.gcf().text(0.1, end_text+2/num_rows/15, \"pred prob (class 1):  \" + str(round(res_table[\"y_pred_trafo_avg\"][j], 3)), fontsize=16)\n",
    "    plt.gcf().text(0.1, end_text+1/num_rows/15, \"pred class:  \" + str(res_table[\"y_pred_class\"][j]), fontsize=16)\n",
    "\n",
    "    for i, vis_layer in enumerate(vis_layers):\n",
    "#         print(\"Layer: \", vis_layer)\n",
    "        plt.gcf().text(0.1, text_pos[i], \"Layer: \" + vis_layer, \n",
    "                       horizontalalignment='center', verticalalignment='center', fontsize=14, rotation = 90)\n",
    "    \n",
    "        heatmap, resized_img, max_hm_slice, hm_mean_std = gc.multi_models_grad_cam_3d(\n",
    "            img = res_images[j:j+1], \n",
    "            cnn = model_3d,\n",
    "            model_names = res_model_names[j],\n",
    "            layers = vis_layer,\n",
    "            model_mode = model_mode,\n",
    "            pred_index = pred_idx,\n",
    "            invert_hm = invert_hm,\n",
    "            gcpp_hm = gcpp_hm)\n",
    "        \n",
    "        phm.plot_heatmap(resized_img, heatmap,\n",
    "                     version = \"overlay\",\n",
    "                     mode = \"avg\",\n",
    "                     add_plot = (i*2,num_rows),\n",
    "                     show = False)\n",
    "        phm.plot_heatmap(resized_img, heatmap,\n",
    "                     version = \"overlay\",\n",
    "                     mode = \"max\",\n",
    "                     add_plot = (i*2+1,num_rows),\n",
    "                     show = False)\n",
    "        \n",
    "    # average over all layers\n",
    "    heatmap, resized_img, max_hm_slice, hm_mean_std = gc.multi_models_grad_cam_3d(\n",
    "            img = res_images[j:j+1], \n",
    "            cnn = model_3d,\n",
    "            model_names = res_model_names[j],\n",
    "            layers = vis_layers,\n",
    "            model_mode = model_mode,\n",
    "            pred_index = pred_idx,\n",
    "            invert_hm = invert_hm,\n",
    "            gcpp_hm = gcpp_hm)\n",
    "    \n",
    "#     print(layer_mode, \"over all Layers\")\n",
    "    plt.gcf().text(0.1, text_pos[-1], layer_mode + \"over all Layers\", \n",
    "                   horizontalalignment='center', verticalalignment='center', fontsize=14, rotation = 90)\n",
    "    phm.plot_heatmap(resized_img, heatmap,\n",
    "                version = \"overlay\",\n",
    "                mode = \"avg\",\n",
    "                add_plot = (num_rows-3,num_rows),\n",
    "                show = False)\n",
    "    phm.plot_heatmap(resized_img, heatmap,\n",
    "                version = \"overlay\",\n",
    "                mode = \"max\",\n",
    "                add_plot = (num_rows-2,num_rows),\n",
    "                show = False)\n",
    "    \n",
    "#     print(\"Original\")\n",
    "    plt.gcf().text(0.1, start_text+(plot_at_end/num_rows)/2, \"Original\", \n",
    "                   horizontalalignment='center', verticalalignment='center', fontsize=14, rotation = 90)\n",
    "    phm.plot_heatmap(resized_img, heatmap,\n",
    "                version = \"original\",\n",
    "                mode = \"max\",\n",
    "                add_plot = (num_rows-1,num_rows),\n",
    "                show = False)\n",
    "    \n",
    "    plt.subplots_adjust(wspace=0.05, hspace=0.15)\n",
    "    if save_plot:\n",
    "        plt.savefig('pictures/p' + str(round(res_table[\"p_id\"][j])) + '_' + pic_save_name + '_all_conv_layers.png')\n"
   ]
  },
  {
   "attachments": {},
   "cell_type": "markdown",
   "metadata": {},
   "source": [
    "## Plot last conv and average of conv layer\n",
    "\n",
    "First, plot the mean over all axis for the last conv layer and the average layer. \n",
    "Second, plot the highest activation slice for the last conv layer and the average layer.\n",
    "\n",
    "This is the same style as PowerPoint (230123_Resultate_10Fold_bs4.pptx, 230123_Resultate_andrea_split6.pptx)."
   ]
  },
  {
   "cell_type": "code",
   "execution_count": null,
   "metadata": {},
   "outputs": [],
   "source": [
    "all_results"
   ]
  },
  {
   "cell_type": "code",
   "execution_count": null,
   "metadata": {},
   "outputs": [],
   "source": [
    "# select patient\n",
    "p_ids = [42]\n",
    "# p_ids = split_6_pats\n",
    "\n",
    "if version == \"andrea\":\n",
    "    (res_table, res_images, res_model_names) = gc.get_img_and_models(\n",
    "        p_ids, results = all_results[all_results.test_split == 6], pats = pat, imgs = X_in,\n",
    "        gen_model_name = generate_model_name) # andrea split\n",
    "elif version.startswith(\"10Fold\"):\n",
    "    (res_table, res_images, res_model_names) = gc.get_img_and_models(\n",
    "        p_ids, results = all_results, pats = pat, imgs = X_in,\n",
    "        gen_model_name = generate_model_name) # 10 Fold\n",
    "\n",
    "if save_plot:\n",
    "    res_table[[\"p_id\", \"mrs\", \"unfavorable\", \"test_split\", \"y_pred_model_10\", \n",
    "               \"y_pred_model_11\", \"y_pred_model_12\", \"y_pred_model_13\", \"y_pred_model_14\", \n",
    "               \"y_pred_trafo_avg\", \"threshold\", \"y_pred_class\", \"y_pred_unc\"]].to_csv(\n",
    "        DATA_OUTPUT_DIR + \"andrea_split6_meta_data.csv\",  index=False)"
   ]
  },
  {
   "cell_type": "code",
   "execution_count": null,
   "metadata": {},
   "outputs": [],
   "source": [
    "# vis_layers = [i.name for i in model_3d.layers[1:-6]]\n",
    "vis_layers = [vis_layer for vis_layer in vis_layers if vis_layer.startswith(\"conv\")]"
   ]
  },
  {
   "cell_type": "code",
   "execution_count": null,
   "metadata": {},
   "outputs": [],
   "source": [
    "res_table"
   ]
  },
  {
   "cell_type": "code",
   "execution_count": null,
   "metadata": {
    "scrolled": false
   },
   "outputs": [],
   "source": [
    "phm.plot_gradcams_last_avg_org(\n",
    "    res_table = res_table, \n",
    "    vis_layers = vis_layers,\n",
    "    res_images = res_images,\n",
    "    res_model_names = res_model_names,\n",
    "    model_3d = model_3d,\n",
    "    layer_mode = \"mean\", \n",
    "    heatmap_mode = \"avg\", \n",
    "    save_path = PIC_OUTPUT_DIR, \n",
    "    save_name = pic_save_name, save = save_plot)"
   ]
  },
  {
   "cell_type": "code",
   "execution_count": null,
   "metadata": {},
   "outputs": [],
   "source": [
    "phm.plot_gradcams_last_avg_org(\n",
    "    res_table = res_table, \n",
    "    vis_layers = vis_layers,\n",
    "    res_images = res_images,\n",
    "    res_model_names = res_model_names,\n",
    "    model_3d = model_3d,\n",
    "    layer_mode = \"mean\", \n",
    "    heatmap_mode = \"max\", \n",
    "    save_path = PIC_OUTPUT_DIR, \n",
    "    save_name = pic_save_name, save = save_plot)"
   ]
  },
  {
   "attachments": {},
   "cell_type": "markdown",
   "metadata": {},
   "source": [
    "## Analysis of Patients in multiple splits\n",
    "\n",
    "The heatmaps of one ensemble member to another normally do not differ to much from each other. However, if a different fold was used for training, the heatmaps can differ morge significantly.  \n",
    "This comparison only works if the model from the paper is used (version = andrea). As in the 10Fold versions each patient is only in one test split."
   ]
  },
  {
   "cell_type": "code",
   "execution_count": null,
   "metadata": {},
   "outputs": [],
   "source": [
    "all_p_dup = all_results[all_results[\"p_id\"].duplicated()][\"p_id\"].unique()\n",
    "all_dup = all_results[all_results[\"p_id\"].isin(all_p_dup)].sort_values(\"p_id\")\n",
    "all_dup"
   ]
  },
  {
   "cell_type": "code",
   "execution_count": null,
   "metadata": {},
   "outputs": [],
   "source": [
    "p_ids = [9, 24] # 9,24"
   ]
  },
  {
   "cell_type": "code",
   "execution_count": null,
   "metadata": {},
   "outputs": [],
   "source": [
    "(res_table, res_images, res_model_names) = gc.get_img_and_models(p_ids, results = all_results, pats = pat, imgs = X_in,\n",
    "                                                                gen_model_name = generate_model_name)"
   ]
  },
  {
   "cell_type": "code",
   "execution_count": null,
   "metadata": {},
   "outputs": [],
   "source": [
    "res_table"
   ]
  },
  {
   "cell_type": "code",
   "execution_count": null,
   "metadata": {},
   "outputs": [],
   "source": [
    "heatmap, resized_img, max_hm_slice, hm_mean_std = gc.multi_models_grad_cam_3d(\n",
    "    img = np.expand_dims(res_images[0], axis = 0), \n",
    "    cnn = model_3d,\n",
    "    model_names = res_model_names[0],\n",
    "    layers = \"conv3d_3\",\n",
    "    model_mode = \"mean\")\n",
    "\n",
    "phm.plot_heatmap(resized_img, heatmap,\n",
    "            version = \"overlay\",\n",
    "            mode = \"avg\")\n",
    "phm.plot_heatmap(resized_img, heatmap,\n",
    "            version = \"overlay\",\n",
    "            mode = \"max\")\n",
    "phm.plot_heatmap(resized_img, heatmap,\n",
    "            version = \"original\",\n",
    "            mode = \"max\")"
   ]
  },
  {
   "cell_type": "code",
   "execution_count": null,
   "metadata": {},
   "outputs": [],
   "source": [
    "heatmap, resized_img, max_hm_slice, hm_mean_std = gc.multi_models_grad_cam_3d(\n",
    "    img = np.expand_dims(res_images[1], axis = 0), \n",
    "    cnn = model_3d,\n",
    "    model_names = res_model_names[1],\n",
    "    layers = \"conv3d_3\",\n",
    "    model_mode = \"mean\")\n",
    "\n",
    "phm.plot_heatmap(resized_img, heatmap,\n",
    "            version = \"overlay\",\n",
    "            mode = \"avg\")\n",
    "phm.plot_heatmap(resized_img, heatmap,\n",
    "            version = \"overlay\",\n",
    "            mode = \"max\")\n",
    "phm.plot_heatmap(resized_img, heatmap,\n",
    "            version = \"original\",\n",
    "            mode = \"max\")"
   ]
  },
  {
   "attachments": {},
   "cell_type": "markdown",
   "metadata": {},
   "source": [
    "## Analyze Image \"Impurity\"\n",
    "\n",
    "Examine the effect of occlusion of the original image on the heatmap. The heatmap should not change much if the occlusion is not in the region of interest."
   ]
  },
  {
   "cell_type": "code",
   "execution_count": null,
   "metadata": {},
   "outputs": [],
   "source": [
    "p_ids = [24]\n",
    "(res_table, res_images, res_model_names) = gc.get_img_and_models(p_ids, results = all_results, pats = pat, imgs = X_in,\n",
    "                                                                gen_model_name = generate_model_name)\n",
    "res_table"
   ]
  },
  {
   "cell_type": "code",
   "execution_count": null,
   "metadata": {},
   "outputs": [],
   "source": [
    "## occlude some part of the image\n",
    "new_img = res_images[0].copy()\n",
    "print(new_img.min(), new_img.max())\n",
    "new_img[45:60,45:60,10:15] = 8\n",
    "# new_img[10:20,10:20,10:15] = 4\n",
    "# new_img += 3"
   ]
  },
  {
   "cell_type": "code",
   "execution_count": null,
   "metadata": {},
   "outputs": [],
   "source": [
    "heatmap, resized_img, max_hm_slice, hm_mean_std = gc.multi_models_grad_cam_3d(\n",
    "    img = np.expand_dims(new_img, axis = 0), \n",
    "    cnn = model_3d,\n",
    "    model_names = res_model_names[0],\n",
    "    layers = \"conv3d_3\",\n",
    "    model_mode = \"mean\")\n",
    "\n",
    "phm.plot_heatmap(resized_img, heatmap,\n",
    "            version = \"overlay\",\n",
    "            mode = \"avg\")\n",
    "phm.plot_heatmap(resized_img, heatmap,\n",
    "            version = \"overlay\",\n",
    "            mode = \"def\",\n",
    "            slices = (50,50,12))\n",
    "phm.plot_heatmap(resized_img, heatmap,\n",
    "            version = \"activation\",\n",
    "            mode = \"avg\")"
   ]
  },
  {
   "cell_type": "markdown",
   "metadata": {},
   "source": [
    "## Plot Multiple Slices\n",
    "\n",
    "Loop over each axis and plot the gradcam for some slices."
   ]
  },
  {
   "cell_type": "code",
   "execution_count": null,
   "metadata": {},
   "outputs": [],
   "source": [
    "p_ids = [42] # onlly one patient\n",
    "(res_table, res_images, res_model_names) = gc.get_img_and_models(p_ids, results = all_results, pats = pat, imgs = X_in,\n",
    "                                                                gen_model_name = generate_model_name)\n",
    "res_table"
   ]
  },
  {
   "cell_type": "code",
   "execution_count": null,
   "metadata": {},
   "outputs": [],
   "source": [
    "visualization_layer_name = \"conv3d_3\"\n",
    "\n",
    "heatmap, resized_img, max_hm_slice, hm_mean_std = gc.multi_models_grad_cam_3d(\n",
    "    img = res_images,\n",
    "    cnn = model_3d,\n",
    "    model_names = res_model_names[0],\n",
    "    layers = visualization_layer_name,\n",
    "    model_mode = \"mean\")"
   ]
  },
  {
   "cell_type": "code",
   "execution_count": null,
   "metadata": {},
   "outputs": [],
   "source": [
    "pic_size = resized_img.shape[0:2]\n",
    "\n",
    "# axial\n",
    "plt.figure(figsize=(15,25))\n",
    "\n",
    "for i, ax_slice in enumerate(range(0,28,1)):\n",
    "    fig = plt.subplot(10,6, i+1)\n",
    "    fig.imshow(resized_img[:,:,ax_slice ], cmap='gray')\n",
    "    fig.imshow(heatmap[:,:,ax_slice], alpha=0.4,cmap=\"jet\")\n",
    "    fig.set_title(\"Ax. Slice: \" + str(ax_slice))\n",
    "    fig.axis('off')\n",
    "    \n",
    "plt.show()\n",
    "\n",
    "\n",
    "# sagital\n",
    "plt.figure(figsize=(15,25))\n",
    "\n",
    "for i, ax_slice in enumerate(range(0,128,5)):\n",
    "    fig = plt.subplot(10,6, i+1)\n",
    "    \n",
    "    fig.imshow(skimage.transform.resize(np.fliplr(np.rot90(resized_img[:,ax_slice,: ])),output_shape=pic_size), cmap='gray')\n",
    "    fig.imshow(skimage.transform.resize(np.fliplr(np.rot90(heatmap[:,ax_slice,:])),output_shape=pic_size), alpha=0.4,cmap=\"jet\")\n",
    "    \n",
    "    fig.set_title(\"Sag. Slice: \" + str(ax_slice))\n",
    "    fig.axis('off')\n",
    "    \n",
    "plt.show()\n",
    "    \n",
    "# coronal\n",
    "plt.figure(figsize=(15,25))\n",
    "\n",
    "for i, ax_slice in enumerate(range(0,128,5)):\n",
    "    fig = plt.subplot(10,6, i+1)\n",
    "    \n",
    "    fig.imshow(skimage.transform.resize(np.rot90(resized_img[ax_slice,:,: ]),output_shape=pic_size), cmap='gray')\n",
    "    fig.imshow(skimage.transform.resize(np.rot90(heatmap[ax_slice,:,:]),output_shape=pic_size), alpha=0.4,cmap=\"jet\")\n",
    "    \n",
    "    fig.set_title(\"cor. Slice: \" + str(ax_slice))\n",
    "    fig.axis('off')\n",
    "    \n",
    "plt.show()"
   ]
  }
 ],
 "metadata": {
  "kernelspec": {
   "display_name": "Python 3",
   "language": "python",
   "name": "python3"
  }
 },
 "nbformat": 4,
 "nbformat_minor": 2
}
