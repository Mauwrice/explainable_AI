{
 "cells": [
  {
   "cell_type": "markdown",
   "metadata": {},
   "source": [
    "# Compare the Heatmaps of Two different Models\n",
    "\n",
    "## Load Libraries and Modules"
   ]
  },
  {
   "cell_type": "code",
   "execution_count": null,
   "metadata": {},
   "outputs": [],
   "source": [
    "%matplotlib inline\n",
    "\n",
    "import os\n",
    "import h5py\n",
    "import numpy as np\n",
    "import pandas as pd\n",
    "import gc as gci\n",
    "\n",
    "import matplotlib.pyplot as plt\n",
    "\n",
    "from sklearn import metrics\n",
    "from sklearn.metrics import confusion_matrix, roc_curve, auc\n",
    "\n",
    "import tensorflow as tf\n",
    "from tensorflow import keras\n",
    "\n",
    "print(\"TF  Version\",tf.__version__)"
   ]
  },
  {
   "cell_type": "code",
   "execution_count": null,
   "metadata": {},
   "outputs": [],
   "source": [
    "# check and set path before loading modules\n",
    "print(os.getcwd())\n",
    "INPUT_DIR = \"/tf/notebooks/bule/explainable_AI/\"\n",
    "OUTPUT_DIR = \"/tf/notebooks/bule/explainable_AI/\"\n",
    "if os.getcwd() != OUTPUT_DIR:\n",
    "    os.chdir(OUTPUT_DIR)\n",
    "    \n",
    "import functions_metrics as fm\n",
    "import functions_read_data as rdat\n",
    "import functions_model_definition as md\n",
    "import functions_gradcam as gc\n",
    "import functions_occlusion as oc\n",
    "import functions_plot_heatmap as phm"
   ]
  },
  {
   "cell_type": "markdown",
   "metadata": {},
   "source": [
    "## Load Data"
   ]
  },
  {
   "cell_type": "code",
   "execution_count": null,
   "metadata": {},
   "outputs": [],
   "source": [
    "model_1 = \"10Fold_CIB\"\n",
    "model_2 = \"10Fold_CIBLSX\""
   ]
  },
  {
   "cell_type": "code",
   "execution_count": null,
   "metadata": {},
   "outputs": [],
   "source": [
    "meta_dat = pd.read_csv(INPUT_DIR + \"pictures/\" + model_1 + \"/all_tab_results_hm_unc_\" + model_1 + \"_M1_avg_gc_bothcl.csv\")\n",
    "meta_dat = meta_dat.sort_values(by=[\"p_id\"])"
   ]
  },
  {
   "cell_type": "code",
   "execution_count": null,
   "metadata": {},
   "outputs": [],
   "source": [
    "all_heatmaps_1 = np.load(INPUT_DIR + \"pictures/\" + model_1 + \"/all_ensemble_heatmaps_\" + model_1 + \"_M1_avg_gc_bothcl.npy\").squeeze()\n",
    "all_heatmaps_2 = np.load(INPUT_DIR + \"pictures/\" + model_2 + \"/all_ensemble_heatmaps_\" + model_2 + \"_M1_avg_gc_bothcl.npy\").squeeze()"
   ]
  },
  {
   "cell_type": "code",
   "execution_count": null,
   "metadata": {},
   "outputs": [],
   "source": [
    "mean_heatmaps_1 = np.load(INPUT_DIR + \"pictures/\" + model_1 + \"/all_heatmaps_\" + model_1 + \"_M1_avg_gc_bothcl.npy\")\n",
    "mean_heatmaps_2 = np.load(INPUT_DIR + \"pictures/\" + model_2 + \"/all_heatmaps_\" + model_2 + \"_M1_avg_gc_bothcl.npy\")\n",
    "mean_heatmaps_1 = np.moveaxis(mean_heatmaps_1, -1, 1)\n",
    "mean_heatmaps_2 = np.moveaxis(mean_heatmaps_2, -1, 1)"
   ]
  },
  {
   "cell_type": "code",
   "execution_count": null,
   "metadata": {},
   "outputs": [],
   "source": [
    " #should be (n_patients, n_heatmaps, 128, 128, 28)\n",
    "print(all_heatmaps_1.shape, all_heatmaps_2.shape)\n",
    "print(mean_heatmaps_1.shape, mean_heatmaps_2.shape)"
   ]
  },
  {
   "cell_type": "code",
   "execution_count": null,
   "metadata": {},
   "outputs": [],
   "source": [
    "all_heatmaps_1_2 = np.concatenate((all_heatmaps_1, all_heatmaps_2), axis=1)\n",
    "all_heatmaps_1_2.shape"
   ]
  },
  {
   "cell_type": "code",
   "execution_count": null,
   "metadata": {},
   "outputs": [],
   "source": [
    "# create new df for all distances\n",
    "dist_dat = meta_dat[[\"p_id\", \"mrs\", \"unfavorable\"]].copy()\n",
    "dist_dat[\"val_fold\"] = meta_dat[[\"fold0\", \"fold1\", \"fold2\", \"fold3\", \"fold4\", \"fold5\", \"fold6\", \"fold7\", \"fold8\", \"fold9\"]].eq(\"val\").idxmax(axis=1)\n",
    "dist_dat[\"test_fold\"] = meta_dat[[\"fold0\", \"fold1\", \"fold2\", \"fold3\", \"fold4\", \"fold5\", \"fold6\", \"fold7\", \"fold8\", \"fold9\"]].eq(\"test\").idxmax(axis=1)"
   ]
  },
  {
   "cell_type": "markdown",
   "metadata": {},
   "source": [
    "### Calculate Mean for Both Model Types"
   ]
  },
  {
   "cell_type": "code",
   "execution_count": null,
   "metadata": {},
   "outputs": [],
   "source": [
    "dist_dat[\"A_mean\"] = np.mean(all_heatmaps_1, axis=(1,2,3,4))\n",
    "dist_dat[\"B_mean\"] = np.mean(all_heatmaps_2, axis=(1,2,3,4))\n",
    "dist_dat[\"AB_mean\"] = np.mean(all_heatmaps_1_2, axis=(1,2,3,4))"
   ]
  },
  {
   "cell_type": "markdown",
   "metadata": {},
   "source": [
    "### Calculate SD for Both Model Types"
   ]
  },
  {
   "cell_type": "code",
   "execution_count": null,
   "metadata": {},
   "outputs": [],
   "source": [
    "def calc_sd(hm):\n",
    "    sd_hm = np.sqrt(np.mean(np.var(hm, axis = 1), axis=(1,2,3)))\n",
    "    return sd_hm"
   ]
  },
  {
   "cell_type": "code",
   "execution_count": null,
   "metadata": {},
   "outputs": [],
   "source": [
    "dist_dat[\"A_sd\"] = calc_sd(all_heatmaps_1)\n",
    "dist_dat[\"B_sd\"] = calc_sd(all_heatmaps_2)\n",
    "dist_dat[\"AB_sd\"] = calc_sd(all_heatmaps_1_2)"
   ]
  },
  {
   "cell_type": "code",
   "execution_count": null,
   "metadata": {},
   "outputs": [],
   "source": [
    "dist_dat"
   ]
  },
  {
   "cell_type": "markdown",
   "metadata": {},
   "source": [
    "### Loop Over All Patients and Calculate Different Distance Measures\n",
    "\n",
    "Calculate distance measures between all 10 heatmaps.\n",
    "\n",
    "- cosine distance (angle between vectors, extend is not considered)\n",
    "- euclidean (raw direct distance)"
   ]
  },
  {
   "cell_type": "code",
   "execution_count": null,
   "metadata": {},
   "outputs": [],
   "source": [
    "import itertools\n",
    "from tqdm import tqdm\n",
    "from scipy.spatial.distance import pdist\n",
    "\n",
    "def calc_dist_of_all(all_hms, dist_mes, n_heatmaps=10):\n",
    "    # all_hms: numpy array of shape (n_patients, n_heatmaps, 128, 128, 28)\n",
    "    # dist_mes: distance metric to use (e.g. \"euclidean\", \"cosine\", \"correlation\"), must be supported by scipy.spatial.distance.pdist\n",
    "    #\n",
    "    # returns: 3 lists of distances for A, AB, B (all distantces between heatmaps of the same group)\n",
    "\n",
    "    combi = [comb for comb in itertools.combinations(range(n_heatmaps), 2)] # all combinations of 2\n",
    "\n",
    "    A = []\n",
    "    AB = []\n",
    "    B = []\n",
    "    \n",
    "    for i in tqdm(range(all_hms.shape[0])):\n",
    "        res_hm = all_hms[i].reshape(10, -1)\n",
    "\n",
    "        distances = pdist(res_hm, metric=dist_mes) \n",
    "\n",
    "        a = []\n",
    "        ab = []\n",
    "        b = []\n",
    "\n",
    "        for i in range(n_heatmaps):\n",
    "            for j in range(i+1, n_heatmaps):\n",
    "                if i < n_heatmaps/2 and j < n_heatmaps/2:\n",
    "                    a.append(distances[combi.index((i, j))])\n",
    "                elif i < n_heatmaps/2 and j >= n_heatmaps/2:\n",
    "                    ab.append(distances[combi.index((i, j))])\n",
    "                else:\n",
    "                    b.append(distances[combi.index((i, j))])\n",
    "\n",
    "        A.append(a)\n",
    "        AB.append(ab)\n",
    "        B.append(b)\n",
    "\n",
    "    return A, AB, B"
   ]
  },
  {
   "cell_type": "code",
   "execution_count": null,
   "metadata": {},
   "outputs": [],
   "source": [
    "dist_dat[\"A_euclidean\"], dist_dat[\"AB_euclidean\"], dist_dat[\"B_euclidean\"] = calc_dist_of_all(\n",
    "    all_heatmaps_1_2, \"euclidean\")"
   ]
  },
  {
   "cell_type": "code",
   "execution_count": null,
   "metadata": {},
   "outputs": [],
   "source": [
    "dist_dat[\"A_cosine\"], dist_dat[\"AB_cosine\"], dist_dat[\"B_cosine\"] = calc_dist_of_all(\n",
    "    all_heatmaps_1_2, \"cosine\")\n"
   ]
  },
  {
   "cell_type": "code",
   "execution_count": null,
   "metadata": {},
   "outputs": [],
   "source": [
    "import seaborn as sns\n",
    "import matplotlib.pyplot as plt\n",
    "\n",
    "data = dist_dat.filter(like='cosin').iloc[10][0:3]\n",
    "\n",
    "sns.boxplot(data=data, color='lightgray', width=0.4)\n",
    "sns.stripplot(data=data)\n",
    "plt.xticks(ticks=[0, 1, 2], labels=['a', 'ab', 'b'])\n",
    "plt.xlabel('Groups')\n",
    "plt.ylabel('Values')\n",
    "plt.title('Stripplot and Boxplot')\n",
    "plt.show()"
   ]
  },
  {
   "cell_type": "markdown",
   "metadata": {},
   "source": [
    "### Add distant measure of averaged heatmaps\n",
    "\n",
    "- cosine\n",
    "- euclidean"
   ]
  },
  {
   "cell_type": "code",
   "execution_count": null,
   "metadata": {},
   "outputs": [],
   "source": [
    "def calc_dist_of_two(hm_a, hm_b, dist_mes, adjustment=0):\n",
    "    # hm_a: numpy array of shape (n_patients, 1, 128, 128, 28)\n",
    "    # hm_b: numpy array of shape (n_patients, 1, 128, 128, 28)\n",
    "    # dist_mes: distance metric to use (e.g. \"euclidean\", \"cosine\", \"correlation\"), must be supported by scipy.spatial.distance.pdist\n",
    "    # adjustment: value to add to the heatmsas before calculating the distance \n",
    "    #             (useful for heatmaps which have both negative and positive values and cosine distance)\n",
    "    #\n",
    "    # returns: list of distances between all heatmaps\n",
    "\n",
    "    hm_ab = np.concatenate((hm_a, hm_b), axis=1).reshape(hm_a.shape[0], 2, -1) + adjustment\n",
    "\n",
    "    distance = []\n",
    "\n",
    "    for i in range(hm_ab.shape[0]):\n",
    "        distances = pdist(hm_ab[i], metric=dist_mes)\n",
    "        distance.append(distances)\n",
    "\n",
    "    return np.array(distance)\n"
   ]
  },
  {
   "cell_type": "code",
   "execution_count": null,
   "metadata": {},
   "outputs": [],
   "source": [
    "dist_dat[\"avg_AB_cosine\"] = calc_dist_of_two(mean_heatmaps_1, mean_heatmaps_2, \"cosine\")\n",
    "dist_dat[\"avg_AB_euclidean\"] = calc_dist_of_two(mean_heatmaps_1, mean_heatmaps_2, \"euclidean\")"
   ]
  },
  {
   "cell_type": "markdown",
   "metadata": {},
   "source": [
    "## View Results"
   ]
  },
  {
   "cell_type": "code",
   "execution_count": null,
   "metadata": {},
   "outputs": [],
   "source": [
    "def summarize_array(arr, decimals=None):\n",
    "    summary = {\n",
    "        'Min': np.min(arr),\n",
    "        '1st Qu': np.percentile(arr, 25),\n",
    "        'Median': np.median(arr),\n",
    "        '3rd Qu': np.percentile(arr, 75),\n",
    "        'Max': np.max(arr),\n",
    "        'Mean': np.mean(arr),\n",
    "        'Std Dev': np.std(arr)\n",
    "    }\n",
    "    \n",
    "    if decimals is not None:\n",
    "        for key in summary:\n",
    "            summary[key] = round(summary[key], decimals)\n",
    "    \n",
    "    return summary\n"
   ]
  },
  {
   "cell_type": "code",
   "execution_count": null,
   "metadata": {},
   "outputs": [],
   "source": [
    "dist_dat"
   ]
  },
  {
   "cell_type": "code",
   "execution_count": null,
   "metadata": {},
   "outputs": [],
   "source": [
    "# Example usage\n",
    "summary = summarize_array(dist_dat[\"avg_AB_cosine\"], decimals=2)\n",
    "print(summary)"
   ]
  },
  {
   "cell_type": "code",
   "execution_count": null,
   "metadata": {},
   "outputs": [],
   "source": [
    "np.corrcoef(dist_dat[\"avg_AB_cosine\"], dist_dat[\"avg_AB_euclidean\"])"
   ]
  },
  {
   "cell_type": "code",
   "execution_count": null,
   "metadata": {},
   "outputs": [],
   "source": [
    "import itertools\n",
    "\n",
    "data = [\n",
    "    list(itertools.chain.from_iterable(dist_dat['A_euclidean'])),\n",
    "    list(itertools.chain.from_iterable(dist_dat['AB_euclidean'])),\n",
    "    list(itertools.chain.from_iterable(dist_dat['B_euclidean']))\n",
    "    ]\n",
    "\n",
    "sns.boxplot(data=data, color='lightgray', width=0.4)\n",
    "sns.stripplot(data=data, alpha=0.25)\n",
    "plt.xticks(ticks=[0, 1, 2], labels=['A', 'AB', 'B'])\n",
    "plt.xlabel('Groups')\n",
    "plt.ylabel('Values')\n",
    "plt.title('Stripplot and Boxplot')\n",
    "plt.show()\n"
   ]
  },
  {
   "cell_type": "code",
   "execution_count": null,
   "metadata": {},
   "outputs": [],
   "source": [
    "from sklearn.decomposition import PCA\n",
    "\n",
    "# Reshape mean_heatmaps_1 to have the first dimension as the number of samples\n",
    "n_samples = mean_heatmaps_1.shape[0]\n",
    "mean_heatmaps_1_reshaped = mean_heatmaps_1.reshape(n_samples, -1)\n",
    "\n",
    "# Perform PCA\n",
    "pca1 = PCA(n_components=5)\n",
    "components1 = pca1.fit_transform(mean_heatmaps_1_reshaped)\n",
    "\n",
    "pca1.explained_variance_ratio_\n"
   ]
  },
  {
   "cell_type": "code",
   "execution_count": null,
   "metadata": {},
   "outputs": [],
   "source": [
    "# Reshape mean_heatmaps_1 to have the first dimension as the number of samples\n",
    "n_samples = mean_heatmaps_2.shape[0]\n",
    "mean_heatmaps_2_reshaped = mean_heatmaps_2.reshape(n_samples, -1)\n",
    "\n",
    "# Perform PCA\n",
    "pca2 = PCA(n_components=5)\n",
    "components2 = pca2.fit_transform(mean_heatmaps_2_reshaped)\n",
    "\n",
    "pca2.explained_variance_ratio_"
   ]
  },
  {
   "cell_type": "code",
   "execution_count": null,
   "metadata": {},
   "outputs": [],
   "source": [
    "components2 = pca1.transform(mean_heatmaps_2_reshaped)\n"
   ]
  },
  {
   "cell_type": "code",
   "execution_count": null,
   "metadata": {},
   "outputs": [],
   "source": [
    "print(components1[:10, 0])\n",
    "print(components2[:10, 0])\n"
   ]
  },
  {
   "cell_type": "code",
   "execution_count": null,
   "metadata": {},
   "outputs": [],
   "source": [
    "summarize_array(components1[:, 0], decimals=2)"
   ]
  },
  {
   "cell_type": "code",
   "execution_count": null,
   "metadata": {},
   "outputs": [],
   "source": [
    "summarize_array(components2[:, 0], decimals=2)"
   ]
  },
  {
   "cell_type": "code",
   "execution_count": null,
   "metadata": {},
   "outputs": [],
   "source": [
    "np.corrcoef(components1[:, 0], components2[:, 0])\n"
   ]
  },
  {
   "cell_type": "code",
   "execution_count": null,
   "metadata": {},
   "outputs": [],
   "source": [
    "import matplotlib.pyplot as plt\n",
    "\n",
    "data = (mean_heatmaps_1 - mean_heatmaps_2)[0].reshape(-1)\n",
    "\n",
    "plt.hist(data, bins=10)\n",
    "plt.xlabel('Values')\n",
    "plt.ylabel('Frequency')\n",
    "plt.title('Histogram')\n",
    "plt.show()"
   ]
  },
  {
   "cell_type": "code",
   "execution_count": null,
   "metadata": {},
   "outputs": [],
   "source": [
    "data.mean()"
   ]
  },
  {
   "cell_type": "markdown",
   "metadata": {},
   "source": [
    "#### Check some patients "
   ]
  },
  {
   "cell_type": "code",
   "execution_count": null,
   "metadata": {},
   "outputs": [],
   "source": [
    "measure = \"avg_AB_cosine\"\n",
    "dist_dat.sort_values(by=measure, ascending=False)[[\"p_id\", \"mrs\", \"unfavorable\", measure]].head(10)"
   ]
  },
  {
   "cell_type": "code",
   "execution_count": null,
   "metadata": {},
   "outputs": [],
   "source": [
    "index = 247 # 220, 11 "
   ]
  },
  {
   "cell_type": "code",
   "execution_count": null,
   "metadata": {},
   "outputs": [],
   "source": [
    "print(mean_heatmaps_1[index].min(), mean_heatmaps_1[index].max())"
   ]
  },
  {
   "cell_type": "code",
   "execution_count": null,
   "metadata": {},
   "outputs": [],
   "source": [
    "all_heatmaps_1[index].max(axis=(1,2,3))"
   ]
  },
  {
   "cell_type": "code",
   "execution_count": null,
   "metadata": {},
   "outputs": [],
   "source": [
    "asdf = (np.maximum(-all_heatmaps_1[index], 0)/-all_heatmaps_1[index].max()).mean(axis=0)\n",
    "# asdf = (np.maximum(all_heatmaps_1[index], 0)/all_heatmaps_1[index].max()).mean(axis=3)"
   ]
  },
  {
   "cell_type": "code",
   "execution_count": null,
   "metadata": {},
   "outputs": [],
   "source": [
    "qwer = ((asdf - asdf.min()) / (asdf.max() - asdf.min()))"
   ]
  },
  {
   "cell_type": "code",
   "execution_count": null,
   "metadata": {},
   "outputs": [],
   "source": [
    "qwer.mean(axis=2).max()"
   ]
  },
  {
   "cell_type": "code",
   "execution_count": null,
   "metadata": {},
   "outputs": [],
   "source": [
    "# plt.imshow(qwer.mean(axis=2), cmap='bwr', vmin=-1, vmax=1)\n",
    "plt.imshow(mean_heatmaps_1[index].squeeze().mean(axis=2), cmap='bwr', vmin=-1, vmax=1)\n",
    "plt.colorbar()\n",
    "plt.show()\n"
   ]
  },
  {
   "cell_type": "code",
   "execution_count": null,
   "metadata": {},
   "outputs": [],
   "source": [
    "meta_dat.iloc[index]\n"
   ]
  }
 ],
 "metadata": {
  "kernelspec": {
   "display_name": "Python 3",
   "language": "python",
   "name": "python3"
  }
 },
 "nbformat": 4,
 "nbformat_minor": 2
}
