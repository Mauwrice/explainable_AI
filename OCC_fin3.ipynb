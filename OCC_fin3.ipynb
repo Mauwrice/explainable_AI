{
 "cells": [
  {
   "cell_type": "code",
   "execution_count": null,
   "metadata": {},
   "outputs": [],
   "source": [
    "import functions_model_definition as md\n",
    "import functions_read_data as rdat\n",
    "import functions_occlusion as oc\n",
    "import functions_gradcam as gc\n",
    "import functions_plot_heatmap as phm\n",
    "import functions_slider as sl"
   ]
  },
  {
   "cell_type": "code",
   "execution_count": null,
   "metadata": {},
   "outputs": [],
   "source": [
    "occ_size = (14, 14, 10)\n",
    "occ_stride = 6\n",
    "###per patient input\n",
    "volume = np.expand_dims(X_train, axis = -1)[0]\n",
    "\n",
    "###\n",
    "occlusion_size = np.array(occ_size)\n",
    "normalize = True\n",
    "both_directions = False\n",
    "invert_hm = \"pred_class\"\n",
    "occlusion_stride = occ_stride\n",
    "input_shape = (128,128,28,1)"
   ]
  },
  {
   "cell_type": "code",
   "execution_count": null,
   "metadata": {},
   "outputs": [],
   "source": [
    "volume = volume.reshape(input_shape)"
   ]
  },
  {
   "cell_type": "markdown",
   "metadata": {},
   "source": [
    "## CI_B Ontram"
   ]
  },
  {
   "cell_type": "code",
   "execution_count": null,
   "metadata": {},
   "outputs": [],
   "source": [
    "heatmap_prob_sum = np.zeros((volume.shape[0], volume.shape[1], volume.shape[2]), np.float32)\n",
    "heatmap_occ_n = np.zeros((volume.shape[0], volume.shape[1], volume.shape[2]), np.float32)\n",
    "\n",
    "## Generate all possible occlusions\n",
    "X_occ = []\n",
    "xyz = []\n",
    "for n, (x, y, z, vol_float) in enumerate(oc.iter_occlusion(\n",
    "            volume, size = occlusion_size, stride = occlusion_stride)):\n",
    "            X_occ.append(vol_float.reshape(volume.shape[0], volume.shape[1], volume.shape[2], 1)) #3 changed from 1 manually\n",
    "            xyz.append((x,y,z))\n",
    "\n",
    "\n",
    "\n",
    "X_occ_2 = np.array(X_occ)\n",
    "data_loader_1 = X_occ_2\n",
    "data_occ = tf.data.Dataset.from_tensor_slices((data_loader_1))\n",
    "data_occ_labels = tf.data.Dataset.from_tensor_slices(np.repeat((Y_test_MRS[0],), \n",
    "                                                               repeats=len(X_occ_2), axis=0))\n",
    "occ_loader = tf.data.Dataset.zip((data_occ, data_occ_labels))\n",
    "data_occ_full = occ_loader.batch(5, drop_remainder = True)"
   ]
  },
  {
   "cell_type": "code",
   "execution_count": null,
   "metadata": {},
   "outputs": [],
   "source": [
    "preds_occ = predict_ontram(mod_ontram_lin2, data = data_occ_full)"
   ]
  },
  {
   "cell_type": "code",
   "execution_count": null,
   "metadata": {},
   "outputs": [],
   "source": [
    "for i in range(len(X_occ)):\n",
    "    x,y,z = xyz[i]\n",
    "    heatmap_prob_sum[x:x + occlusion_size[0], y:y + occlusion_size[1], z:z + occlusion_size[2]] += preds_occ['pdf'][i][0]\n",
    "    heatmap_occ_n[x:x + occlusion_size[0], y:y + occlusion_size[1], z:z + occlusion_size[2]] += 1\n",
    "\n",
    "hm_maurice = heatmap_prob_sum / heatmap_occ_n # calculate average probability per voxel'"
   ]
  },
  {
   "cell_type": "code",
   "execution_count": null,
   "metadata": {},
   "outputs": [],
   "source": [
    "phm.plot_heatmap(np.squeeze(X_test[6], axis=-1), hm_maurice,\n",
    "                version = \"overlay\",\n",
    "                mode = \"def\",\n",
    "                slices = (88,72,12),\n",
    "                hm_colormap=\"jet\",\n",
    "                hm_positive=True,\n",
    "                colorbar=True)"
   ]
  },
  {
   "cell_type": "markdown",
   "metadata": {},
   "source": [
    "## CI_B & LS_X Ontram"
   ]
  },
  {
   "cell_type": "code",
   "execution_count": null,
   "metadata": {},
   "outputs": [],
   "source": [
    "preds_occ = predict_ontram(mod_ontram_lin2, data = data_occ_full)"
   ]
  },
  {
   "cell_type": "code",
   "execution_count": null,
   "metadata": {},
   "outputs": [],
   "source": [
    "for i in range(len(X_occ)):\n",
    "    x,y,z = xyz[i]\n",
    "    heatmap_prob_sum[x:x + occlusion_size[0], y:y + occlusion_size[1], z:z + occlusion_size[2]] += preds_occ['pdf'][i][0]\n",
    "    heatmap_occ_n[x:x + occlusion_size[0], y:y + occlusion_size[1], z:z + occlusion_size[2]] += 1\n",
    "\n",
    "hm_maurice = heatmap_prob_sum / heatmap_occ_n # calculate average probability per voxel'"
   ]
  },
  {
   "cell_type": "code",
   "execution_count": null,
   "metadata": {},
   "outputs": [],
   "source": [
    "phm.plot_heatmap(np.squeeze(X_test[6], axis=-1), hm_maurice,\n",
    "                version = \"overlay\",\n",
    "                mode = \"def\",\n",
    "                slices = (88,72,12),\n",
    "                hm_colormap=\"jet\",\n",
    "                hm_positive=True,\n",
    "                colorbar=True)"
   ]
  },
  {
   "cell_type": "markdown",
   "metadata": {},
   "source": [
    "## Jonas "
   ]
  },
  {
   "cell_type": "code",
   "execution_count": null,
   "metadata": {},
   "outputs": [],
   "source": [
    "heatmap_prob_sum = np.zeros((volume.shape[0], volume.shape[1], volume.shape[2]), np.float32)\n",
    "heatmap_occ_n = np.zeros((volume.shape[0], volume.shape[1], volume.shape[2]), np.float32)"
   ]
  },
  {
   "cell_type": "code",
   "execution_count": null,
   "metadata": {},
   "outputs": [],
   "source": [
    "## Generate all possible occlusions\n",
    "X_occ = []\n",
    "xyz = []\n",
    "for n, (x, y, z, vol_float) in enumerate(oc.iter_occlusion(\n",
    "            volume, size = occlusion_size, stride = occlusion_stride)):\n",
    "            X_occ.append(vol_float.reshape(volume.shape[0], volume.shape[1], volume.shape[2], 1)) #3 changed from 1 manually\n",
    "            xyz.append((x,y,z))"
   ]
  },
  {
   "cell_type": "code",
   "execution_count": null,
   "metadata": {},
   "outputs": [],
   "source": [
    "preds_occ_jonas = jon_softmax.predict(data_occ_full)"
   ]
  },
  {
   "cell_type": "code",
   "execution_count": null,
   "metadata": {},
   "outputs": [],
   "source": [
    "for i in range(len(X_occ)):\n",
    "    x,y,z = xyz[i]\n",
    "    heatmap_prob_sum[x:x + occlusion_size[0], y:y + occlusion_size[1], z:z + occlusion_size[2]] += preds_occ_jonas[i][0]\n",
    "    heatmap_occ_n[x:x + occlusion_size[0], y:y + occlusion_size[1], z:z + occlusion_size[2]] += 1\n",
    "\n",
    "hm_jonas = heatmap_prob_sum / heatmap_occ_n # calculate average probability per voxel'"
   ]
  },
  {
   "cell_type": "code",
   "execution_count": null,
   "metadata": {},
   "outputs": [],
   "source": [
    "phm.plot_heatmap(np.squeeze(X_test[10], axis=-1), hm_jonas,\n",
    "                version = \"overlay\",\n",
    "                mode = \"def\",\n",
    "                slices = (88,72,12),\n",
    "                hm_colormap=\"jet\",\n",
    "                hm_positive=True,\n",
    "                colorbar=True)"
   ]
  }
 ],
 "metadata": {
  "language_info": {
   "name": "python"
  }
 },
 "nbformat": 4,
 "nbformat_minor": 2
}
