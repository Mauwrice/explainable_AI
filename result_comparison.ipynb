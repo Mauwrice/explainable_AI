{
 "cells": [
  {
   "cell_type": "markdown",
   "metadata": {},
   "source": [
    "# Compare Results of the Binary Python Model to the Original R Folds as in the paper\n",
    "\n",
    "Plot the AUC of all 5 ensemble (only weights differ) of the split 6 from the paper (andrea).   \n",
    "Compare the results to the original one achieved with R. Amongst others with a calibration plot.\n",
    "\n",
    "## Load Libraries and Modules"
   ]
  },
  {
   "cell_type": "code",
   "execution_count": 99,
   "metadata": {},
   "outputs": [
    {
     "name": "stdout",
     "output_type": "stream",
     "text": [
      "TF  Version 2.2.0\n"
     ]
    }
   ],
   "source": [
    "%matplotlib inline\n",
    "\n",
    "import os\n",
    "import h5py\n",
    "import pandas as pd\n",
    "import numpy as np\n",
    "import matplotlib.pyplot as plt\n",
    "import zipfile\n",
    "import random\n",
    "\n",
    "from sklearn.model_selection import KFold\n",
    "from sklearn import preprocessing\n",
    "from sklearn import metrics\n",
    "from scipy import ndimage\n",
    "\n",
    "import tensorflow as tf\n",
    "from tensorflow import keras\n",
    "from tensorflow.keras import layers\n",
    "import tensorflow_probability as tfp\n",
    "from tensorflow.keras.models import Sequential, Model\n",
    "\n",
    "print(\"TF  Version\",tf.__version__)"
   ]
  },
  {
   "cell_type": "code",
   "execution_count": 100,
   "metadata": {},
   "outputs": [
    {
     "name": "stdout",
     "output_type": "stream",
     "text": [
      "/tf/notebooks/schnemau/xAI_stroke_3d\n",
      "TF  Version 2.2.0\n"
     ]
    }
   ],
   "source": [
    "# check and set path before loading modules\n",
    "print(os.getcwd())\n",
    "DIR = \"/tf/notebooks/schnemau/xAI_stroke_3d/\"\n",
    "if os.getcwd() != DIR:\n",
    "    os.chdir(DIR)\n",
    "\n",
    "import functions_metrics as fm\n",
    "import functions_model_definition as md\n",
    "\n",
    "print(\"TF  Version\",tf.__version__)"
   ]
  },
  {
   "cell_type": "markdown",
   "metadata": {},
   "source": [
    "## Load Data"
   ]
  },
  {
   "cell_type": "code",
   "execution_count": 109,
   "metadata": {},
   "outputs": [
    {
     "name": "stdout",
     "output_type": "stream",
     "text": [
      "/tf/notebooks/schnemau/xAI_stroke_3d\n"
     ]
    }
   ],
   "source": [
    "# Define the path + output path:\n",
    "print(os.getcwd())\n",
    "IMG_DIR = \"/tf/notebooks/hezo/stroke_perfusion/data/\" \n",
    "# IMG_DIR2 = \"/tf/notebooks/kook/data-sets/stroke-lh/\"\n",
    "DATA_DIR = \"/tf/notebooks/hezo/stroke_perfusion/data/\" \n",
    "WEIGHT_DIR = \"/tf/notebooks/schnemau/xAI_stroke_3d/weights/\"\n",
    "\n",
    "\n"
   ]
  },
  {
   "cell_type": "code",
   "execution_count": 110,
   "metadata": {},
   "outputs": [],
   "source": [
    "model_name = \"3d_cnn_binary_model_split6_unnormalized_avg_layer_paper_model_sigmoid_activation_\"\n",
    "layer_connection = \"globalAveragePooling\"\n",
    "last_activation = \"sigmoid\""
   ]
  },
  {
   "cell_type": "code",
   "execution_count": 111,
   "metadata": {},
   "outputs": [
    {
     "name": "stdout",
     "output_type": "stream",
     "text": [
      "(439, 128, 128, 28, 1) -0.7314910890799393 26.423200798592248 -4.100563400421584e-18 1.0\n"
     ]
    }
   ],
   "source": [
    "with h5py.File(IMG_DIR + 'dicom_2d_192x192x3_clean_interpolated_18_02_2021_preprocessed2.h5', \"r\") as h5:\n",
    "# with h5py.File(IMG_DIR2 + 'dicom-3d.h5', \"r\") as h5:\n",
    "# both images are the same\n",
    "    X_in = h5[\"X\"][:]\n",
    "    Y_img = h5[\"Y_img\"][:]\n",
    "    Y_pat = h5[\"Y_pat\"][:]\n",
    "    pat = h5[\"pat\"][:]\n",
    "    \n",
    "X_in = np.expand_dims(X_in, axis = 4)\n",
    "print(X_in.shape, X_in.min(), X_in.max(), X_in.mean(), X_in.std())"
   ]
  },
  {
   "cell_type": "code",
   "execution_count": 112,
   "metadata": {},
   "outputs": [
    {
     "data": {
      "text/html": [
       "<div>\n",
       "<style scoped>\n",
       "    .dataframe tbody tr th:only-of-type {\n",
       "        vertical-align: middle;\n",
       "    }\n",
       "\n",
       "    .dataframe tbody tr th {\n",
       "        vertical-align: top;\n",
       "    }\n",
       "\n",
       "    .dataframe thead th {\n",
       "        text-align: right;\n",
       "    }\n",
       "</style>\n",
       "<table border=\"1\" class=\"dataframe\">\n",
       "  <thead>\n",
       "    <tr style=\"text-align: right;\">\n",
       "      <th></th>\n",
       "      <th>p_id</th>\n",
       "      <th>mrs3</th>\n",
       "      <th>age</th>\n",
       "      <th>sexm</th>\n",
       "      <th>nihss_baseline</th>\n",
       "      <th>mrs_before</th>\n",
       "      <th>stroke_beforey</th>\n",
       "      <th>tia_beforey</th>\n",
       "      <th>ich_beforey</th>\n",
       "      <th>rf_hypertoniay</th>\n",
       "      <th>rf_diabetesy</th>\n",
       "      <th>rf_hypercholesterolemiay</th>\n",
       "      <th>rf_smokery</th>\n",
       "      <th>rf_atrial_fibrillationy</th>\n",
       "      <th>rf_chdy</th>\n",
       "      <th>eventtia</th>\n",
       "    </tr>\n",
       "  </thead>\n",
       "  <tbody>\n",
       "    <tr>\n",
       "      <th>0</th>\n",
       "      <td>101</td>\n",
       "      <td>1</td>\n",
       "      <td>1.196256</td>\n",
       "      <td>-1.295848</td>\n",
       "      <td>0.645662</td>\n",
       "      <td>3.057795</td>\n",
       "      <td>-0.419507</td>\n",
       "      <td>-0.263596</td>\n",
       "      <td>-0.118205</td>\n",
       "      <td>0.712688</td>\n",
       "      <td>-0.448358</td>\n",
       "      <td>-1.237729</td>\n",
       "      <td>-0.556297</td>\n",
       "      <td>-0.460976</td>\n",
       "      <td>2.107803</td>\n",
       "      <td>0</td>\n",
       "    </tr>\n",
       "    <tr>\n",
       "      <th>1</th>\n",
       "      <td>103</td>\n",
       "      <td>0</td>\n",
       "      <td>-2.512593</td>\n",
       "      <td>-1.295848</td>\n",
       "      <td>-0.820817</td>\n",
       "      <td>-0.470965</td>\n",
       "      <td>-0.419507</td>\n",
       "      <td>-0.263596</td>\n",
       "      <td>-0.118205</td>\n",
       "      <td>-1.400370</td>\n",
       "      <td>-0.448358</td>\n",
       "      <td>-1.237729</td>\n",
       "      <td>-0.556297</td>\n",
       "      <td>-0.460976</td>\n",
       "      <td>-0.473492</td>\n",
       "      <td>0</td>\n",
       "    </tr>\n",
       "    <tr>\n",
       "      <th>2</th>\n",
       "      <td>104</td>\n",
       "      <td>0</td>\n",
       "      <td>1.025281</td>\n",
       "      <td>0.770174</td>\n",
       "      <td>-0.820817</td>\n",
       "      <td>-0.470965</td>\n",
       "      <td>-0.419507</td>\n",
       "      <td>-0.263596</td>\n",
       "      <td>-0.118205</td>\n",
       "      <td>-1.400370</td>\n",
       "      <td>2.225964</td>\n",
       "      <td>0.806338</td>\n",
       "      <td>-0.556297</td>\n",
       "      <td>-0.460976</td>\n",
       "      <td>-0.473492</td>\n",
       "      <td>0</td>\n",
       "    </tr>\n",
       "    <tr>\n",
       "      <th>3</th>\n",
       "      <td>105</td>\n",
       "      <td>6</td>\n",
       "      <td>1.432992</td>\n",
       "      <td>-1.295848</td>\n",
       "      <td>-0.820817</td>\n",
       "      <td>-0.470965</td>\n",
       "      <td>-0.419507</td>\n",
       "      <td>-0.263596</td>\n",
       "      <td>-0.118205</td>\n",
       "      <td>0.712688</td>\n",
       "      <td>-0.448358</td>\n",
       "      <td>0.806338</td>\n",
       "      <td>-0.556297</td>\n",
       "      <td>-0.460976</td>\n",
       "      <td>-0.473492</td>\n",
       "      <td>0</td>\n",
       "    </tr>\n",
       "    <tr>\n",
       "      <th>4</th>\n",
       "      <td>106</td>\n",
       "      <td>0</td>\n",
       "      <td>-0.539801</td>\n",
       "      <td>-1.295848</td>\n",
       "      <td>-0.820817</td>\n",
       "      <td>-0.470965</td>\n",
       "      <td>-0.419507</td>\n",
       "      <td>-0.263596</td>\n",
       "      <td>-0.118205</td>\n",
       "      <td>-1.400370</td>\n",
       "      <td>-0.448358</td>\n",
       "      <td>-1.237729</td>\n",
       "      <td>-0.556297</td>\n",
       "      <td>-0.460976</td>\n",
       "      <td>-0.473492</td>\n",
       "      <td>0</td>\n",
       "    </tr>\n",
       "    <tr>\n",
       "      <th>...</th>\n",
       "      <td>...</td>\n",
       "      <td>...</td>\n",
       "      <td>...</td>\n",
       "      <td>...</td>\n",
       "      <td>...</td>\n",
       "      <td>...</td>\n",
       "      <td>...</td>\n",
       "      <td>...</td>\n",
       "      <td>...</td>\n",
       "      <td>...</td>\n",
       "      <td>...</td>\n",
       "      <td>...</td>\n",
       "      <td>...</td>\n",
       "      <td>...</td>\n",
       "      <td>...</td>\n",
       "      <td>...</td>\n",
       "    </tr>\n",
       "    <tr>\n",
       "      <th>502</th>\n",
       "      <td>536</td>\n",
       "      <td>0</td>\n",
       "      <td>-1.473589</td>\n",
       "      <td>0.770174</td>\n",
       "      <td>-0.657875</td>\n",
       "      <td>-0.470965</td>\n",
       "      <td>-0.419507</td>\n",
       "      <td>-0.263596</td>\n",
       "      <td>-0.118205</td>\n",
       "      <td>0.712688</td>\n",
       "      <td>-0.448358</td>\n",
       "      <td>0.806338</td>\n",
       "      <td>1.794057</td>\n",
       "      <td>-0.460976</td>\n",
       "      <td>-0.473492</td>\n",
       "      <td>1</td>\n",
       "    </tr>\n",
       "    <tr>\n",
       "      <th>503</th>\n",
       "      <td>540</td>\n",
       "      <td>2</td>\n",
       "      <td>0.828002</td>\n",
       "      <td>-1.295848</td>\n",
       "      <td>0.319778</td>\n",
       "      <td>-0.470965</td>\n",
       "      <td>-0.419507</td>\n",
       "      <td>-0.263596</td>\n",
       "      <td>-0.118205</td>\n",
       "      <td>0.712688</td>\n",
       "      <td>-0.448358</td>\n",
       "      <td>0.806338</td>\n",
       "      <td>-0.556297</td>\n",
       "      <td>-0.460976</td>\n",
       "      <td>-0.473492</td>\n",
       "      <td>1</td>\n",
       "    </tr>\n",
       "    <tr>\n",
       "      <th>504</th>\n",
       "      <td>541</td>\n",
       "      <td>0</td>\n",
       "      <td>-3.183342</td>\n",
       "      <td>0.770174</td>\n",
       "      <td>0.808604</td>\n",
       "      <td>-0.470965</td>\n",
       "      <td>-0.419507</td>\n",
       "      <td>-0.263596</td>\n",
       "      <td>-0.118205</td>\n",
       "      <td>-1.400370</td>\n",
       "      <td>-0.448358</td>\n",
       "      <td>-1.237729</td>\n",
       "      <td>-0.556297</td>\n",
       "      <td>-0.460976</td>\n",
       "      <td>-0.473492</td>\n",
       "      <td>1</td>\n",
       "    </tr>\n",
       "    <tr>\n",
       "      <th>505</th>\n",
       "      <td>542</td>\n",
       "      <td>1</td>\n",
       "      <td>0.038885</td>\n",
       "      <td>0.770174</td>\n",
       "      <td>-0.331991</td>\n",
       "      <td>-0.470965</td>\n",
       "      <td>-0.419507</td>\n",
       "      <td>-0.263596</td>\n",
       "      <td>-0.118205</td>\n",
       "      <td>0.712688</td>\n",
       "      <td>2.225964</td>\n",
       "      <td>-1.237729</td>\n",
       "      <td>-0.556297</td>\n",
       "      <td>-0.460976</td>\n",
       "      <td>-0.473492</td>\n",
       "      <td>1</td>\n",
       "    </tr>\n",
       "    <tr>\n",
       "      <th>506</th>\n",
       "      <td>544</td>\n",
       "      <td>1</td>\n",
       "      <td>-1.539348</td>\n",
       "      <td>0.770174</td>\n",
       "      <td>-0.169048</td>\n",
       "      <td>-0.470965</td>\n",
       "      <td>-0.419507</td>\n",
       "      <td>-0.263596</td>\n",
       "      <td>-0.118205</td>\n",
       "      <td>-1.400370</td>\n",
       "      <td>-0.448358</td>\n",
       "      <td>-1.237729</td>\n",
       "      <td>-0.556297</td>\n",
       "      <td>-0.460976</td>\n",
       "      <td>-0.473492</td>\n",
       "      <td>1</td>\n",
       "    </tr>\n",
       "  </tbody>\n",
       "</table>\n",
       "<p>507 rows × 16 columns</p>\n",
       "</div>"
      ],
      "text/plain": [
       "     p_id  mrs3       age      sexm  nihss_baseline  mrs_before  \\\n",
       "0     101     1  1.196256 -1.295848        0.645662    3.057795   \n",
       "1     103     0 -2.512593 -1.295848       -0.820817   -0.470965   \n",
       "2     104     0  1.025281  0.770174       -0.820817   -0.470965   \n",
       "3     105     6  1.432992 -1.295848       -0.820817   -0.470965   \n",
       "4     106     0 -0.539801 -1.295848       -0.820817   -0.470965   \n",
       "..    ...   ...       ...       ...             ...         ...   \n",
       "502   536     0 -1.473589  0.770174       -0.657875   -0.470965   \n",
       "503   540     2  0.828002 -1.295848        0.319778   -0.470965   \n",
       "504   541     0 -3.183342  0.770174        0.808604   -0.470965   \n",
       "505   542     1  0.038885  0.770174       -0.331991   -0.470965   \n",
       "506   544     1 -1.539348  0.770174       -0.169048   -0.470965   \n",
       "\n",
       "     stroke_beforey  tia_beforey  ich_beforey  rf_hypertoniay  rf_diabetesy  \\\n",
       "0         -0.419507    -0.263596    -0.118205        0.712688     -0.448358   \n",
       "1         -0.419507    -0.263596    -0.118205       -1.400370     -0.448358   \n",
       "2         -0.419507    -0.263596    -0.118205       -1.400370      2.225964   \n",
       "3         -0.419507    -0.263596    -0.118205        0.712688     -0.448358   \n",
       "4         -0.419507    -0.263596    -0.118205       -1.400370     -0.448358   \n",
       "..              ...          ...          ...             ...           ...   \n",
       "502       -0.419507    -0.263596    -0.118205        0.712688     -0.448358   \n",
       "503       -0.419507    -0.263596    -0.118205        0.712688     -0.448358   \n",
       "504       -0.419507    -0.263596    -0.118205       -1.400370     -0.448358   \n",
       "505       -0.419507    -0.263596    -0.118205        0.712688      2.225964   \n",
       "506       -0.419507    -0.263596    -0.118205       -1.400370     -0.448358   \n",
       "\n",
       "     rf_hypercholesterolemiay  rf_smokery  rf_atrial_fibrillationy   rf_chdy  \\\n",
       "0                   -1.237729   -0.556297                -0.460976  2.107803   \n",
       "1                   -1.237729   -0.556297                -0.460976 -0.473492   \n",
       "2                    0.806338   -0.556297                -0.460976 -0.473492   \n",
       "3                    0.806338   -0.556297                -0.460976 -0.473492   \n",
       "4                   -1.237729   -0.556297                -0.460976 -0.473492   \n",
       "..                        ...         ...                      ...       ...   \n",
       "502                  0.806338    1.794057                -0.460976 -0.473492   \n",
       "503                  0.806338   -0.556297                -0.460976 -0.473492   \n",
       "504                 -1.237729   -0.556297                -0.460976 -0.473492   \n",
       "505                 -1.237729   -0.556297                -0.460976 -0.473492   \n",
       "506                 -1.237729   -0.556297                -0.460976 -0.473492   \n",
       "\n",
       "     eventtia  \n",
       "0           0  \n",
       "1           0  \n",
       "2           0  \n",
       "3           0  \n",
       "4           0  \n",
       "..        ...  \n",
       "502         1  \n",
       "503         1  \n",
       "504         1  \n",
       "505         1  \n",
       "506         1  \n",
       "\n",
       "[507 rows x 16 columns]"
      ]
     },
     "execution_count": 112,
     "metadata": {},
     "output_type": "execute_result"
    }
   ],
   "source": [
    "dat = pd.read_csv(IMG_DIR + 'baseline_data_zurich_prepared.csv', sep=\",\")\n",
    "dat"
   ]
  },
  {
   "cell_type": "code",
   "execution_count": 113,
   "metadata": {},
   "outputs": [
    {
     "data": {
      "text/html": [
       "<div>\n",
       "<style scoped>\n",
       "    .dataframe tbody tr th:only-of-type {\n",
       "        vertical-align: middle;\n",
       "    }\n",
       "\n",
       "    .dataframe tbody tr th {\n",
       "        vertical-align: top;\n",
       "    }\n",
       "\n",
       "    .dataframe thead th {\n",
       "        text-align: right;\n",
       "    }\n",
       "</style>\n",
       "<table border=\"1\" class=\"dataframe\">\n",
       "  <thead>\n",
       "    <tr style=\"text-align: right;\">\n",
       "      <th></th>\n",
       "      <th>idx</th>\n",
       "      <th>type</th>\n",
       "      <th>spl</th>\n",
       "    </tr>\n",
       "  </thead>\n",
       "  <tbody>\n",
       "    <tr>\n",
       "      <th>2036</th>\n",
       "      <td>372</td>\n",
       "      <td>test</td>\n",
       "      <td>6</td>\n",
       "    </tr>\n",
       "    <tr>\n",
       "      <th>2037</th>\n",
       "      <td>284</td>\n",
       "      <td>test</td>\n",
       "      <td>6</td>\n",
       "    </tr>\n",
       "    <tr>\n",
       "      <th>2038</th>\n",
       "      <td>298</td>\n",
       "      <td>test</td>\n",
       "      <td>6</td>\n",
       "    </tr>\n",
       "    <tr>\n",
       "      <th>2039</th>\n",
       "      <td>203</td>\n",
       "      <td>test</td>\n",
       "      <td>6</td>\n",
       "    </tr>\n",
       "    <tr>\n",
       "      <th>2040</th>\n",
       "      <td>292</td>\n",
       "      <td>test</td>\n",
       "      <td>6</td>\n",
       "    </tr>\n",
       "    <tr>\n",
       "      <th>...</th>\n",
       "      <td>...</td>\n",
       "      <td>...</td>\n",
       "      <td>...</td>\n",
       "    </tr>\n",
       "    <tr>\n",
       "      <th>2438</th>\n",
       "      <td>403</td>\n",
       "      <td>train</td>\n",
       "      <td>6</td>\n",
       "    </tr>\n",
       "    <tr>\n",
       "      <th>2439</th>\n",
       "      <td>404</td>\n",
       "      <td>train</td>\n",
       "      <td>6</td>\n",
       "    </tr>\n",
       "    <tr>\n",
       "      <th>2440</th>\n",
       "      <td>405</td>\n",
       "      <td>train</td>\n",
       "      <td>6</td>\n",
       "    </tr>\n",
       "    <tr>\n",
       "      <th>2441</th>\n",
       "      <td>406</td>\n",
       "      <td>train</td>\n",
       "      <td>6</td>\n",
       "    </tr>\n",
       "    <tr>\n",
       "      <th>2442</th>\n",
       "      <td>407</td>\n",
       "      <td>train</td>\n",
       "      <td>6</td>\n",
       "    </tr>\n",
       "  </tbody>\n",
       "</table>\n",
       "<p>407 rows × 3 columns</p>\n",
       "</div>"
      ],
      "text/plain": [
       "0     idx   type  spl\n",
       "2036  372   test    6\n",
       "2037  284   test    6\n",
       "2038  298   test    6\n",
       "2039  203   test    6\n",
       "2040  292   test    6\n",
       "...   ...    ...  ...\n",
       "2438  403  train    6\n",
       "2439  404  train    6\n",
       "2440  405  train    6\n",
       "2441  406  train    6\n",
       "2442  407  train    6\n",
       "\n",
       "[407 rows x 3 columns]"
      ]
     },
     "execution_count": 113,
     "metadata": {},
     "output_type": "execute_result"
    }
   ],
   "source": [
    "andrea_splits = pd.read_csv('/tf/notebooks/schnemau/xAI_stroke_3d/data/andrea_splits.csv', \n",
    "                            sep='\\,', header = None, engine = 'python', \n",
    "                            usecols = [1,2,3]).apply(lambda x: x.str.replace(r\"\\\"\",\"\"))\n",
    "andrea_splits.columns = andrea_splits.iloc[0]\n",
    "andrea_splits.drop(index=0, inplace=True)\n",
    "andrea_splits = andrea_splits.astype({'idx': 'int32', 'spl': 'int32'})\n",
    "split6 = andrea_splits.loc[andrea_splits['spl']==6]\n",
    "split6"
   ]
  },
  {
   "cell_type": "code",
   "execution_count": 114,
   "metadata": {},
   "outputs": [
    {
     "data": {
      "text/plain": [
       "(407, 13)"
      ]
     },
     "execution_count": 114,
     "metadata": {},
     "output_type": "execute_result"
    }
   ],
   "source": [
    "n = []\n",
    "for p in pat:\n",
    "    if p in dat.p_id.values:\n",
    "        n.append(p)\n",
    "n = len(n)\n",
    "\n",
    "# match image and tabular data\n",
    "X = np.zeros((n, X_in.shape[1], X_in.shape[2], X_in.shape[3], X_in.shape[4]))\n",
    "X_tab = np.zeros((n, 13))\n",
    "Y_mrs = np.zeros((n))\n",
    "Y_eventtia = np.zeros((n))\n",
    "p_id = np.zeros((n))\n",
    "\n",
    "i = 0\n",
    "for j, p in enumerate(pat):\n",
    "    if p in dat.p_id.values:\n",
    "        k = np.where(dat.p_id.values == p)[0]\n",
    "        X_tab[i,:] = dat.loc[k,[\"age\", \"sexm\", \"nihss_baseline\", \"mrs_before\",\n",
    "                               \"stroke_beforey\", \"tia_beforey\", \"ich_beforey\", \n",
    "                               \"rf_hypertoniay\", \"rf_diabetesy\", \"rf_hypercholesterolemiay\", \n",
    "                               \"rf_smokery\", \"rf_atrial_fibrillationy\", \"rf_chdy\"]]\n",
    "        X[i] = X_in[j]\n",
    "        p_id[i] = pat[j]\n",
    "        Y_eventtia[i] = Y_pat[j]\n",
    "        Y_mrs[i] = dat.loc[k, \"mrs3\"]\n",
    "        i += 1\n",
    "X_tab.shape"
   ]
  },
  {
   "cell_type": "code",
   "execution_count": 115,
   "metadata": {},
   "outputs": [],
   "source": [
    "Y_new = []\n",
    "for element in Y_mrs:\n",
    "    if element in [0,1,2]:\n",
    "        Y_new.append(0)\n",
    "    else:\n",
    "        Y_new.append(1)\n",
    "Y_new = np.array(Y_new)"
   ]
  },
  {
   "cell_type": "code",
   "execution_count": 116,
   "metadata": {},
   "outputs": [
    {
     "name": "stdout",
     "output_type": "stream",
     "text": [
      "(325, 128, 128, 28) (41, 128, 128, 28) (41, 128, 128, 28)\n",
      "(325,) (41,) (41,)\n"
     ]
    }
   ],
   "source": [
    "# Split data into training set and test set \"split6\"\n",
    "\n",
    "X = np.squeeze(X)\n",
    "X = np.float32(X)\n",
    "\n",
    "train_idx = split6[\"idx\"][split6['type'] == \"train\"].to_numpy() -1 \n",
    "valid_idx = split6[\"idx\"][split6['type'] == \"val\"].to_numpy() - 1 \n",
    "test_idx = split6[\"idx\"][split6['type'] == \"test\"].to_numpy() - 1 \n",
    "\n",
    "X_train = X[train_idx]\n",
    "# y_train = Y_eventtia[train_idx]\n",
    "y_train = Y_new[train_idx]\n",
    "X_valid = X[valid_idx]\n",
    "# y_valid = Y_eventtia[valid_idx]\n",
    "y_valid = Y_new[valid_idx]\n",
    "X_test = X[test_idx]\n",
    "# y_test = Y_eventtia[test_idx]\n",
    "y_test = Y_new[test_idx]\n",
    "\n",
    "print(X_train.shape, X_valid.shape, X_test.shape)\n",
    "print(y_train.shape, y_valid.shape, y_test.shape)"
   ]
  },
  {
   "cell_type": "markdown",
   "metadata": {},
   "source": [
    "## Model"
   ]
  },
  {
   "cell_type": "code",
   "execution_count": 117,
   "metadata": {},
   "outputs": [
    {
     "name": "stdout",
     "output_type": "stream",
     "text": [
      "Model: \"cnn_3d_\"\n",
      "_________________________________________________________________\n",
      "Layer (type)                 Output Shape              Param #   \n",
      "=================================================================\n",
      "input_3 (InputLayer)         [(None, 128, 128, 28, 1)] 0         \n",
      "_________________________________________________________________\n",
      "conv3d_8 (Conv3D)            (None, 128, 128, 28, 32)  896       \n",
      "_________________________________________________________________\n",
      "max_pooling3d_8 (MaxPooling3 (None, 64, 64, 14, 32)    0         \n",
      "_________________________________________________________________\n",
      "conv3d_9 (Conv3D)            (None, 64, 64, 14, 32)    27680     \n",
      "_________________________________________________________________\n",
      "max_pooling3d_9 (MaxPooling3 (None, 32, 32, 7, 32)     0         \n",
      "_________________________________________________________________\n",
      "conv3d_10 (Conv3D)           (None, 32, 32, 7, 64)     55360     \n",
      "_________________________________________________________________\n",
      "max_pooling3d_10 (MaxPooling (None, 16, 16, 3, 64)     0         \n",
      "_________________________________________________________________\n",
      "conv3d_11 (Conv3D)           (None, 16, 16, 3, 64)     110656    \n",
      "_________________________________________________________________\n",
      "max_pooling3d_11 (MaxPooling (None, 8, 8, 1, 64)       0         \n",
      "_________________________________________________________________\n",
      "global_average_pooling3d_2 ( (None, 64)                0         \n",
      "_________________________________________________________________\n",
      "dense_6 (Dense)              (None, 128)               8320      \n",
      "_________________________________________________________________\n",
      "dropout_4 (Dropout)          (None, 128)               0         \n",
      "_________________________________________________________________\n",
      "dense_7 (Dense)              (None, 128)               16512     \n",
      "_________________________________________________________________\n",
      "dropout_5 (Dropout)          (None, 128)               0         \n",
      "_________________________________________________________________\n",
      "dense_8 (Dense)              (None, 1)                 129       \n",
      "=================================================================\n",
      "Total params: 219,553\n",
      "Trainable params: 219,553\n",
      "Non-trainable params: 0\n",
      "_________________________________________________________________\n"
     ]
    }
   ],
   "source": [
    "input_dim = np.expand_dims(X_train, axis = -1).shape[1:]\n",
    "output_dim = 1\n",
    "\n",
    "# call model\n",
    "model_3d = md.stroke_binary_3d(input_dim = input_dim,\n",
    "                               output_dim = output_dim,\n",
    "                               layer_connection = layer_connection,\n",
    "                               last_activation = last_activation)\n",
    "model_3d.summary()\n"
   ]
  },
  {
   "cell_type": "code",
   "execution_count": 118,
   "metadata": {},
   "outputs": [],
   "source": [
    "model_3d.compile(\n",
    "    loss=\"binary_crossentropy\",\n",
    "    optimizer=keras.optimizers.Adam(learning_rate=5*1e-5),\n",
    "    metrics=[\"acc\", tf.keras.metrics.AUC()]\n",
    ")"
   ]
  },
  {
   "cell_type": "markdown",
   "metadata": {},
   "source": [
    "## Save Results per Model"
   ]
  },
  {
   "cell_type": "markdown",
   "metadata": {},
   "source": [
    "Check first for one model:"
   ]
  },
  {
   "cell_type": "code",
   "execution_count": 120,
   "metadata": {},
   "outputs": [],
   "source": [
    "model_3d.load_weights(WEIGHT_DIR + \"andrea_split/\" + model_name + \"14\" + \".h5\")\n",
    "# model_3d.evaluate(x=X_test, y=y_test)\n",
    "# y_pred = model_3d.predict(X_test)"
   ]
  },
  {
   "cell_type": "code",
   "execution_count": 121,
   "metadata": {},
   "outputs": [
    {
     "name": "stdout",
     "output_type": "stream",
     "text": [
      "2/2 [==============================] - 0s 14ms/step - loss: 0.3318 - acc: 0.8537 - auc_2: 0.8048\n"
     ]
    },
    {
     "data": {
      "text/plain": [
       "[0.33179089426994324, 0.8536585569381714, 0.8047618865966797]"
      ]
     },
     "execution_count": 121,
     "metadata": {},
     "output_type": "execute_result"
    }
   ],
   "source": [
    "model_3d.evaluate(x=X_test, y=y_test)"
   ]
  },
  {
   "cell_type": "markdown",
   "metadata": {},
   "source": [
    "Loop over all models and save the results."
   ]
  },
  {
   "cell_type": "code",
   "execution_count": 122,
   "metadata": {},
   "outputs": [
    {
     "data": {
      "image/png": "[encoded data removed]",
      "text/plain": [
       "<Figure size 432x288 with 1 Axes>"
      ]
     },
     "metadata": {
      "needs_background": "light"
     },
     "output_type": "display_data"
    }
   ],
   "source": [
    "model_endings = [\"10\", \"11\", \"12\", \"13\", \"14\"]\n",
    "y_preds = []\n",
    "fprs = []\n",
    "tprs = []\n",
    "aucs = []\n",
    "cal_plot_datas = []\n",
    "\n",
    "# ROC-Curve\n",
    "plt.title('Receiver Operating Characteristic')\n",
    "\n",
    "for model_ending in model_endings:\n",
    "    model_3d.load_weights(WEIGHT_DIR + \"andrea_split/\" + model_name + model_ending + \".h5\")\n",
    "    y_pred = model_3d.predict(X_test)\n",
    "    y_preds.append(y_pred)\n",
    "    \n",
    "    fpr, tpr, threshold = metrics.roc_curve(y_test, (y_pred))\n",
    "    roc_auc = metrics.auc(fpr, tpr)\n",
    "    fprs.append(fpr)\n",
    "    tprs.append(tpr)\n",
    "    aucs.append(roc_auc)\n",
    "    \n",
    "    plt.plot(fpr, tpr, label = 'AUC = %0.2f' % roc_auc)\n",
    "    \n",
    "    cal_plot_datas.append(\n",
    "        fm.cal_plot_data_prep(y_pred, y_test)\n",
    "    )    \n",
    "\n",
    "plt.legend(loc = 'lower right')\n",
    "plt.plot([0, 1], [0, 1],'b--')\n",
    "plt.xlim([0, 1])\n",
    "plt.ylim([0, 1])\n",
    "plt.ylabel('True Positive Rate')\n",
    "plt.xlabel('False Positive Rate')\n",
    "plt.show()"
   ]
  },
  {
   "cell_type": "markdown",
   "metadata": {},
   "source": [
    "# Compare to Andrea\n",
    "\n",
    "## Data Preparation"
   ]
  },
  {
   "cell_type": "code",
   "execution_count": 101,
   "metadata": {},
   "outputs": [],
   "source": [
    "andrea_results_ens1 = pd.read_csv('/tf/notebooks/schnemau/xAI_stroke_3d/data/stroke_cimrsbinary_lossnll_wsno_augyes_cdftest_spl6_ens1.csv'\n",
    "                            ).rename(columns={\"Unnamed: 0\": \"p_idx\"})\n",
    "andrea_results_ens2 = pd.read_csv('/tf/notebooks/schnemau/xAI_stroke_3d/data/stroke_cimrsbinary_lossnll_wsno_augyes_cdftest_spl6_ens2.csv'\n",
    "                            ).rename(columns={\"Unnamed: 0\": \"p_idx\"})\n",
    "andrea_results_ens3 = pd.read_csv('/tf/notebooks/schnemau/xAI_stroke_3d/data/stroke_cimrsbinary_lossnll_wsno_augyes_cdftest_spl6_ens3.csv'\n",
    "                            ).rename(columns={\"Unnamed: 0\": \"p_idx\"})\n",
    "andrea_results_ens4 = pd.read_csv('/tf/notebooks/schnemau/xAI_stroke_3d/data/stroke_cimrsbinary_lossnll_wsno_augyes_cdftest_spl6_ens4.csv'\n",
    "                            ).rename(columns={\"Unnamed: 0\": \"p_idx\"})\n",
    "andrea_results_ens5 = pd.read_csv('/tf/notebooks/schnemau/xAI_stroke_3d/data/stroke_cimrsbinary_lossnll_wsno_augyes_cdftest_spl6_ens5.csv'\n",
    "                            ).rename(columns={\"Unnamed: 0\": \"p_idx\"})"
   ]
  },
  {
   "cell_type": "code",
   "execution_count": null,
   "metadata": {},
   "outputs": [],
   "source": [
    "## NOT NEEDED: same as above\n",
    "# andrea_results_trafo = pd.read_csv('/tf/notebooks/brdd/xAI_stroke_3d/data/stroke_merged_bincdf_cimrsbinary.csv')\n",
    "# andrea_results_trafo = andrea_results_trafo[\n",
    "#     (andrea_results_trafo[\"loss\"] == \"nll\") &\n",
    "#     (andrea_results_trafo[\"type\"] == \"test\") &\n",
    "#     (andrea_results_trafo[\"spl\"] == 6)]"
   ]
  },
  {
   "cell_type": "code",
   "execution_count": 102,
   "metadata": {},
   "outputs": [
    {
     "data": {
      "text/html": [
       "<div>\n",
       "<style scoped>\n",
       "    .dataframe tbody tr th:only-of-type {\n",
       "        vertical-align: middle;\n",
       "    }\n",
       "\n",
       "    .dataframe tbody tr th {\n",
       "        vertical-align: top;\n",
       "    }\n",
       "\n",
       "    .dataframe thead th {\n",
       "        text-align: right;\n",
       "    }\n",
       "</style>\n",
       "<table border=\"1\" class=\"dataframe\">\n",
       "  <thead>\n",
       "    <tr style=\"text-align: right;\">\n",
       "      <th></th>\n",
       "      <th>Unnamed: 0</th>\n",
       "      <th>bin</th>\n",
       "      <th>prop</th>\n",
       "      <th>lwr</th>\n",
       "      <th>upr</th>\n",
       "      <th>cases</th>\n",
       "      <th>midpoint</th>\n",
       "      <th>spl</th>\n",
       "      <th>method</th>\n",
       "      <th>mod</th>\n",
       "      <th>weights</th>\n",
       "    </tr>\n",
       "  </thead>\n",
       "  <tbody>\n",
       "    <tr>\n",
       "      <th>192</th>\n",
       "      <td>193</td>\n",
       "      <td>[0,0.00786]</td>\n",
       "      <td>0.0</td>\n",
       "      <td>0.000000</td>\n",
       "      <td>0.284914</td>\n",
       "      <td>0.0</td>\n",
       "      <td>0.003932</td>\n",
       "      <td>1</td>\n",
       "      <td>trafo</td>\n",
       "      <td>cimrsbinary</td>\n",
       "      <td>equal</td>\n",
       "    </tr>\n",
       "    <tr>\n",
       "      <th>193</th>\n",
       "      <td>194</td>\n",
       "      <td>(0.00786,0.0395]</td>\n",
       "      <td>0.1</td>\n",
       "      <td>0.002529</td>\n",
       "      <td>0.445016</td>\n",
       "      <td>1.0</td>\n",
       "      <td>0.023686</td>\n",
       "      <td>1</td>\n",
       "      <td>trafo</td>\n",
       "      <td>cimrsbinary</td>\n",
       "      <td>equal</td>\n",
       "    </tr>\n",
       "    <tr>\n",
       "      <th>194</th>\n",
       "      <td>195</td>\n",
       "      <td>(0.0395,0.0872]</td>\n",
       "      <td>0.1</td>\n",
       "      <td>0.002529</td>\n",
       "      <td>0.445016</td>\n",
       "      <td>1.0</td>\n",
       "      <td>0.063358</td>\n",
       "      <td>1</td>\n",
       "      <td>trafo</td>\n",
       "      <td>cimrsbinary</td>\n",
       "      <td>equal</td>\n",
       "    </tr>\n",
       "    <tr>\n",
       "      <th>195</th>\n",
       "      <td>196</td>\n",
       "      <td>(0.0872,1]</td>\n",
       "      <td>0.2</td>\n",
       "      <td>0.025211</td>\n",
       "      <td>0.556095</td>\n",
       "      <td>2.0</td>\n",
       "      <td>0.543603</td>\n",
       "      <td>1</td>\n",
       "      <td>trafo</td>\n",
       "      <td>cimrsbinary</td>\n",
       "      <td>equal</td>\n",
       "    </tr>\n",
       "    <tr>\n",
       "      <th>196</th>\n",
       "      <td>197</td>\n",
       "      <td>[0,0.0861]</td>\n",
       "      <td>0.0</td>\n",
       "      <td>0.000000</td>\n",
       "      <td>0.284914</td>\n",
       "      <td>0.0</td>\n",
       "      <td>0.043045</td>\n",
       "      <td>2</td>\n",
       "      <td>trafo</td>\n",
       "      <td>cimrsbinary</td>\n",
       "      <td>equal</td>\n",
       "    </tr>\n",
       "  </tbody>\n",
       "</table>\n",
       "</div>"
      ],
      "text/plain": [
       "     Unnamed: 0               bin  prop       lwr       upr  cases  midpoint  \\\n",
       "192         193       [0,0.00786]   0.0  0.000000  0.284914    0.0  0.003932   \n",
       "193         194  (0.00786,0.0395]   0.1  0.002529  0.445016    1.0  0.023686   \n",
       "194         195   (0.0395,0.0872]   0.1  0.002529  0.445016    1.0  0.063358   \n",
       "195         196        (0.0872,1]   0.2  0.025211  0.556095    2.0  0.543603   \n",
       "196         197        [0,0.0861]   0.0  0.000000  0.284914    0.0  0.043045   \n",
       "\n",
       "     spl method          mod weights  \n",
       "192    1  trafo  cimrsbinary   equal  \n",
       "193    1  trafo  cimrsbinary   equal  \n",
       "194    1  trafo  cimrsbinary   equal  \n",
       "195    1  trafo  cimrsbinary   equal  \n",
       "196    2  trafo  cimrsbinary   equal  "
      ]
     },
     "execution_count": 102,
     "metadata": {},
     "output_type": "execute_result"
    }
   ],
   "source": [
    "andrea_calplot_dat_spl = pd.read_csv('/tf/notebooks/schnemau/xAI_stroke_3d/data/bincal_splnll.csv')\n",
    "andrea_calplot_cibinary_spl = andrea_calplot_dat_spl[(andrea_calplot_dat_spl[\"mod\"] == \"cimrsbinary\") &\n",
    "                                                     (andrea_calplot_dat_spl[\"method\"] == \"trafo\") &\n",
    "                                                     (andrea_calplot_dat_spl[\"weights\"] == \"equal\")]\n",
    "andrea_calplot_cibinary_spl.head()"
   ]
  },
  {
   "cell_type": "code",
   "execution_count": 104,
   "metadata": {},
   "outputs": [
    {
     "data": {
      "text/html": [
       "<div>\n",
       "<style scoped>\n",
       "    .dataframe tbody tr th:only-of-type {\n",
       "        vertical-align: middle;\n",
       "    }\n",
       "\n",
       "    .dataframe tbody tr th {\n",
       "        vertical-align: top;\n",
       "    }\n",
       "\n",
       "    .dataframe thead th {\n",
       "        text-align: right;\n",
       "    }\n",
       "</style>\n",
       "<table border=\"1\" class=\"dataframe\">\n",
       "  <thead>\n",
       "    <tr style=\"text-align: right;\">\n",
       "      <th></th>\n",
       "      <th>Unnamed: 0</th>\n",
       "      <th>bin</th>\n",
       "      <th>prop</th>\n",
       "      <th>lwr</th>\n",
       "      <th>upr</th>\n",
       "      <th>cases</th>\n",
       "      <th>midpoint</th>\n",
       "      <th>method</th>\n",
       "      <th>mod</th>\n",
       "      <th>weights</th>\n",
       "    </tr>\n",
       "  </thead>\n",
       "  <tbody>\n",
       "    <tr>\n",
       "      <th>108</th>\n",
       "      <td>109</td>\n",
       "      <td>NaN</td>\n",
       "      <td>0.030303</td>\n",
       "      <td>0.000766</td>\n",
       "      <td>0.327536</td>\n",
       "      <td>0.333333</td>\n",
       "      <td>0.024017</td>\n",
       "      <td>trafo</td>\n",
       "      <td>cimrsbinary</td>\n",
       "      <td>equal</td>\n",
       "    </tr>\n",
       "    <tr>\n",
       "      <th>109</th>\n",
       "      <td>110</td>\n",
       "      <td>NaN</td>\n",
       "      <td>0.083333</td>\n",
       "      <td>0.005466</td>\n",
       "      <td>0.418023</td>\n",
       "      <td>0.833333</td>\n",
       "      <td>0.062701</td>\n",
       "      <td>trafo</td>\n",
       "      <td>cimrsbinary</td>\n",
       "      <td>equal</td>\n",
       "    </tr>\n",
       "    <tr>\n",
       "      <th>110</th>\n",
       "      <td>111</td>\n",
       "      <td>NaN</td>\n",
       "      <td>0.250000</td>\n",
       "      <td>0.053544</td>\n",
       "      <td>0.598091</td>\n",
       "      <td>2.500000</td>\n",
       "      <td>0.109624</td>\n",
       "      <td>trafo</td>\n",
       "      <td>cimrsbinary</td>\n",
       "      <td>equal</td>\n",
       "    </tr>\n",
       "    <tr>\n",
       "      <th>111</th>\n",
       "      <td>112</td>\n",
       "      <td>NaN</td>\n",
       "      <td>0.266667</td>\n",
       "      <td>0.058252</td>\n",
       "      <td>0.616015</td>\n",
       "      <td>2.666667</td>\n",
       "      <td>0.570940</td>\n",
       "      <td>trafo</td>\n",
       "      <td>cimrsbinary</td>\n",
       "      <td>equal</td>\n",
       "    </tr>\n",
       "  </tbody>\n",
       "</table>\n",
       "</div>"
      ],
      "text/plain": [
       "     Unnamed: 0  bin      prop       lwr       upr     cases  midpoint method  \\\n",
       "108         109  NaN  0.030303  0.000766  0.327536  0.333333  0.024017  trafo   \n",
       "109         110  NaN  0.083333  0.005466  0.418023  0.833333  0.062701  trafo   \n",
       "110         111  NaN  0.250000  0.053544  0.598091  2.500000  0.109624  trafo   \n",
       "111         112  NaN  0.266667  0.058252  0.616015  2.666667  0.570940  trafo   \n",
       "\n",
       "             mod weights  \n",
       "108  cimrsbinary   equal  \n",
       "109  cimrsbinary   equal  \n",
       "110  cimrsbinary   equal  \n",
       "111  cimrsbinary   equal  "
      ]
     },
     "execution_count": 104,
     "metadata": {},
     "output_type": "execute_result"
    }
   ],
   "source": [
    "andrea_calplot_dat = pd.read_csv('/tf/notebooks/schnemau/xAI_stroke_3d/data/bincal_avgnll.csv')\n",
    "andrea_calplot_cibinary_avg = andrea_calplot_dat[(andrea_calplot_dat[\"mod\"] == \"cimrsbinary\") &\n",
    "                                                 (andrea_calplot_dat[\"method\"] == \"trafo\") &\n",
    "                                                 (andrea_calplot_dat[\"weights\"] == \"equal\")]\n",
    "andrea_calplot_cibinary_avg\n",
    "# cal_plot(andrea_calplot_cibinary_avg, \"midpoint\", \"prop\", \"lwr\", \"upr\")"
   ]
  },
  {
   "cell_type": "code",
   "execution_count": 123,
   "metadata": {},
   "outputs": [],
   "source": [
    "# fake trafo and linear averaging of results on split 6\n",
    "y_preds = np.concatenate(y_preds, axis = 1)\n",
    "y_pred_linear_avg = np.mean(y_preds, axis = 1)\n",
    "y_pred_trafo_avg = fm.sigmoid(np.mean(fm.inverse_sigmoid(y_preds), axis = 1))"
   ]
  },
  {
   "cell_type": "code",
   "execution_count": 124,
   "metadata": {},
   "outputs": [],
   "source": [
    "# calculate calibration plots\n",
    "cal_plot_linear = fm.cal_plot_data_prep(y_pred_linear_avg, y_test)\n",
    "cal_plot_trafo = fm.cal_plot_data_prep(y_pred_trafo_avg, y_test)"
   ]
  },
  {
   "cell_type": "code",
   "execution_count": 125,
   "metadata": {},
   "outputs": [
    {
     "data": {
      "text/html": [
       "<div>\n",
       "<style scoped>\n",
       "    .dataframe tbody tr th:only-of-type {\n",
       "        vertical-align: middle;\n",
       "    }\n",
       "\n",
       "    .dataframe tbody tr th {\n",
       "        vertical-align: top;\n",
       "    }\n",
       "\n",
       "    .dataframe thead th {\n",
       "        text-align: right;\n",
       "    }\n",
       "</style>\n",
       "<table border=\"1\" class=\"dataframe\">\n",
       "  <thead>\n",
       "    <tr style=\"text-align: right;\">\n",
       "      <th></th>\n",
       "      <th>p_idx</th>\n",
       "      <th>p_id</th>\n",
       "      <th>mrs</th>\n",
       "      <th>unfavorable</th>\n",
       "      <th>pred_prob_1</th>\n",
       "      <th>pred_prob_2</th>\n",
       "      <th>pred_prob_3</th>\n",
       "      <th>pred_prob_4</th>\n",
       "      <th>pred_prob_5</th>\n",
       "      <th>pred_prob_linear</th>\n",
       "      <th>pred_prob_trafo</th>\n",
       "      <th>andrea_pred_prob_ens1</th>\n",
       "      <th>andrea_pred_prob_ens2</th>\n",
       "      <th>andrea_pred_prob_ens3</th>\n",
       "      <th>andrea_pred_prob_ens4</th>\n",
       "      <th>andrea_pred_prob_ens5</th>\n",
       "    </tr>\n",
       "  </thead>\n",
       "  <tbody>\n",
       "    <tr>\n",
       "      <th>0</th>\n",
       "      <td>372</td>\n",
       "      <td>516.0</td>\n",
       "      <td>1.0</td>\n",
       "      <td>0</td>\n",
       "      <td>0.033087</td>\n",
       "      <td>0.035890</td>\n",
       "      <td>0.021814</td>\n",
       "      <td>0.036607</td>\n",
       "      <td>0.015162</td>\n",
       "      <td>0.028512</td>\n",
       "      <td>0.027053</td>\n",
       "      <td>0.016478</td>\n",
       "      <td>0.014460</td>\n",
       "      <td>0.012915</td>\n",
       "      <td>0.030665</td>\n",
       "      <td>0.024977</td>\n",
       "    </tr>\n",
       "    <tr>\n",
       "      <th>1</th>\n",
       "      <td>284</td>\n",
       "      <td>376.0</td>\n",
       "      <td>2.0</td>\n",
       "      <td>0</td>\n",
       "      <td>0.054752</td>\n",
       "      <td>0.048233</td>\n",
       "      <td>0.030962</td>\n",
       "      <td>0.065938</td>\n",
       "      <td>0.036211</td>\n",
       "      <td>0.047219</td>\n",
       "      <td>0.045592</td>\n",
       "      <td>0.042760</td>\n",
       "      <td>0.025574</td>\n",
       "      <td>0.018084</td>\n",
       "      <td>0.042981</td>\n",
       "      <td>0.072614</td>\n",
       "    </tr>\n",
       "    <tr>\n",
       "      <th>2</th>\n",
       "      <td>298</td>\n",
       "      <td>390.0</td>\n",
       "      <td>2.0</td>\n",
       "      <td>0</td>\n",
       "      <td>0.177525</td>\n",
       "      <td>0.136966</td>\n",
       "      <td>0.088634</td>\n",
       "      <td>0.262726</td>\n",
       "      <td>0.216284</td>\n",
       "      <td>0.176427</td>\n",
       "      <td>0.167321</td>\n",
       "      <td>0.059779</td>\n",
       "      <td>0.066379</td>\n",
       "      <td>0.081333</td>\n",
       "      <td>0.069178</td>\n",
       "      <td>0.073458</td>\n",
       "    </tr>\n",
       "    <tr>\n",
       "      <th>3</th>\n",
       "      <td>203</td>\n",
       "      <td>286.0</td>\n",
       "      <td>0.0</td>\n",
       "      <td>0</td>\n",
       "      <td>0.299940</td>\n",
       "      <td>0.187881</td>\n",
       "      <td>0.112556</td>\n",
       "      <td>0.181888</td>\n",
       "      <td>0.159077</td>\n",
       "      <td>0.188268</td>\n",
       "      <td>0.181086</td>\n",
       "      <td>0.254392</td>\n",
       "      <td>0.112507</td>\n",
       "      <td>0.291880</td>\n",
       "      <td>0.244444</td>\n",
       "      <td>0.258643</td>\n",
       "    </tr>\n",
       "    <tr>\n",
       "      <th>4</th>\n",
       "      <td>292</td>\n",
       "      <td>384.0</td>\n",
       "      <td>0.0</td>\n",
       "      <td>0</td>\n",
       "      <td>0.023283</td>\n",
       "      <td>0.024699</td>\n",
       "      <td>0.015666</td>\n",
       "      <td>0.035768</td>\n",
       "      <td>0.012427</td>\n",
       "      <td>0.022369</td>\n",
       "      <td>0.020949</td>\n",
       "      <td>0.003612</td>\n",
       "      <td>0.003291</td>\n",
       "      <td>0.002851</td>\n",
       "      <td>0.011365</td>\n",
       "      <td>0.012432</td>\n",
       "    </tr>\n",
       "  </tbody>\n",
       "</table>\n",
       "</div>"
      ],
      "text/plain": [
       "   p_idx   p_id  mrs  unfavorable  pred_prob_1  pred_prob_2  pred_prob_3  \\\n",
       "0    372  516.0  1.0            0     0.033087     0.035890     0.021814   \n",
       "1    284  376.0  2.0            0     0.054752     0.048233     0.030962   \n",
       "2    298  390.0  2.0            0     0.177525     0.136966     0.088634   \n",
       "3    203  286.0  0.0            0     0.299940     0.187881     0.112556   \n",
       "4    292  384.0  0.0            0     0.023283     0.024699     0.015666   \n",
       "\n",
       "   pred_prob_4  pred_prob_5  pred_prob_linear  pred_prob_trafo  \\\n",
       "0     0.036607     0.015162          0.028512         0.027053   \n",
       "1     0.065938     0.036211          0.047219         0.045592   \n",
       "2     0.262726     0.216284          0.176427         0.167321   \n",
       "3     0.181888     0.159077          0.188268         0.181086   \n",
       "4     0.035768     0.012427          0.022369         0.020949   \n",
       "\n",
       "   andrea_pred_prob_ens1  andrea_pred_prob_ens2  andrea_pred_prob_ens3  \\\n",
       "0               0.016478               0.014460               0.012915   \n",
       "1               0.042760               0.025574               0.018084   \n",
       "2               0.059779               0.066379               0.081333   \n",
       "3               0.254392               0.112507               0.291880   \n",
       "4               0.003612               0.003291               0.002851   \n",
       "\n",
       "   andrea_pred_prob_ens4  andrea_pred_prob_ens5  \n",
       "0               0.030665               0.024977  \n",
       "1               0.042981               0.072614  \n",
       "2               0.069178               0.073458  \n",
       "3               0.244444               0.258643  \n",
       "4               0.011365               0.012432  "
      ]
     },
     "execution_count": 125,
     "metadata": {},
     "output_type": "execute_result"
    }
   ],
   "source": [
    "results = pd.DataFrame(\n",
    "    {\"p_idx\": test_idx+1,\n",
    "     \"p_id\": p_id[test_idx],\n",
    "     \"mrs\": Y_mrs[test_idx],\n",
    "     \"unfavorable\": y_test,\n",
    "     \"pred_prob_1\": y_preds[:,0], \n",
    "     \"pred_prob_2\": y_preds[:,1], \n",
    "     \"pred_prob_3\": y_preds[:,2], \n",
    "     \"pred_prob_4\": y_preds[:,3], \n",
    "     \"pred_prob_5\": y_preds[:,4], \n",
    "     \"pred_prob_linear\" : y_pred_linear_avg,\n",
    "     \"pred_prob_trafo\" : y_pred_trafo_avg,\n",
    "     \"andrea_pred_prob_ens1\": 1-andrea_results_ens1[\"V2\"],\n",
    "     \"andrea_pred_prob_ens2\": 1-andrea_results_ens2[\"V2\"],\n",
    "     \"andrea_pred_prob_ens3\": 1-andrea_results_ens3[\"V2\"],\n",
    "     \"andrea_pred_prob_ens4\": 1-andrea_results_ens4[\"V2\"],\n",
    "     \"andrea_pred_prob_ens5\": 1-andrea_results_ens5[\"V2\"]\n",
    "    }\n",
    ")\n",
    "results.head()"
   ]
  },
  {
   "cell_type": "code",
   "execution_count": 126,
   "metadata": {},
   "outputs": [],
   "source": [
    "# do fake trafo averaging of andreas results\n",
    "results[\"andrea_pred_prob_trafo\"] = fm.sigmoid(np.mean(fm.inverse_sigmoid(results[\n",
    "    [\"andrea_pred_prob_ens1\", \"andrea_pred_prob_ens2\", \"andrea_pred_prob_ens3\", \"andrea_pred_prob_ens4\", \"andrea_pred_prob_ens5\"]\n",
    "    ]), axis = 1))\n",
    "andrea_calplot_spl6_new = fm.cal_plot_data_prep(results[\"andrea_pred_prob_trafo\"], y_test)"
   ]
  },
  {
   "cell_type": "code",
   "execution_count": 127,
   "metadata": {
    "scrolled": false
   },
   "outputs": [
    {
     "data": {
      "text/html": [
       "<div>\n",
       "<style scoped>\n",
       "    .dataframe tbody tr th:only-of-type {\n",
       "        vertical-align: middle;\n",
       "    }\n",
       "\n",
       "    .dataframe tbody tr th {\n",
       "        vertical-align: top;\n",
       "    }\n",
       "\n",
       "    .dataframe thead th {\n",
       "        text-align: right;\n",
       "    }\n",
       "</style>\n",
       "<table border=\"1\" class=\"dataframe\">\n",
       "  <thead>\n",
       "    <tr style=\"text-align: right;\">\n",
       "      <th></th>\n",
       "      <th>predicted_probability_mean</th>\n",
       "      <th>predicted_probability_middle</th>\n",
       "      <th>observed_proportion</th>\n",
       "      <th>observed_proportion_lower</th>\n",
       "      <th>observed_proportion_upper</th>\n",
       "      <th>observed_cases</th>\n",
       "      <th>bin_cuts</th>\n",
       "    </tr>\n",
       "  </thead>\n",
       "  <tbody>\n",
       "    <tr>\n",
       "      <th>0</th>\n",
       "      <td>0.011203</td>\n",
       "      <td>0.018155</td>\n",
       "      <td>0.000000</td>\n",
       "      <td>0.000000</td>\n",
       "      <td>0.277533</td>\n",
       "      <td>0</td>\n",
       "      <td>[0.     0.0363]</td>\n",
       "    </tr>\n",
       "    <tr>\n",
       "      <th>1</th>\n",
       "      <td>0.059238</td>\n",
       "      <td>0.065414</td>\n",
       "      <td>0.100000</td>\n",
       "      <td>0.017876</td>\n",
       "      <td>0.404150</td>\n",
       "      <td>1</td>\n",
       "      <td>[0.0363 0.0945]</td>\n",
       "    </tr>\n",
       "    <tr>\n",
       "      <th>2</th>\n",
       "      <td>0.140413</td>\n",
       "      <td>0.158823</td>\n",
       "      <td>0.100000</td>\n",
       "      <td>0.017876</td>\n",
       "      <td>0.404150</td>\n",
       "      <td>1</td>\n",
       "      <td>[0.0945 0.2231]</td>\n",
       "    </tr>\n",
       "    <tr>\n",
       "      <th>3</th>\n",
       "      <td>0.299310</td>\n",
       "      <td>0.611563</td>\n",
       "      <td>0.363636</td>\n",
       "      <td>0.151665</td>\n",
       "      <td>0.646199</td>\n",
       "      <td>4</td>\n",
       "      <td>[0.2231 1.    ]</td>\n",
       "    </tr>\n",
       "  </tbody>\n",
       "</table>\n",
       "</div>"
      ],
      "text/plain": [
       "   predicted_probability_mean  predicted_probability_middle  \\\n",
       "0                    0.011203                      0.018155   \n",
       "1                    0.059238                      0.065414   \n",
       "2                    0.140413                      0.158823   \n",
       "3                    0.299310                      0.611563   \n",
       "\n",
       "   observed_proportion  observed_proportion_lower  observed_proportion_upper  \\\n",
       "0             0.000000                   0.000000                   0.277533   \n",
       "1             0.100000                   0.017876                   0.404150   \n",
       "2             0.100000                   0.017876                   0.404150   \n",
       "3             0.363636                   0.151665                   0.646199   \n",
       "\n",
       "   observed_cases         bin_cuts  \n",
       "0               0  [0.     0.0363]  \n",
       "1               1  [0.0363 0.0945]  \n",
       "2               1  [0.0945 0.2231]  \n",
       "3               4  [0.2231 1.    ]  "
      ]
     },
     "execution_count": 127,
     "metadata": {},
     "output_type": "execute_result"
    }
   ],
   "source": [
    "andrea_calplot_spl6_new"
   ]
  },
  {
   "cell_type": "markdown",
   "metadata": {},
   "source": [
    "## Results of Ensemble"
   ]
  },
  {
   "cell_type": "code",
   "execution_count": 128,
   "metadata": {},
   "outputs": [
    {
     "name": "stdout",
     "output_type": "stream",
     "text": [
      "\n",
      "Performance on Test Set : \n",
      "Accuracy: 0.8537\n",
      "Area under Curve (AUC) Binary : 0.5\n",
      "Area under Curve (AUC) Probability : 0.7619\n",
      "Negative Log-Likelihood : 0.3618\n",
      "Confusion Matrix : \n",
      " [[35  0]\n",
      " [ 6  0]]\n"
     ]
    }
   ],
   "source": [
    "# Results Andrea\n",
    "fm.calc_metrics(results[\"unfavorable\"], results[\"andrea_pred_prob_trafo\"])"
   ]
  },
  {
   "cell_type": "code",
   "execution_count": 129,
   "metadata": {},
   "outputs": [
    {
     "name": "stdout",
     "output_type": "stream",
     "text": [
      "\n",
      "Performance on Test Set : \n",
      "Accuracy: 0.8537\n",
      "Area under Curve (AUC) Binary : 0.5\n",
      "Area under Curve (AUC) Probability : 0.819\n",
      "Negative Log-Likelihood : 0.345\n",
      "Confusion Matrix : \n",
      " [[35  0]\n",
      " [ 6  0]]\n"
     ]
    }
   ],
   "source": [
    " # Results Python \n",
    "fm.calc_metrics(results[\"unfavorable\"], results[\"pred_prob_trafo\"])"
   ]
  },
  {
   "cell_type": "code",
   "execution_count": 130,
   "metadata": {},
   "outputs": [
    {
     "data": {
      "image/png": "[encoded data removed]",
      "text/plain": [
       "<Figure size 432x288 with 1 Axes>"
      ]
     },
     "metadata": {
      "needs_background": "light"
     },
     "output_type": "display_data"
    }
   ],
   "source": [
    "# Plot AUC of Python and Andrea's results\n",
    "fpr, tpr, threshold = metrics.roc_curve(results[\"unfavorable\"], results[\"pred_prob_trafo\"])\n",
    "roc_auc = metrics.auc(fpr, tpr)  \n",
    "plt.plot(fpr, tpr, label = 'AUC Python = %0.2f' % roc_auc)\n",
    "fpr, tpr, threshold = metrics.roc_curve(results[\"unfavorable\"], results[\"andrea_pred_prob_trafo\"])\n",
    "roc_auc = metrics.auc(fpr, tpr)  \n",
    "plt.plot(fpr, tpr, label = 'AUC Andrea = %0.2f' % roc_auc)\n",
    "\n",
    "plt.legend(loc = 'lower right')\n",
    "plt.plot([0, 1], [0, 1],'b--')\n",
    "plt.xlim([0, 1])\n",
    "plt.ylim([0, 1])\n",
    "plt.ylabel('True Positive Rate')\n",
    "plt.xlabel('False Positive Rate')\n",
    "plt.show()"
   ]
  },
  {
   "cell_type": "code",
   "execution_count": 131,
   "metadata": {},
   "outputs": [
    {
     "data": {
      "text/plain": [
       "array([1.45264093, 0.45264093, 0.35237278, 0.30734543, 0.24994242,\n",
       "       0.23467146, 0.22414097, 0.22312551, 0.16462666, 0.14431584,\n",
       "       0.09451965, 0.08808498, 0.00254905])"
      ]
     },
     "execution_count": 131,
     "metadata": {},
     "output_type": "execute_result"
    }
   ],
   "source": [
    "threshold"
   ]
  },
  {
   "cell_type": "markdown",
   "metadata": {},
   "source": [
    "## Calibration Plots"
   ]
  },
  {
   "cell_type": "code",
   "execution_count": 132,
   "metadata": {},
   "outputs": [],
   "source": [
    "#!pip install seaborn\n",
    "import seaborn as sns"
   ]
  },
  {
   "cell_type": "code",
   "execution_count": 133,
   "metadata": {},
   "outputs": [
    {
     "data": {
      "image/png": "[encoded data removed]",
      "text/plain": [
       "<Figure size 432x288 with 1 Axes>"
      ]
     },
     "metadata": {
      "needs_background": "light"
     },
     "output_type": "display_data"
    }
   ],
   "source": [
    "# calplot of each ensemble with linear (green) and trafo (orange) averaged for split 6\n",
    "for i in range(5):\n",
    "    fm.cal_plot(cal_plot_datas[i], \n",
    "             \"predicted_probability_middle\", \"observed_proportion\",\n",
    "                        \"observed_proportion_lower\", \"observed_proportion_upper\", alpha = .35, show = False)\n",
    "fm.cal_plot(cal_plot_linear, \"predicted_probability_middle\", \"observed_proportion\",\n",
    "                        \"observed_proportion_lower\", \"observed_proportion_upper\", col = \"green\", show = False)\n",
    "# # additionaly in blue averaged over all calplots\n",
    "# fm.cal_plot(sum(cal_plot_datas)/5, \"predicted_probability_middle\", \"observed_proportion\",\n",
    "#                         \"observed_proportion_lower\", \"observed_proportion_upper\", col = \"blue\", show = False)\n",
    "fm.cal_plot(cal_plot_trafo, \"predicted_probability_middle\", \"observed_proportion\",\n",
    "                        \"observed_proportion_lower\", \"observed_proportion_upper\", col = \"orange\")"
   ]
  },
  {
   "cell_type": "code",
   "execution_count": 134,
   "metadata": {},
   "outputs": [
    {
     "name": "stderr",
     "output_type": "stream",
     "text": [
      "/usr/local/lib/python3.6/dist-packages/ipykernel_launcher.py:1: SettingWithCopyWarning: \n",
      "A value is trying to be set on a copy of a slice from a DataFrame.\n",
      "Try using .loc[row_indexer,col_indexer] = value instead\n",
      "\n",
      "See the caveats in the documentation: https://pandas.pydata.org/pandas-docs/stable/user_guide/indexing.html#returning-a-view-versus-a-copy\n",
      "  \"\"\"Entry point for launching an IPython kernel.\n"
     ]
    }
   ],
   "source": [
    "andrea_calplot_cibinary_spl[\"bin_num\"] = np.array(list(range(4))*6)\n",
    "andrea_calplot_cibinary_spl_avg = andrea_calplot_cibinary_spl.groupby(\"bin_num\")[[\"prop\", \"lwr\", \"upr\", \"midpoint\"]].mean()"
   ]
  },
  {
   "cell_type": "code",
   "execution_count": 135,
   "metadata": {},
   "outputs": [
    {
     "data": {
      "image/png": "[encoded data removed]",
      "text/plain": [
       "<Figure size 432x288 with 1 Axes>"
      ]
     },
     "metadata": {
      "needs_background": "light"
     },
     "output_type": "display_data"
    }
   ],
   "source": [
    "# plot as is in paper: per split (already trafo over each split) and averaged\n",
    "# in green averaged directly shouldn't be visible as it should be same as the blue one\n",
    "# in orange trafo averaged of own implementation of split 6\n",
    "for i in range(6):\n",
    "    fm.cal_plot(andrea_calplot_cibinary_spl[andrea_calplot_cibinary_spl[\"spl\"] == i+1], \n",
    "             \"midpoint\", \"prop\", \"lwr\", \"upr\", alpha = .35, show = False)\n",
    "fm.cal_plot(andrea_calplot_cibinary_spl_avg, \"midpoint\", \"prop\", \"lwr\", \"upr\", col = \"green\", show = False)\n",
    "fm.cal_plot(andrea_calplot_cibinary_avg, \"midpoint\", \"prop\", \"lwr\", \"upr\", show = False)\n",
    "\n",
    "fm.cal_plot(cal_plot_trafo, \"predicted_probability_middle\", \"observed_proportion\",\n",
    "                        \"observed_proportion_lower\", \"observed_proportion_upper\", col = \"orange\")"
   ]
  },
  {
   "cell_type": "code",
   "execution_count": 136,
   "metadata": {},
   "outputs": [
    {
     "data": {
      "image/png": "[encoded data removed]",
      "text/plain": [
       "<Figure size 432x288 with 1 Axes>"
      ]
     },
     "metadata": {
      "needs_background": "light"
     },
     "output_type": "display_data"
    }
   ],
   "source": [
    "# cal plot comparision of split 6 \n",
    "# blue: andrea original\n",
    "# green: andrea calculated numbers based on results on each ensemble, trafo averaged\n",
    "# orange: own implementation, trafo averaged\n",
    "# -------------------------------\n",
    "# green and blue should be same\n",
    "fm.cal_plot(andrea_calplot_cibinary_spl[andrea_calplot_cibinary_spl[\"spl\"] == 6], \n",
    "             \"midpoint\", \"prop\", \"lwr\", \"upr\", show = False)\n",
    "fm.cal_plot(andrea_calplot_spl6_new, \n",
    "         \"predicted_probability_middle\", \"observed_proportion\", \"observed_proportion_lower\", \"observed_proportion_upper\", \n",
    "         col = \"green\", show = False)\n",
    "fm.cal_plot(cal_plot_trafo, \n",
    "         \"predicted_probability_middle\", \"observed_proportion\", \"observed_proportion_lower\", \"observed_proportion_upper\", \n",
    "         col = \"orange\")\n"
   ]
  },
  {
   "cell_type": "code",
   "execution_count": 137,
   "metadata": {},
   "outputs": [
    {
     "data": {
      "text/html": [
       "<div>\n",
       "<style scoped>\n",
       "    .dataframe tbody tr th:only-of-type {\n",
       "        vertical-align: middle;\n",
       "    }\n",
       "\n",
       "    .dataframe tbody tr th {\n",
       "        vertical-align: top;\n",
       "    }\n",
       "\n",
       "    .dataframe thead th {\n",
       "        text-align: right;\n",
       "    }\n",
       "</style>\n",
       "<table border=\"1\" class=\"dataframe\">\n",
       "  <thead>\n",
       "    <tr style=\"text-align: right;\">\n",
       "      <th></th>\n",
       "      <th>predicted_probability_mean</th>\n",
       "      <th>predicted_probability_middle</th>\n",
       "      <th>observed_proportion</th>\n",
       "      <th>observed_proportion_lower</th>\n",
       "      <th>observed_proportion_upper</th>\n",
       "      <th>observed_cases</th>\n",
       "      <th>bin_cuts</th>\n",
       "    </tr>\n",
       "  </thead>\n",
       "  <tbody>\n",
       "    <tr>\n",
       "      <th>0</th>\n",
       "      <td>0.011203</td>\n",
       "      <td>0.018155</td>\n",
       "      <td>0.000000</td>\n",
       "      <td>0.000000</td>\n",
       "      <td>0.277533</td>\n",
       "      <td>0</td>\n",
       "      <td>[0.     0.0363]</td>\n",
       "    </tr>\n",
       "    <tr>\n",
       "      <th>1</th>\n",
       "      <td>0.059238</td>\n",
       "      <td>0.065414</td>\n",
       "      <td>0.100000</td>\n",
       "      <td>0.017876</td>\n",
       "      <td>0.404150</td>\n",
       "      <td>1</td>\n",
       "      <td>[0.0363 0.0945]</td>\n",
       "    </tr>\n",
       "    <tr>\n",
       "      <th>2</th>\n",
       "      <td>0.140413</td>\n",
       "      <td>0.158823</td>\n",
       "      <td>0.100000</td>\n",
       "      <td>0.017876</td>\n",
       "      <td>0.404150</td>\n",
       "      <td>1</td>\n",
       "      <td>[0.0945 0.2231]</td>\n",
       "    </tr>\n",
       "    <tr>\n",
       "      <th>3</th>\n",
       "      <td>0.299310</td>\n",
       "      <td>0.611563</td>\n",
       "      <td>0.363636</td>\n",
       "      <td>0.151665</td>\n",
       "      <td>0.646199</td>\n",
       "      <td>4</td>\n",
       "      <td>[0.2231 1.    ]</td>\n",
       "    </tr>\n",
       "  </tbody>\n",
       "</table>\n",
       "</div>"
      ],
      "text/plain": [
       "   predicted_probability_mean  predicted_probability_middle  \\\n",
       "0                    0.011203                      0.018155   \n",
       "1                    0.059238                      0.065414   \n",
       "2                    0.140413                      0.158823   \n",
       "3                    0.299310                      0.611563   \n",
       "\n",
       "   observed_proportion  observed_proportion_lower  observed_proportion_upper  \\\n",
       "0             0.000000                   0.000000                   0.277533   \n",
       "1             0.100000                   0.017876                   0.404150   \n",
       "2             0.100000                   0.017876                   0.404150   \n",
       "3             0.363636                   0.151665                   0.646199   \n",
       "\n",
       "   observed_cases         bin_cuts  \n",
       "0               0  [0.     0.0363]  \n",
       "1               1  [0.0363 0.0945]  \n",
       "2               1  [0.0945 0.2231]  \n",
       "3               4  [0.2231 1.    ]  "
      ]
     },
     "execution_count": 137,
     "metadata": {},
     "output_type": "execute_result"
    }
   ],
   "source": [
    "andrea_calplot_spl6_new"
   ]
  },
  {
   "cell_type": "code",
   "execution_count": 138,
   "metadata": {},
   "outputs": [
    {
     "data": {
      "text/html": [
       "<div>\n",
       "<style scoped>\n",
       "    .dataframe tbody tr th:only-of-type {\n",
       "        vertical-align: middle;\n",
       "    }\n",
       "\n",
       "    .dataframe tbody tr th {\n",
       "        vertical-align: top;\n",
       "    }\n",
       "\n",
       "    .dataframe thead th {\n",
       "        text-align: right;\n",
       "    }\n",
       "</style>\n",
       "<table border=\"1\" class=\"dataframe\">\n",
       "  <thead>\n",
       "    <tr style=\"text-align: right;\">\n",
       "      <th></th>\n",
       "      <th>Unnamed: 0</th>\n",
       "      <th>bin</th>\n",
       "      <th>prop</th>\n",
       "      <th>lwr</th>\n",
       "      <th>upr</th>\n",
       "      <th>cases</th>\n",
       "      <th>midpoint</th>\n",
       "      <th>spl</th>\n",
       "      <th>method</th>\n",
       "      <th>mod</th>\n",
       "      <th>weights</th>\n",
       "      <th>bin_num</th>\n",
       "    </tr>\n",
       "  </thead>\n",
       "  <tbody>\n",
       "    <tr>\n",
       "      <th>212</th>\n",
       "      <td>213</td>\n",
       "      <td>[0,0.0363]</td>\n",
       "      <td>0.0</td>\n",
       "      <td>0.000000</td>\n",
       "      <td>0.284914</td>\n",
       "      <td>0.0</td>\n",
       "      <td>0.018155</td>\n",
       "      <td>6</td>\n",
       "      <td>trafo</td>\n",
       "      <td>cimrsbinary</td>\n",
       "      <td>equal</td>\n",
       "      <td>0</td>\n",
       "    </tr>\n",
       "    <tr>\n",
       "      <th>213</th>\n",
       "      <td>214</td>\n",
       "      <td>(0.0363,0.0945]</td>\n",
       "      <td>0.1</td>\n",
       "      <td>0.002529</td>\n",
       "      <td>0.445016</td>\n",
       "      <td>1.0</td>\n",
       "      <td>0.065414</td>\n",
       "      <td>6</td>\n",
       "      <td>trafo</td>\n",
       "      <td>cimrsbinary</td>\n",
       "      <td>equal</td>\n",
       "      <td>1</td>\n",
       "    </tr>\n",
       "    <tr>\n",
       "      <th>214</th>\n",
       "      <td>215</td>\n",
       "      <td>(0.0945,0.223]</td>\n",
       "      <td>0.2</td>\n",
       "      <td>0.025211</td>\n",
       "      <td>0.556095</td>\n",
       "      <td>2.0</td>\n",
       "      <td>0.158823</td>\n",
       "      <td>6</td>\n",
       "      <td>trafo</td>\n",
       "      <td>cimrsbinary</td>\n",
       "      <td>equal</td>\n",
       "      <td>2</td>\n",
       "    </tr>\n",
       "    <tr>\n",
       "      <th>215</th>\n",
       "      <td>216</td>\n",
       "      <td>(0.223,1]</td>\n",
       "      <td>0.3</td>\n",
       "      <td>0.066740</td>\n",
       "      <td>0.652453</td>\n",
       "      <td>3.0</td>\n",
       "      <td>0.611563</td>\n",
       "      <td>6</td>\n",
       "      <td>trafo</td>\n",
       "      <td>cimrsbinary</td>\n",
       "      <td>equal</td>\n",
       "      <td>3</td>\n",
       "    </tr>\n",
       "  </tbody>\n",
       "</table>\n",
       "</div>"
      ],
      "text/plain": [
       "     Unnamed: 0              bin  prop       lwr       upr  cases  midpoint  \\\n",
       "212         213       [0,0.0363]   0.0  0.000000  0.284914    0.0  0.018155   \n",
       "213         214  (0.0363,0.0945]   0.1  0.002529  0.445016    1.0  0.065414   \n",
       "214         215   (0.0945,0.223]   0.2  0.025211  0.556095    2.0  0.158823   \n",
       "215         216        (0.223,1]   0.3  0.066740  0.652453    3.0  0.611563   \n",
       "\n",
       "     spl method          mod weights  bin_num  \n",
       "212    6  trafo  cimrsbinary   equal        0  \n",
       "213    6  trafo  cimrsbinary   equal        1  \n",
       "214    6  trafo  cimrsbinary   equal        2  \n",
       "215    6  trafo  cimrsbinary   equal        3  "
      ]
     },
     "execution_count": 138,
     "metadata": {},
     "output_type": "execute_result"
    }
   ],
   "source": [
    "andrea_calplot_cibinary_spl[andrea_calplot_cibinary_spl[\"spl\"] == 6]"
   ]
  },
  {
   "cell_type": "markdown",
   "metadata": {},
   "source": [
    "## Patient Comparison"
   ]
  },
  {
   "cell_type": "markdown",
   "metadata": {},
   "source": [
    "Multiple scatter plots with different comparison methods"
   ]
  },
  {
   "cell_type": "code",
   "execution_count": 139,
   "metadata": {},
   "outputs": [
    {
     "data": {
      "text/plain": [
       "[<matplotlib.lines.Line2D at 0x7f22a424ff60>]"
      ]
     },
     "execution_count": 139,
     "metadata": {},
     "output_type": "execute_result"
    },
    {
     "data": {
      "image/png": "[encoded data removed]",
      "text/plain": [
       "<Figure size 432x288 with 1 Axes>"
      ]
     },
     "metadata": {
      "needs_background": "light"
     },
     "output_type": "display_data"
    }
   ],
   "source": [
    "g = sns.scatterplot(data=results, x=\"pred_prob_trafo\", y=\"pred_prob_linear\", hue = \"unfavorable\")\n",
    "plt.legend(loc='lower right')\n",
    "g.set(ylim=(0, 1), xlim=(0,1))\n",
    "g.plot([0,1], [0,1], \"r--\")"
   ]
  },
  {
   "cell_type": "code",
   "execution_count": 140,
   "metadata": {},
   "outputs": [
    {
     "data": {
      "text/plain": [
       "[<matplotlib.lines.Line2D at 0x7f22a42c70b8>]"
      ]
     },
     "execution_count": 140,
     "metadata": {},
     "output_type": "execute_result"
    },
    {
     "data": {
      "image/png": "[encoded data removed]",
      "text/plain": [
       "<Figure size 432x288 with 1 Axes>"
      ]
     },
     "metadata": {
      "needs_background": "light"
     },
     "output_type": "display_data"
    }
   ],
   "source": [
    "g = sns.scatterplot(data=results, x=\"pred_prob_trafo\", y=\"andrea_pred_prob_trafo\", hue = \"unfavorable\")\n",
    "plt.legend(loc='lower right')\n",
    "g.set(ylim=(0, 1), xlim=(0,1))\n",
    "g.plot([0,1], [0,1], \"r--\")"
   ]
  },
  {
   "cell_type": "code",
   "execution_count": 141,
   "metadata": {},
   "outputs": [
    {
     "data": {
      "text/plain": [
       "[<matplotlib.lines.Line2D at 0x7f228478b6d8>]"
      ]
     },
     "execution_count": 141,
     "metadata": {},
     "output_type": "execute_result"
    },
    {
     "data": {
      "image/png": "[encoded data removed]",
      "text/plain": [
       "<Figure size 432x288 with 1 Axes>"
      ]
     },
     "metadata": {
      "needs_background": "light"
     },
     "output_type": "display_data"
    }
   ],
   "source": [
    "g = sns.scatterplot(data=results, x=\"pred_prob_2\", y=\"pred_prob_5\", hue = \"unfavorable\")\n",
    "plt.legend(loc='lower right')\n",
    "g.set(ylim=(0, 1), xlim=(0,1))\n",
    "g.plot([0,1], [0,1], \"r--\")"
   ]
  },
  {
   "cell_type": "code",
   "execution_count": 142,
   "metadata": {},
   "outputs": [
    {
     "data": {
      "text/plain": [
       "[<matplotlib.lines.Line2D at 0x7f2284710898>]"
      ]
     },
     "execution_count": 142,
     "metadata": {},
     "output_type": "execute_result"
    },
    {
     "data": {
      "image/png": "[encoded data removed]",
      "text/plain": [
       "<Figure size 432x288 with 1 Axes>"
      ]
     },
     "metadata": {
      "needs_background": "light"
     },
     "output_type": "display_data"
    }
   ],
   "source": [
    "g = sns.scatterplot(data=results, x=\"andrea_pred_prob_ens2\", y=\"andrea_pred_prob_ens5\", hue = \"unfavorable\")\n",
    "plt.legend(loc='lower right')\n",
    "g.set(ylim=(0, 1), xlim=(0,1))\n",
    "g.plot([0,1], [0,1], \"r--\")"
   ]
  },
  {
   "cell_type": "code",
   "execution_count": 143,
   "metadata": {},
   "outputs": [
    {
     "data": {
      "text/plain": [
       "[<matplotlib.lines.Line2D at 0x7f228468e2e8>]"
      ]
     },
     "execution_count": 143,
     "metadata": {},
     "output_type": "execute_result"
    },
    {
     "data": {
      "image/png": "[encoded data removed]",
      "text/plain": [
       "<Figure size 432x288 with 1 Axes>"
      ]
     },
     "metadata": {
      "needs_background": "light"
     },
     "output_type": "display_data"
    }
   ],
   "source": [
    "g = sns.scatterplot(data=results, x=\"pred_prob_1\", y=\"andrea_pred_prob_ens1\", hue = \"unfavorable\")\n",
    "plt.legend(loc='lower right')\n",
    "g.set(ylim=(0, 1), xlim=(0,1))\n",
    "g.plot([0,1], [0,1], \"r--\")"
   ]
  }
 ],
 "metadata": {
  "kernelspec": {
   "display_name": "Python 3",
   "language": "python",
   "name": "python3"
  },
  "language_info": {
   "codemirror_mode": {
    "name": "ipython",
    "version": 3
   },
   "file_extension": ".py",
   "mimetype": "text/x-python",
   "name": "python",
   "nbconvert_exporter": "python",
   "pygments_lexer": "ipython3",
   "version": "3.6.9"
  }
 },
 "nbformat": 4,
 "nbformat_minor": 2
}
